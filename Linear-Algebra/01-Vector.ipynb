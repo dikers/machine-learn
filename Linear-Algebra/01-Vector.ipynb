{
 "cells": [
  {
   "cell_type": "markdown",
   "metadata": {},
   "source": [
    "# 第一章  向量"
   ]
  },
  {
   "cell_type": "markdown",
   "metadata": {},
   "source": [
    "1. 向量 通常指列向量(印刷方便， 显示为行向量)\n",
    "2. "
   ]
  },
  {
   "cell_type": "code",
   "execution_count": 1,
   "metadata": {},
   "outputs": [],
   "source": [
    "EPSILON = 1e-8"
   ]
  },
  {
   "cell_type": "code",
   "execution_count": 1,
   "metadata": {},
   "outputs": [],
   "source": [
    "import math\n",
    "\n",
    "\n",
    "class Vector:\n",
    "    def __init__(self, lst):\n",
    "        \n",
    "        self._values = list(lst)\n",
    "        \n",
    "    def __getitem__(self, index):\n",
    "        return self._values[index]\n",
    "    \n",
    "    def __repr__(self):\n",
    "        return 'Vector({})'.format(self._values)\n",
    "    \n",
    "    def __len__(self):\n",
    "        return len(self._values)\n",
    "    \n",
    "    def __add__(self, another):\n",
    "        assert len(self) == len(another), \\\n",
    "        \"Error in adding. Length of vectors must be same. \"\n",
    "        return Vector([a + b for a, b in zip(self, another)])\n",
    "    \n",
    "    def underlying_list(self):\n",
    "        return self._values\n",
    "    \n",
    "    def __sub__(self, another):\n",
    "        assert len(self) == len(another), \\\n",
    "        \"Error in subing. Length of vectors must be same. \"\n",
    "        return Vector([a - b for a, b in zip(self, another)])\n",
    "    \n",
    "    def __mul__(self, k):\n",
    "        return Vector([k*e for e in self])\n",
    "    \n",
    "    def __rmul__(self, k):\n",
    "        return self * k\n",
    "    \n",
    "    def __truediv__(self, k):\n",
    "        return (1/k)*self \n",
    "    \n",
    "    def __pos__(self):\n",
    "        return 1 * self\n",
    "        \n",
    "    def __neg__(self):\n",
    "        return -1 * self\n",
    "    \n",
    "    def __iter__(self):\n",
    "        return self._values.__iter__()\n",
    "    \n",
    "    def __str__(self):\n",
    "        return '({})'.format(', '.join(str(e) for e in self._values))\n",
    "    \n",
    "    @classmethod\n",
    "    def zero(cls, dim):\n",
    "        return cls([0] * dim)\n",
    "    \n",
    "    def norm(self):\n",
    "        return math.sqrt(sum(e**2 for e in self))\n",
    "    \n",
    "    def dot(self, another):\n",
    "        \"\"\"向量的点乘\"\"\"\n",
    "        assert len(self) == len(another), \\\n",
    "        \"Error in subing. Length of vectors must be same. \"\n",
    "        return sum(a * b for a, b in zip(self, another))\n",
    "    \n",
    "    def normalize(self):\n",
    "        if self.norm() -0.0 < EPSILON:\n",
    "            raise ZeroDivisionError(\"Normalize error! norm is zero vector {} .\".format(self._values))\n",
    "        return Vector(self._values) / self.norm() \n",
    "    \n",
    "   "
   ]
  },
  {
   "cell_type": "code",
   "execution_count": 3,
   "metadata": {},
   "outputs": [
    {
     "name": "stdout",
     "output_type": "stream",
     "text": [
      "(0, 2)\n",
      "2\n",
      "(6, 6)\n",
      "(0, -2)\n",
      "(3, 0)\n",
      "2.0\n",
      "(1.0, 0.0)\n",
      "0\n"
     ]
    }
   ],
   "source": [
    "v = Vector([0,2])\n",
    "u = Vector([3,0])\n",
    "print(v)\n",
    "print(len(v))\n",
    "v[0]\n",
    "print(2*u+  3*v )\n",
    "print(-v)\n",
    "print(+u)\n",
    "zero2 = Vector.zero(2)\n",
    "print(v.norm())\n",
    "print(u.normalize())\n",
    "\n",
    "print(v.dot(u))\n"
   ]
  },
  {
   "cell_type": "code",
   "execution_count": 7,
   "metadata": {},
   "outputs": [
    {
     "name": "stdout",
     "output_type": "stream",
     "text": [
      "0.0\n"
     ]
    }
   ],
   "source": [
    "cos_ = v.dot(u) / (v.norm() * u.norm())\n",
    "print(cos_)"
   ]
  },
  {
   "cell_type": "code",
   "execution_count": 5,
   "metadata": {},
   "outputs": [
    {
     "data": {
      "text/plain": [
       "0.0"
      ]
     },
     "execution_count": 5,
     "metadata": {},
     "output_type": "execute_result"
    }
   ],
   "source": []
  },
  {
   "cell_type": "code",
   "execution_count": 11,
   "metadata": {},
   "outputs": [
    {
     "name": "stdout",
     "output_type": "stream",
     "text": [
      "1.16.4\n"
     ]
    }
   ],
   "source": [
    "import numpy as np \n",
    "from playLA.Vector import Vector\n",
    "print(np.__version__)"
   ]
  },
  {
   "cell_type": "code",
   "execution_count": 13,
   "metadata": {},
   "outputs": [],
   "source": [
    "lst = [1, 3,3]\n",
    "lst[0] = \"Linerar Algebra\""
   ]
  },
  {
   "cell_type": "code",
   "execution_count": 21,
   "metadata": {},
   "outputs": [
    {
     "data": {
      "text/plain": [
       "array([[4, 4, 4],\n",
       "       [4, 4, 4]])"
      ]
     },
     "execution_count": 21,
     "metadata": {},
     "output_type": "execute_result"
    }
   ],
   "source": [
    "np.full((2,3), 4)"
   ]
  },
  {
   "cell_type": "code",
   "execution_count": 32,
   "metadata": {},
   "outputs": [
    {
     "name": "stdout",
     "output_type": "stream",
     "text": [
      "[2 5 8]\n"
     ]
    }
   ],
   "source": [
    "vec = np.array([1, 2, 3])\n",
    "vec2 = np.array([1, 3, 5])\n",
    "print(vec + vec2)"
   ]
  },
  {
   "cell_type": "code",
   "execution_count": 37,
   "metadata": {},
   "outputs": [
    {
     "data": {
      "text/plain": [
       "5.916079783099616"
      ]
     },
     "execution_count": 37,
     "metadata": {},
     "output_type": "execute_result"
    }
   ],
   "source": [
    "np.linalg.norm(vec2)\n"
   ]
  },
  {
   "cell_type": "code",
   "execution_count": null,
   "metadata": {},
   "outputs": [],
   "source": []
  }
 ],
 "metadata": {
  "kernelspec": {
   "display_name": "Python [conda env:tensorflow_p36]",
   "language": "python",
   "name": "conda-env-tensorflow_p36-py"
  },
  "language_info": {
   "codemirror_mode": {
    "name": "ipython",
    "version": 3
   },
   "file_extension": ".py",
   "mimetype": "text/x-python",
   "name": "python",
   "nbconvert_exporter": "python",
   "pygments_lexer": "ipython3",
   "version": "3.6.5"
  }
 },
 "nbformat": 4,
 "nbformat_minor": 2
}
