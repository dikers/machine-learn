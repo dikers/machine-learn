{
 "cells": [
  {
   "cell_type": "markdown",
   "metadata": {},
   "source": [
    "# 第二章  矩阵"
   ]
  },
  {
   "cell_type": "code",
   "execution_count": 16,
   "metadata": {},
   "outputs": [],
   "source": [
    "EPSILON = 1e-8"
   ]
  },
  {
   "cell_type": "code",
   "execution_count": 35,
   "metadata": {},
   "outputs": [],
   "source": [
    "class Vector:\n",
    "    def __init__(self, lst):\n",
    "        \n",
    "        self._values = list(lst)\n",
    "        \n",
    "    def __getitem__(self, index):\n",
    "        return self._values[index]\n",
    "    \n",
    "    def __repr__(self):\n",
    "        return 'Vector({})'.format(self._values)\n",
    "    \n",
    "    def __len__(self):\n",
    "        return len(self._values)\n",
    "    \n",
    "    def __add__(self, another):\n",
    "        assert len(self) == len(another), \\\n",
    "        \"Error in adding. Length of vectors must be same. \"\n",
    "        return Vector([a + b for a, b in zip(self, another)])\n",
    "    \n",
    "    def underlying_list(self):\n",
    "        return self._values\n",
    "    \n",
    "    def __sub__(self, another):\n",
    "        assert len(self) == len(another), \\\n",
    "        \"Error in subing. Length of vectors must be same. \"\n",
    "        return Vector([a - b for a, b in zip(self, another)])\n",
    "    \n",
    "    def __mul__(self, k):\n",
    "        return Vector([k*e for e in self])\n",
    "    \n",
    "    def __rmul__(self, k):\n",
    "        return self * k\n",
    "    \n",
    "    def __truediv__(self, k):\n",
    "        return (1/k)*self \n",
    "    \n",
    "    def __pos__(self):\n",
    "        return 1 * self\n",
    "        \n",
    "    def __neg__(self):\n",
    "        return -1 * self\n",
    "    \n",
    "    def __iter__(self):\n",
    "        return self._values.__iter__()\n",
    "    \n",
    "    def __str__(self):\n",
    "        return '({})'.format(', '.join(str(e) for e in self._values))\n",
    "    \n",
    "    @classmethod\n",
    "    def zero(cls, dim):\n",
    "        return cls([0] * dim)\n",
    "    \n",
    "    def norm(self):\n",
    "        return math.sqrt(sum(e**2 for e in self))\n",
    "    \n",
    "    def dot(self, another):\n",
    "        \"\"\"向量的点乘\"\"\"\n",
    "        assert len(self) == len(another), \\\n",
    "        \"Error in subing. Length of vectors must be same. \"\n",
    "        return sum(a * b for a, b in zip(self, another))\n",
    "    \n",
    "    def normalize(self):\n",
    "        if self.norm() -0.0 < EPSILON:\n",
    "            raise ZeroDivisionError(\"Normalize error! norm is zero vector {} .\".format(self._values))\n",
    "        return Vector(self._values) / self.norm() "
   ]
  },
  {
   "cell_type": "code",
   "execution_count": 36,
   "metadata": {},
   "outputs": [],
   "source": [
    "import math\n",
    "# from playLA.Vector import Vector\n",
    "\n",
    "class Matrix:\n",
    "    def __init__(self, list2d):\n",
    "        self._values = [row[:] for row in list2d]\n",
    "    \n",
    "    @classmethod\n",
    "    def zero(cls, r, c):\n",
    "        return cls([[0] * c for _ in range(r)])\n",
    "        \n",
    "        \n",
    "    @classmethod\n",
    "    def identity(cls, n):\n",
    "        \"\"\"返回单位矩阵\"\"\"\n",
    "        m = [[0] * n  for _ in range(n)]\n",
    "        for i in range(n):\n",
    "            m[i][i] = 1\n",
    "        return cls(m)\n",
    "    \n",
    "    def T(self):\n",
    "        return Matrix([[e for e in self.col_vector(i)] \n",
    "                      for i in range(self.col_num())])\n",
    "        \n",
    "        \n",
    "    def __add__(self, another):\n",
    "        assert  self.shape() ==  another.shape(), \\\n",
    "        \"Error in adding. Shape of matrix must be same. \"\n",
    "        return Matrix([[a + b for a, b in zip(self.row_vector(i), another.row_vector(i))]\n",
    "        for i in range(self.row_num())])\n",
    "    \n",
    "    def __sub__(self, another):\n",
    "        assert  self.shape() ==  another.shape(), \\\n",
    "        \"Error in adding. Shape of matrix must be same. \"\n",
    "        return Matrix([[a - b for a, b in zip(self.row_vector(i), another.row_vector(i))]\n",
    "        for i in range(self.row_num())])\n",
    "   \n",
    "    def __mul__(self, k):\n",
    "        return Matrix([[e * k for e in self.row_vector(i)]\n",
    "                     for i in range(self.row_num())])\n",
    "    \n",
    "    def dot(self, another):\n",
    "        if isinstance(another, Vector):\n",
    "            assert self.col_num() == len(another) , \\\n",
    "            \"Error in Matrix-Vector Multiplication\"\n",
    "            return Vector([self.row_vector(i).dot(another) for i in range(self.row_num())])\n",
    "        \n",
    "        if isinstance(another, Matrix):\n",
    "            assert self.col_num() == another.row_num() , \\\n",
    "            \"Error in Matrix-Matrix Multiplication\"\n",
    "            return Matrix([[self.row_vector(i).dot(another.col_vector(j))\n",
    "                            for j in range(another.col_num())]\n",
    "                          for i in range(self.row_num())\n",
    "                          ])\n",
    "    \n",
    "    \n",
    "    def __rmul__(self, k):\n",
    "        return Matrix([[e * k for e in self.row_vector(i)]\n",
    "                     for i in range(self.row_num())])\n",
    "    \n",
    "    \n",
    "    \n",
    "    def __truediv__(self, k):\n",
    "        return (1/k) * self\n",
    "    \n",
    "    def __pos__(self):\n",
    "        return 1* self\n",
    "    \n",
    "    def __neg__(self):\n",
    "        return -1 * self\n",
    "    \n",
    "    def __getitem__(self, pos):\n",
    "        \"\"\"返回pos位置的元素\"\"\"\n",
    "        r, c = pos\n",
    "        return self._values[r][c]\n",
    "        \n",
    "    def __repr__(self):\n",
    "        return 'Matrix({})'.format(self._values)\n",
    "    \n",
    "    __str__=__repr__\n",
    "    \n",
    "    def row_vector(self, index):\n",
    "        return Vector(self._values[index])\n",
    "    \n",
    "    def col_vector(self, index):\n",
    "        return Vector([row[index] for row in self._values])\n",
    "    \n",
    "    def shape(self):\n",
    "        return (len(self._values) , len(self._values[0]))\n",
    "    \n",
    "    def row_num(self):\n",
    "        return self.shape()[0]\n",
    "    \n",
    "    __len__= row_num\n",
    "    \n",
    "    def col_num(self):\n",
    "        return self.shape()[1]\n",
    "\n",
    "    def size(self):\n",
    "        r, c = self.shape()\n",
    "        return r * c\n",
    "    \n",
    "    \n",
    "    "
   ]
  },
  {
   "cell_type": "code",
   "execution_count": 42,
   "metadata": {},
   "outputs": [],
   "source": [
    "class LinearSystem:\n",
    "    \n",
    "    def __init__(self, A, b):\n",
    "        assert A.row_num() == len(b), \\\n",
    "        \"\"\"row number of A must be equal to the length b\"\"\"\n",
    "        \n",
    "        self._m = A.row_num()\n",
    "        self._n = A.col_num()\n",
    "        \n",
    "        assert self._m == self._n, \\\n",
    "        \"\"\"必须是方阵 TODO\"\"\"\n",
    "        \n",
    "        self.Ab = [Vector(A.row_vector(i).underlying_list() + [b[i]])\n",
    "                  for i in range(self._m)]\n",
    "        \n",
    "    def gauss_jordan_elimination(self):\n",
    "        \n",
    "        self._forward()\n",
    "        self._backward()\n",
    "   \n",
    "    def _max_row(self, index, n ):\n",
    "        best, ret = self.Ab[index][index], index\n",
    "        \n",
    "        for i in range(index + 1, n):\n",
    "            if self.Ab[i][index]<best:\n",
    "                best, ret = self.Ab[i][index], i\n",
    "        return ret        \n",
    "        \n",
    "        \n",
    "    def _forward(self):\n",
    "        \n",
    "        n = self._m\n",
    "        \n",
    "        for i in range(n):\n",
    "            #Ab[i][i]为主元\n",
    "            max_row = self._max_row(i, n)\n",
    "            self.Ab[i], self.Ab[max_row] = self.Ab[max_row], self.Ab[i]\n",
    "\n",
    "            self.Ab[i] = self.Ab[i] / self.Ab[i][i]\n",
    "            \n",
    "            for j in range(i+1, n):\n",
    "                self.Ab[j] = self.Ab[j]- self.Ab[j][i] * self.Ab[i]\n",
    "                \n",
    "                \n",
    "    def _backward(self):\n",
    "        \n",
    "        n = self._m\n",
    "        \n",
    "        for i in range(n-1, -1, -1):\n",
    "            for j in range(i-1, -1, -1):\n",
    "                self.Ab[j] = self.Ab[j] - self.Ab[j][i] * self.Ab[i]\n",
    "                \n",
    "    def fancy_print(self):\n",
    "        for i in range(self._m):\n",
    "            print(\" \\t\".join(str(self.Ab[i][j])  for j in range(self._n)), end=\" \")\n",
    "            print(\"|\", self.Ab[i][-1])\n",
    "            "
   ]
  },
  {
   "cell_type": "code",
   "execution_count": 43,
   "metadata": {},
   "outputs": [
    {
     "name": "stdout",
     "output_type": "stream",
     "text": [
      "1 \t2 \t4 | 7\n",
      "3 \t7 \t2 | -11\n",
      "2 \t3 \t3 | 1\n",
      "1.0 \t0.0 \t0.0 | -1.0\n",
      "0.0 \t1.0 \t0.0 | -2.0\n",
      "-0.0 \t-0.0 \t1.0 | 3.0\n"
     ]
    }
   ],
   "source": [
    "A = Matrix([[1,2, 4], [3, 7, 2], [2, 3, 3]])\n",
    "b = Vector([7, -11, 1])\n",
    "\n",
    "ls = LinearSystem(A, b)\n",
    "ls.fancy_print()\n",
    "ls.gauss_jordan_elimination()\n",
    "ls.fancy_print()"
   ]
  },
  {
   "cell_type": "code",
   "execution_count": 18,
   "metadata": {},
   "outputs": [
    {
     "name": "stdout",
     "output_type": "stream",
     "text": [
      "Matrix([[1, 2], [3, 4]])\n",
      "  shape : (2, 2) \n",
      "  col num: 2 \n",
      "  size : 4 \n",
      "  len : 2 \n",
      "(1, 2)\n",
      "(2, 4)\n",
      "Matrix([[2, 3], [4, 5]])\n",
      "Matrix([[0, 1], [2, 3]])\n",
      "Matrix([[6, 12], [18, 24]])\n",
      "Matrix([[0, 0, 0], [0, 0, 0], [0, 0, 0]])\n",
      "(6, 14)\n",
      "Matrix([[3, 3], [7, 7]])\n",
      "Matrix([[1, 2], [3, 4]])\n"
     ]
    }
   ],
   "source": [
    "a = Matrix([[1,2], [3,4]])\n",
    "b = Matrix([[1,1], [1,1]])\n",
    "\n",
    "def print_matrix(a):\n",
    "    print(a)\n",
    "    print(\"  shape : {} \".format(a.shape()))\n",
    "    print(\"  col num: {} \".format(a.col_num()))\n",
    "    print(\"  size : {} \".format(a.size()))\n",
    "    print(\"  len : {} \".format(len(a)))\n",
    "\n",
    "print_matrix(a)\n",
    "print(a.row_vector(0))\n",
    "print(a.col_vector(1))\n",
    "print(a + b)\n",
    "print(a - b)\n",
    "print( 3 * a  * 2)\n",
    "    \n",
    "print(Matrix.zero(3,3))\n",
    "print(a.dot(Vector([2,2])))\n",
    "print(a.dot(b))\n",
    "\n",
    "print(a.T().T())\n",
    "\n"
   ]
  },
  {
   "cell_type": "code",
   "execution_count": 19,
   "metadata": {},
   "outputs": [
    {
     "name": "stdout",
     "output_type": "stream",
     "text": [
      "1.16.4\n"
     ]
    }
   ],
   "source": [
    "import numpy as np \n",
    "from playLA.Vector import Vector\n",
    "# from playLA.Matrix import Matrix\n",
    "print(np.__version__)"
   ]
  },
  {
   "cell_type": "code",
   "execution_count": 15,
   "metadata": {},
   "outputs": [
    {
     "data": {
      "text/plain": [
       "array([[ 1.35107989e+16, -2.70215978e+16,  1.35107989e+16],\n",
       "       [-2.70215978e+16,  5.40431955e+16, -2.70215978e+16],\n",
       "       [ 1.35107989e+16, -2.70215978e+16,  1.35107989e+16]])"
      ]
     },
     "execution_count": 15,
     "metadata": {},
     "output_type": "execute_result"
    }
   ],
   "source": [
    "I = Matrix.identity(2)\n",
    "I = np.identity(2)\n",
    "# a.dot(I)\n",
    "np.linalg.inv(I)\n",
    "\n",
    "\n",
    "C = np.array([[1,2,3], [2,3,4], [3,4,5] ])\n",
    "np.linalg.inv(C)"
   ]
  },
  {
   "cell_type": "markdown",
   "metadata": {},
   "source": [
    "### 矩阵理解成 向量的函数"
   ]
  },
  {
   "cell_type": "code",
   "execution_count": 20,
   "metadata": {},
   "outputs": [
    {
     "name": "stdout",
     "output_type": "stream",
     "text": [
      "T.dot(p) = (12, 8) \n"
     ]
    }
   ],
   "source": [
    "T = Matrix([[4,2], [1,3]])\n",
    "p = Vector([2, 2])\n",
    "# P = Matrix([[0, 4, 5], [0, 0, 3]])\n",
    "print(\"T.dot(p) = {} \".format(T.dot(p)))\n",
    "# print(\"T.dot(P) = {} \".format(T.dot(P)))"
   ]
  },
  {
   "cell_type": "code",
   "execution_count": 5,
   "metadata": {},
   "outputs": [],
   "source": [
    "\n",
    "points = [[0, 0], [0, 5], [3, 5], [3, 4], [1, 4],\n",
    "          [1, 3], [2, 3], [2, 2], [1, 2], [1, 0],[0, 0]]"
   ]
  },
  {
   "cell_type": "code",
   "execution_count": null,
   "metadata": {},
   "outputs": [],
   "source": []
  },
  {
   "cell_type": "code",
   "execution_count": 18,
   "metadata": {},
   "outputs": [
    {
     "data": {
      "image/png": "[encoded data removed]",
      "text/plain": [
       "<Figure size 360x360 with 1 Axes>"
      ]
     },
     "metadata": {},
     "output_type": "display_data"
    }
   ],
   "source": [
    "import matplotlib.pyplot as plt\n",
    "import math\n",
    "x = [point[0] for point in points]\n",
    "y = [point[1] for point in points]\n",
    "plt.figure(figsize=(5, 5))\n",
    "plt.xlim((-10.0, 10.0))\n",
    "plt.ylim(-10, 10)\n",
    "plt.plot(x, y)\n",
    "\n",
    "\n",
    "P = Matrix(points)\n",
    "# T = Matrix([[2,0], [0, 1.5]])\n",
    "# T = Matrix([[1, 0], [0, -1]])\n",
    "# T = Matrix([[-1, 0], [0, -1]])\n",
    "# T = Matrix([[-1, 0], [0, 1]])\n",
    "\n",
    "# T = Matrix([[1, 1], [0, 1]])\n",
    "# T = Matrix([[1, 0], [0.5, 1]])\n",
    "\n",
    "theta = math.pi / 3\n",
    "\n",
    "T = Matrix([[math.cos(theta), math.sin(theta)], \n",
    "            [-math.sin(theta), math.cos(theta)]])\n",
    "\n",
    "\n",
    "P2 = T.dot(P.T())\n",
    "\n",
    "plt.plot([P2.col_vector(i)[0] for i in range(P2.col_num())],\n",
    "        [P2.col_vector(i)[1] for i in range(P2.col_num())])\n",
    "\n",
    "plt.show()"
   ]
  },
  {
   "cell_type": "code",
   "execution_count": 7,
   "metadata": {},
   "outputs": [
    {
     "data": {
      "text/plain": [
       "Matrix([[5], [11]])"
      ]
     },
     "execution_count": 7,
     "metadata": {},
     "output_type": "execute_result"
    }
   ],
   "source": [
    "points = [[1, 2]]\n",
    "P = Matrix(points)\n",
    "T = Matrix([[1, 2], \n",
    "            [3, 4]])\n",
    "\n",
    "T.dot(P.T())"
   ]
  },
  {
   "cell_type": "code",
   "execution_count": 49,
   "metadata": {},
   "outputs": [
    {
     "name": "stdout",
     "output_type": "stream",
     "text": [
      "Matrix([[0.9977786007011223, 0.066617294923393], [-0.066617294923393, 0.9977786007011223]])\n",
      "Matrix([[460.0868387973304, 537.9035516749261, 536.8570055337817, 459.04029336376476], [-146.7828784652899, -146.81427874688734, -167.6922116493642, -167.66080076981376]])\n"
     ]
    },
    {
     "data": {
      "image/png": "[encoded data removed]",
      "text/plain": [
       "<Figure size 432x288 with 1 Axes>"
      ]
     },
     "metadata": {},
     "output_type": "display_data"
    }
   ],
   "source": [
    "import matplotlib.pyplot as plt\n",
    "import math\n",
    "points = [[468.8430805206299, -115.80707445144654], \n",
    "          [546.4890232086182, -110.65446606874467], \n",
    "          [546.8356332778931, -131.5557388186455], \n",
    "          [469.1896905899048, -136.70833657979966]]\n",
    "x = [point[0] for point in points]\n",
    "y = [point[1] for point in points]\n",
    "plt.xlim(0, 550)\n",
    "plt.ylim(-200, 0)\n",
    "P = Matrix(points)\n",
    "plt.plot(x, y)\n",
    "\n",
    "theta = 12 / 180\n",
    "\n",
    "T = Matrix([[math.cos(theta), math.sin(theta)], \n",
    "            [-math.sin(theta), math.cos(theta)]])\n",
    "\n",
    "T.dot(P.T())\n",
    "P2 = T.dot(P.T())\n",
    "\n",
    "print(T)\n",
    "plt.plot([P2.col_vector(i)[0] for i in range(P2.col_num())],\n",
    "        [P2.col_vector(i)[1] for i in range(P2.col_num())])\n",
    "\n",
    "print(P2)\n",
    "plt.show()\n",
    "# matrix [0.9998886301079418  0.014924053767773473 -0.014924053767773473  0.9998886301079418]"
   ]
  },
  {
   "cell_type": "code",
   "execution_count": 55,
   "metadata": {},
   "outputs": [
    {
     "data": {
      "text/plain": [
       "0.0663603042776757"
      ]
     },
     "execution_count": 55,
     "metadata": {},
     "output_type": "execute_result"
    }
   ],
   "source": [
    "(points[1][1] - points[0][1]) /(points[1][0] - points[0][0])"
   ]
  },
  {
   "cell_type": "code",
   "execution_count": 57,
   "metadata": {},
   "outputs": [
    {
     "data": {
      "text/plain": [
       "3.7965988769338184"
      ]
     },
     "execution_count": 57,
     "metadata": {},
     "output_type": "execute_result"
    }
   ],
   "source": [
    "math.atan(0.0663603042776757) * 180 / math.pi"
   ]
  },
  {
   "cell_type": "code",
   "execution_count": 10,
   "metadata": {},
   "outputs": [
    {
     "ename": "TypeError",
     "evalue": "'int' object is not iterable",
     "output_type": "error",
     "traceback": [
      "\u001b[0;31m---------------------------------------------------------------------------\u001b[0m",
      "\u001b[0;31mTypeError\u001b[0m                                 Traceback (most recent call last)",
      "\u001b[0;32m<ipython-input-10-65100f82b712>\u001b[0m in \u001b[0;36m<module>\u001b[0;34m()\u001b[0m\n\u001b[0;32m----> 1\u001b[0;31m \u001b[0mnp\u001b[0m\u001b[0;34m.\u001b[0m\u001b[0mlinalg\u001b[0m\u001b[0;34m.\u001b[0m\u001b[0minv\u001b[0m\u001b[0;34m(\u001b[0m\u001b[0mI\u001b[0m\u001b[0;34m)\u001b[0m\u001b[0;34m\u001b[0m\u001b[0m\n\u001b[0m",
      "\u001b[0;32m~/anaconda3/envs/tensorflow_p36/lib/python3.6/site-packages/numpy/linalg/linalg.py\u001b[0m in \u001b[0;36minv\u001b[0;34m(a)\u001b[0m\n\u001b[1;32m    542\u001b[0m \u001b[0;34m\u001b[0m\u001b[0m\n\u001b[1;32m    543\u001b[0m     \"\"\"\n\u001b[0;32m--> 544\u001b[0;31m     \u001b[0ma\u001b[0m\u001b[0;34m,\u001b[0m \u001b[0mwrap\u001b[0m \u001b[0;34m=\u001b[0m \u001b[0m_makearray\u001b[0m\u001b[0;34m(\u001b[0m\u001b[0ma\u001b[0m\u001b[0;34m)\u001b[0m\u001b[0;34m\u001b[0m\u001b[0m\n\u001b[0m\u001b[1;32m    545\u001b[0m     \u001b[0m_assertRankAtLeast2\u001b[0m\u001b[0;34m(\u001b[0m\u001b[0ma\u001b[0m\u001b[0;34m)\u001b[0m\u001b[0;34m\u001b[0m\u001b[0m\n\u001b[1;32m    546\u001b[0m     \u001b[0m_assertNdSquareness\u001b[0m\u001b[0;34m(\u001b[0m\u001b[0ma\u001b[0m\u001b[0;34m)\u001b[0m\u001b[0;34m\u001b[0m\u001b[0m\n",
      "\u001b[0;32m~/anaconda3/envs/tensorflow_p36/lib/python3.6/site-packages/numpy/linalg/linalg.py\u001b[0m in \u001b[0;36m_makearray\u001b[0;34m(a)\u001b[0m\n\u001b[1;32m    115\u001b[0m \u001b[0;34m\u001b[0m\u001b[0m\n\u001b[1;32m    116\u001b[0m \u001b[0;32mdef\u001b[0m \u001b[0m_makearray\u001b[0m\u001b[0;34m(\u001b[0m\u001b[0ma\u001b[0m\u001b[0;34m)\u001b[0m\u001b[0;34m:\u001b[0m\u001b[0;34m\u001b[0m\u001b[0m\n\u001b[0;32m--> 117\u001b[0;31m     \u001b[0mnew\u001b[0m \u001b[0;34m=\u001b[0m \u001b[0masarray\u001b[0m\u001b[0;34m(\u001b[0m\u001b[0ma\u001b[0m\u001b[0;34m)\u001b[0m\u001b[0;34m\u001b[0m\u001b[0m\n\u001b[0m\u001b[1;32m    118\u001b[0m     \u001b[0mwrap\u001b[0m \u001b[0;34m=\u001b[0m \u001b[0mgetattr\u001b[0m\u001b[0;34m(\u001b[0m\u001b[0ma\u001b[0m\u001b[0;34m,\u001b[0m \u001b[0;34m\"__array_prepare__\"\u001b[0m\u001b[0;34m,\u001b[0m \u001b[0mnew\u001b[0m\u001b[0;34m.\u001b[0m\u001b[0m__array_wrap__\u001b[0m\u001b[0;34m)\u001b[0m\u001b[0;34m\u001b[0m\u001b[0m\n\u001b[1;32m    119\u001b[0m     \u001b[0;32mreturn\u001b[0m \u001b[0mnew\u001b[0m\u001b[0;34m,\u001b[0m \u001b[0mwrap\u001b[0m\u001b[0;34m\u001b[0m\u001b[0m\n",
      "\u001b[0;32m~/anaconda3/envs/tensorflow_p36/lib/python3.6/site-packages/numpy/core/numeric.py\u001b[0m in \u001b[0;36masarray\u001b[0;34m(a, dtype, order)\u001b[0m\n\u001b[1;32m    536\u001b[0m \u001b[0;34m\u001b[0m\u001b[0m\n\u001b[1;32m    537\u001b[0m     \"\"\"\n\u001b[0;32m--> 538\u001b[0;31m     \u001b[0;32mreturn\u001b[0m \u001b[0marray\u001b[0m\u001b[0;34m(\u001b[0m\u001b[0ma\u001b[0m\u001b[0;34m,\u001b[0m \u001b[0mdtype\u001b[0m\u001b[0;34m,\u001b[0m \u001b[0mcopy\u001b[0m\u001b[0;34m=\u001b[0m\u001b[0;32mFalse\u001b[0m\u001b[0;34m,\u001b[0m \u001b[0morder\u001b[0m\u001b[0;34m=\u001b[0m\u001b[0morder\u001b[0m\u001b[0;34m)\u001b[0m\u001b[0;34m\u001b[0m\u001b[0m\n\u001b[0m\u001b[1;32m    539\u001b[0m \u001b[0;34m\u001b[0m\u001b[0m\n\u001b[1;32m    540\u001b[0m \u001b[0;34m\u001b[0m\u001b[0m\n",
      "\u001b[0;32m<ipython-input-2-e2933350c22f>\u001b[0m in \u001b[0;36m__getitem__\u001b[0;34m(self, pos)\u001b[0m\n\u001b[1;32m     68\u001b[0m     \u001b[0;32mdef\u001b[0m \u001b[0m__getitem__\u001b[0m\u001b[0;34m(\u001b[0m\u001b[0mself\u001b[0m\u001b[0;34m,\u001b[0m \u001b[0mpos\u001b[0m\u001b[0;34m)\u001b[0m\u001b[0;34m:\u001b[0m\u001b[0;34m\u001b[0m\u001b[0m\n\u001b[1;32m     69\u001b[0m         \u001b[0;34m\"\"\"返回pos位置的元素\"\"\"\u001b[0m\u001b[0;34m\u001b[0m\u001b[0m\n\u001b[0;32m---> 70\u001b[0;31m         \u001b[0mr\u001b[0m\u001b[0;34m,\u001b[0m \u001b[0mc\u001b[0m \u001b[0;34m=\u001b[0m \u001b[0mpos\u001b[0m\u001b[0;34m\u001b[0m\u001b[0m\n\u001b[0m\u001b[1;32m     71\u001b[0m         \u001b[0;32mreturn\u001b[0m \u001b[0mself\u001b[0m\u001b[0;34m.\u001b[0m\u001b[0m_values\u001b[0m\u001b[0;34m[\u001b[0m\u001b[0mr\u001b[0m\u001b[0;34m]\u001b[0m\u001b[0;34m[\u001b[0m\u001b[0mc\u001b[0m\u001b[0;34m]\u001b[0m\u001b[0;34m\u001b[0m\u001b[0m\n\u001b[1;32m     72\u001b[0m \u001b[0;34m\u001b[0m\u001b[0m\n",
      "\u001b[0;31mTypeError\u001b[0m: 'int' object is not iterable"
     ]
    }
   ],
   "source": []
  },
  {
   "cell_type": "code",
   "execution_count": null,
   "metadata": {},
   "outputs": [],
   "source": []
  }
 ],
 "metadata": {
  "kernelspec": {
   "display_name": "Python [conda env:tensorflow_p36]",
   "language": "python",
   "name": "conda-env-tensorflow_p36-py"
  },
  "language_info": {
   "codemirror_mode": {
    "name": "ipython",
    "version": 3
   },
   "file_extension": ".py",
   "mimetype": "text/x-python",
   "name": "python",
   "nbconvert_exporter": "python",
   "pygments_lexer": "ipython3",
   "version": "3.6.5"
  }
 },
 "nbformat": 4,
 "nbformat_minor": 2
}
