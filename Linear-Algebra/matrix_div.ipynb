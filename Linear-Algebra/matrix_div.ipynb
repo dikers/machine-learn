{
 "cells": [
  {
   "cell_type": "markdown",
   "metadata": {},
   "source": [
    "# A ->  B 的矩阵变换"
   ]
  },
  {
   "cell_type": "code",
   "execution_count": 6,
   "metadata": {},
   "outputs": [],
   "source": [
    "import numpy as np\n",
    "import matplotlib.pyplot as plt"
   ]
  },
  {
   "cell_type": "code",
   "execution_count": 182,
   "metadata": {},
   "outputs": [],
   "source": [
    "def draw_line(X1, X2):\n",
    "#     print(\"X1: Shape  : {}  X2: Shape {}\".format(X1.shape, X2.shape))\n",
    "#     print(\"first: {}   \\nsecond: {}\".format(X1 , X2))\n",
    "    plt.scatter(X1[:,0], X1[:, 1], color='red' , alpha=0.5)\n",
    "    plt.plot(X1[:, 0], X1[:, 1], color='red', alpha=0.5)\n",
    "    \n",
    "    plt.scatter(X2[:,0], X2[:, 1], color='blue', alpha=0.5)\n",
    "    plt.plot(X2[:, 0], X2[:, 1], color='blue', alpha=0.5)\n",
    "    \n",
    "    plt.show()"
   ]
  },
  {
   "cell_type": "markdown",
   "metadata": {},
   "source": [
    "### 绘制两个数组"
   ]
  },
  {
   "cell_type": "code",
   "execution_count": 171,
   "metadata": {},
   "outputs": [],
   "source": [
    "A = np.array([[0.0, 3.0], [3.0, 0.0], [4, 5]], dtype=float)\n",
    "B = np.array([[1.0, 3.0], [4.0, 1.0], [3, 4]], dtype=float)\n",
    "draw_line(A, B)"
   ]
  },
  {
   "cell_type": "markdown",
   "metadata": {},
   "source": [
    "### 矩阵除法运算\n",
    "* A * Z = B #将A 向量乘以Z 以后得到B 向量\n",
    "* 先求A的逆矩阵  AI = np.mat(A).I\n",
    "* 然后 B / A =  B * AI  =Z\n",
    "* Z ✖️（A坐标下任意点） 还原到B 坐标下\n"
   ]
  },
  {
   "cell_type": "code",
   "execution_count": 184,
   "metadata": {},
   "outputs": [],
   "source": [
    "AI = np.mat(A).I\n",
    "Z = np.dot(B, AI)\n",
    "# print(Z)\n",
    "new_A = Z.dot(A)"
   ]
  },
  {
   "cell_type": "markdown",
   "metadata": {},
   "source": [
    "### A空间的坐标经过变换 以后和B空间重叠"
   ]
  },
  {
   "cell_type": "code",
   "execution_count": 185,
   "metadata": {},
   "outputs": [
    {
     "data": {
      "image/png": "[encoded data removed]",
      "text/plain": [
       "<Figure size 432x288 with 1 Axes>"
      ]
     },
     "metadata": {},
     "output_type": "display_data"
    }
   ],
   "source": [
    "draw_line(new_A.getA(), B)"
   ]
  },
  {
   "cell_type": "code",
   "execution_count": null,
   "metadata": {},
   "outputs": [],
   "source": []
  }
 ],
 "metadata": {
  "kernelspec": {
   "display_name": "Python [conda env:tensorflow_p36]",
   "language": "python",
   "name": "conda-env-tensorflow_p36-py"
  },
  "language_info": {
   "codemirror_mode": {
    "name": "ipython",
    "version": 3
   },
   "file_extension": ".py",
   "mimetype": "text/x-python",
   "name": "python",
   "nbconvert_exporter": "python",
   "pygments_lexer": "ipython3",
   "version": "3.6.5"
  }
 },
 "nbformat": 4,
 "nbformat_minor": 2
}
