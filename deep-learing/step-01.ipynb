{
 "cells": [
  {
   "cell_type": "markdown",
   "metadata": {},
   "source": [
    "# step-01\n",
    "\n",
    "本文介绍神经网络的基础概念以及如何用神经网络进行计算"
   ]
  },
  {
   "cell_type": "code",
   "execution_count": 2,
   "metadata": {},
   "outputs": [],
   "source": [
    "import os\n",
    "import os.path\n",
    "import urllib.request\n",
    "import numpy as np\n",
    "import pickle, gzip, json\n",
    "import matplotlib.pylab as plt"
   ]
  },
  {
   "cell_type": "markdown",
   "metadata": {},
   "source": [
    "### 获取数据\n",
    "* 手写字体数据（mnist.pkl.gz）\n",
    "* 训练好的参数（sample_weight.pkl）"
   ]
  },
  {
   "cell_type": "code",
   "execution_count": 5,
   "metadata": {},
   "outputs": [
    {
     "name": "stdout",
     "output_type": "stream",
     "text": [
      "http://dikers-html.s3-website.cn-northwest-1.amazonaws.com.cn/data/\n",
      "./\n",
      "Downloading mnist.pkl.gz ... \n",
      "Done\n",
      "Downloading sample_weight.pkl ... \n",
      "Done\n"
     ]
    }
   ],
   "source": [
    "\n",
    "\n",
    "url_base = 'http://dikers-html.s3-website.cn-northwest-1.amazonaws.com.cn/data/'\n",
    "# 数据保存的路径\n",
    "dataset_dir = './'\n",
    "\n",
    "\n",
    "print('数据下载路径: ',url_base)\n",
    "print('数据保存路径: ', dataset_dir)\n",
    "\n",
    "def _download(file_name):\n",
    "    file_path = dataset_dir + \"/\" + file_name\n",
    "    \n",
    "    if os.path.exists(file_path):\n",
    "        print(\"file exist: \", file_name)\n",
    "        return\n",
    "\n",
    "    print(\"Downloading \" + file_name + \" ... \")\n",
    "    urllib.request.urlretrieve(url_base + file_name, file_path)\n",
    "    print(\"Done\")\n",
    "    \n",
    "_download('mnist.pkl.gz')\n",
    "_download('sample_weight.pkl')\n",
    "    "
   ]
  },
  {
   "cell_type": "markdown",
   "metadata": {},
   "source": [
    "# 感知器\n",
    "-----------------------------------\n",
    "\n"
   ]
  },
  {
   "cell_type": "markdown",
   "metadata": {},
   "source": [
    "### 与门\n",
    "\n",
    "\n",
    "\n",
    "|  $x_1$    | $x_2$   |  y      |\n",
    "|  -------  | ------  | ------  |\n",
    "|   0       |  0      |    0    |\n",
    "|   1       |  0      |    0    |\n",
    "|   0       |  1      |    0    |\n",
    "|   1       |  1      |    1    |\n"
   ]
  },
  {
   "cell_type": "code",
   "execution_count": 6,
   "metadata": {},
   "outputs": [
    {
     "name": "stdout",
     "output_type": "stream",
     "text": [
      "0, 1 ->  0\n",
      "0, 0 ->  0\n",
      "1, 0 ->  0\n",
      "1, 1 ->  1\n"
     ]
    }
   ],
   "source": [
    "def ADD(x1, x2):\n",
    "    w1, w2, b = 0.5, 0.5, 0.7\n",
    "    tmp = x1 * w1 + x2 * w2\n",
    "    if tmp > b:\n",
    "        return 1\n",
    "    else:\n",
    "        return 0\n",
    "print('0, 1 -> ', ADD(0,1))\n",
    "print('0, 0 -> ', ADD(0,0))\n",
    "print('1, 0 -> ', ADD(1,0))\n",
    "print('1, 1 -> ', ADD(1,1))    "
   ]
  },
  {
   "cell_type": "code",
   "execution_count": 7,
   "metadata": {},
   "outputs": [],
   "source": [
    "\n",
    "def ADD(x1, x2):\n",
    "    x= np.array([x1, x2])\n",
    "    w= np.array([0.5, 0.5])\n",
    "    b = -0.7\n",
    "    tmp = np.sum(x * w) + b\n",
    "    if tmp > 0:\n",
    "        return 1\n",
    "    else:\n",
    "        return 0"
   ]
  },
  {
   "cell_type": "markdown",
   "metadata": {},
   "source": [
    "### 或门\n",
    "\n",
    "\n",
    "\n",
    "|  $x_1$    | $x_2$   |  y      |\n",
    "|  -------  | ------  | ------  |\n",
    "|   0       |  0      |    0    |\n",
    "|   1       |  0      |    1    |\n",
    "|   0       |  1      |    1    |\n",
    "|   1       |  1      |    1    |"
   ]
  },
  {
   "cell_type": "code",
   "execution_count": 8,
   "metadata": {},
   "outputs": [
    {
     "name": "stdout",
     "output_type": "stream",
     "text": [
      "0, 1 ->  1\n",
      "0, 0 ->  0\n",
      "1, 0 ->  1\n",
      "1, 1 ->  1\n"
     ]
    }
   ],
   "source": [
    "def OR(x1, x2):\n",
    "    x= np.array([x1, x2])\n",
    "    w= np.array([0.5, 0.5])\n",
    "    b = -0.2\n",
    "    tmp = np.sum(x * w) + b\n",
    "    if tmp > 0:\n",
    "        return 1\n",
    "    else:\n",
    "        return 0\n",
    "print('0, 1 -> ',OR(0,1))\n",
    "print('0, 0 -> ',OR(0,0))\n",
    "print('1, 0 -> ',OR(1,0))\n",
    "print('1, 1 -> ',OR(1,1))"
   ]
  },
  {
   "cell_type": "markdown",
   "metadata": {},
   "source": [
    "### 与非门\n",
    "\n",
    "\n",
    "\n",
    "|  $x_1$    | $x_2$   |  y      |\n",
    "|  -------  | ------  | ------  |\n",
    "|   0       |  0      |    1    |\n",
    "|   1       |  0      |    1    |\n",
    "|   0       |  1      |    1    |\n",
    "|   1       |  1      |    0    |"
   ]
  },
  {
   "cell_type": "code",
   "execution_count": 9,
   "metadata": {},
   "outputs": [
    {
     "name": "stdout",
     "output_type": "stream",
     "text": [
      "0, 1 ->  1\n",
      "0, 0 ->  1\n",
      "1, 0 ->  1\n",
      "1, 1 ->  0\n"
     ]
    }
   ],
   "source": [
    "def NAND(x1, x2):\n",
    "    x= np.array([x1, x2])\n",
    "    w= np.array([0.5, 0.5])\n",
    "    b = -0.7\n",
    "    tmp = np.sum(x * w) + b\n",
    "    if tmp < 0:\n",
    "        return 1\n",
    "    else:\n",
    "        return 0\n",
    "print('0, 1 -> ', NAND(0,1))\n",
    "print('0, 0 -> ', NAND(0,0))\n",
    "print('1, 0 -> ', NAND(1,0))\n",
    "print('1, 1 -> ', NAND(1,1))"
   ]
  },
  {
   "cell_type": "markdown",
   "metadata": {},
   "source": [
    "### 异或门\n",
    "\n",
    "\n",
    "\n",
    "|  $x_1$    | $x_2$   |  y      |\n",
    "|  -------  | ------  | ------  |\n",
    "|   0       |  0      |    0    |\n",
    "|   1       |  0      |    1    |\n",
    "|   0       |  1      |    1    |\n",
    "|   1       |  1      |    0    |"
   ]
  },
  {
   "cell_type": "code",
   "execution_count": 10,
   "metadata": {},
   "outputs": [
    {
     "name": "stdout",
     "output_type": "stream",
     "text": [
      "0, 1 ->  1\n",
      "0, 0 ->  0\n",
      "1, 0 ->  1\n",
      "1, 1 ->  0\n"
     ]
    }
   ],
   "source": [
    "def XOR(x1, x2):\n",
    "    s1 = NAND(x1, x2)\n",
    "    s2 = OR(x1, x2)\n",
    "    return ADD(s1, s2)\n",
    "print('0, 1 -> ',XOR(0,1))\n",
    "print('0, 0 -> ',XOR(0,0))\n",
    "print('1, 0 -> ',XOR(1,0))\n",
    "print('1, 1 -> ',XOR(1,1))"
   ]
  },
  {
   "cell_type": "markdown",
   "metadata": {},
   "source": [
    "# 激活函数\n",
    "-------------"
   ]
  },
  {
   "cell_type": "markdown",
   "metadata": {},
   "source": [
    "$a= b + w_1 x_1 + w_2 x_2$\n",
    "\n",
    "$y = h(a)$\n",
    "\n",
    "![image](https://github.com/dikers/serverless/blob/master/doc/picture/41.jpg?raw=true)\n"
   ]
  },
  {
   "cell_type": "markdown",
   "metadata": {},
   "source": [
    "### 阶跃函数\n"
   ]
  },
  {
   "cell_type": "code",
   "execution_count": null,
   "metadata": {},
   "outputs": [],
   "source": [
    "def step_function(x):\n",
    "    return np.array(x>0, dtype=np.int)"
   ]
  },
  {
   "cell_type": "code",
   "execution_count": null,
   "metadata": {},
   "outputs": [],
   "source": [
    "x = np.arange(-5.0, 5.0, 0.1)\n",
    "y = step_function(x)\n",
    "plt.plot(x, y)\n",
    "plt.ylim(-0.1, 1.1)\n",
    "plt.show()"
   ]
  },
  {
   "cell_type": "markdown",
   "metadata": {},
   "source": [
    "### sigmod 函数\n",
    "$ h(x) = \\frac{1} {1+ exp(-x)} $"
   ]
  },
  {
   "cell_type": "code",
   "execution_count": null,
   "metadata": {},
   "outputs": [],
   "source": [
    "def sigmoid(x):\n",
    "    return 1/ (1+np.exp(-x))\n",
    "\n",
    "x = np.arange(-5.0, 5.0, 0.1)\n",
    "y = sigmoid(x)\n",
    "plt.plot(x, y)\n",
    "plt.ylim(-0.1, 1.1)\n",
    "plt.show()"
   ]
  },
  {
   "cell_type": "code",
   "execution_count": null,
   "metadata": {},
   "outputs": [],
   "source": [
    "x = np.array([-1.0,1.0, 2.0])\n",
    "sigmoid(x)"
   ]
  },
  {
   "cell_type": "markdown",
   "metadata": {},
   "source": [
    "### 矩阵的乘法\n"
   ]
  },
  {
   "cell_type": "code",
   "execution_count": null,
   "metadata": {},
   "outputs": [],
   "source": [
    "A = np.array([[1,2,3], [4,5,6]])\n",
    "print(A.shape)\n",
    "B = np.array([[1,2],[3,4],[5,6]])\n",
    "print(B.shape)\n",
    "\n",
    "C = np.dot(A, B)\n",
    "print(C.shape)\n",
    "print(C)"
   ]
  },
  {
   "cell_type": "markdown",
   "metadata": {},
   "source": [
    "# 多层网络信号传递的实现"
   ]
  },
  {
   "cell_type": "markdown",
   "metadata": {},
   "source": [
    "### TODO： 少图"
   ]
  },
  {
   "cell_type": "code",
   "execution_count": null,
   "metadata": {},
   "outputs": [],
   "source": [
    "X = np.array([1.0, 0.5])\n",
    "W1 = np.array([[0.1, 0.3, 0.5], [0.2, 0.4, 0.6]])\n",
    "B1 = np.array([0.1, 0.2, 0.3])\n",
    "\n",
    "print(X.shape)\n",
    "print(W1.shape)\n",
    "print(B1.shape)\n",
    "\n",
    "\n",
    "A1 = np.dot(X, W1)+B1\n",
    "print('A1 shape: ', A1.shape)\n",
    "print(A1)\n",
    "\n",
    "Z1 = sigmoid(A1)\n",
    "print('Z1: ', Z1)"
   ]
  },
  {
   "cell_type": "markdown",
   "metadata": {},
   "source": [
    "### TODO： 少图"
   ]
  },
  {
   "cell_type": "code",
   "execution_count": null,
   "metadata": {},
   "outputs": [],
   "source": [
    "W2 = np.array([[0.1, 0.4], [0.2, 0.5], [0.3, 0.6]])\n",
    "B2 = np.array([0.1, 0.2])\n",
    "\n",
    "print(Z1.shape)\n",
    "print(W2.shape)\n",
    "print(B2.shape)\n",
    "\n",
    "A2 = np.dot(Z1, W2) + B2\n",
    "Z2 = sigmoid(A2)\n",
    "print(Z2)"
   ]
  },
  {
   "cell_type": "markdown",
   "metadata": {},
   "source": [
    "### TODO： 少图"
   ]
  },
  {
   "cell_type": "code",
   "execution_count": null,
   "metadata": {},
   "outputs": [],
   "source": [
    "def identity_function(x):\n",
    "    return x\n",
    "\n",
    "W3 = np.array([[0.1, 0.3], [0.2, 0.4]])\n",
    "B3 = np.array([0.1, 0.2])\n",
    "\n",
    "A3 = np.dot(Z2, W3) +B3\n",
    "Y = identity_function(A3)\n",
    "\n",
    "print(Y)"
   ]
  },
  {
   "cell_type": "markdown",
   "metadata": {},
   "source": [
    "------------------------------\n",
    "#  代码整体实现"
   ]
  },
  {
   "cell_type": "code",
   "execution_count": null,
   "metadata": {},
   "outputs": [],
   "source": [
    "class simple_network:\n",
    "    def __init__(self):\n",
    "        self.network = {}\n",
    "        self.network['W1'] = np.array([[0.1, 0.3, 0.5], [0.2, 0.4, 0.6]])\n",
    "        self.network['b1'] = np.array([0.1, 0.2, 0.3])\n",
    "        self.network['W2'] = np.array([[0.1, 0.4], [0.2, 0.5], [0.3, 0.6]])\n",
    "        self.network['b2'] = np.array([0.1, 0.2])\n",
    "        self.network['W3'] = np.array([[0.1, 0.3], [0.2, 0.4]])\n",
    "        self.network['b3'] = np.array([0.1, 0.2])\n",
    "        \n",
    "    def forward(self, x):\n",
    "        W1, W2, W3 = self.network['W1'], self.network['W2'], self.network['W3']\n",
    "        b1, b2, b3 = self.network['b1'], self.network['b2'], self.network['b3']\n",
    "        \n",
    "        a1 = np.dot(x, W1) + b1\n",
    "        z1 = sigmoid(a1)\n",
    "        a2 = np.dot(z1, W2) + b2\n",
    "        z2 = sigmoid(a2)\n",
    "        a3 = np.dot(z2, W3) + b3\n",
    "        y = identity_function(a3)\n",
    "        \n",
    "        return y\n",
    "        \n",
    "        "
   ]
  },
  {
   "cell_type": "markdown",
   "metadata": {},
   "source": [
    "### 调用网络 进行预测"
   ]
  },
  {
   "cell_type": "code",
   "execution_count": null,
   "metadata": {},
   "outputs": [],
   "source": [
    "\n",
    "network = simple_network()\n",
    "X = np.array([1.0, 0.5])\n",
    "y = network.forward(X)\n",
    "print(y)\n"
   ]
  },
  {
   "cell_type": "markdown",
   "metadata": {},
   "source": [
    "------------------------------\n",
    "# 手写字体识别\n",
    "\n"
   ]
  },
  {
   "cell_type": "code",
   "execution_count": null,
   "metadata": {},
   "outputs": [],
   "source": [
    "def get_data():\n",
    "    %%time\n",
    "    \n",
    "    with gzip.open('mnist.pkl.gz', 'rb') as f:\n",
    "        train_set, valid_set, test_set = pickle.load(f, encoding='latin1')\n",
    "\n",
    "        X_train = train_set[0]\n",
    "        y_train = train_set[1]\n",
    "        X_test = test_set[0]\n",
    "        y_test = test_set[1]\n",
    "        \n",
    "    return X_train, y_train,  X_test, y_test\n"
   ]
  },
  {
   "cell_type": "code",
   "execution_count": null,
   "metadata": {},
   "outputs": [],
   "source": [
    "X_train, y_train,  X_test, y_test = get_data()"
   ]
  },
  {
   "cell_type": "code",
   "execution_count": null,
   "metadata": {},
   "outputs": [],
   "source": [
    "print(X_train.shape)"
   ]
  },
  {
   "cell_type": "code",
   "execution_count": null,
   "metadata": {},
   "outputs": [],
   "source": [
    "# 绘制一张图片\n",
    "%matplotlib inline\n",
    "import matplotlib\n",
    "some_digit = X_train[22]\n",
    "some_digit_image = some_digit.reshape(28, 28)\n",
    "\n",
    "plt.imshow(some_digit_image, cmap = matplotlib.cm.binary, interpolation=\"nearest\")\n",
    "plt.axis(\"off\")\n",
    "plt.show()"
   ]
  },
  {
   "cell_type": "code",
   "execution_count": null,
   "metadata": {},
   "outputs": [],
   "source": [
    "\n",
    "def sigmoid(x):\n",
    "    return 1 / (1 + np.exp(-x))    \n",
    "\n",
    "\n",
    "def step_function(x):\n",
    "    return np.array(x > 0, dtype=np.int)\n",
    "\n",
    "def softmax(x):\n",
    "    if x.ndim == 2:\n",
    "        x = x.T\n",
    "        x = x - np.max(x, axis=0)\n",
    "        y = np.exp(x) / np.sum(np.exp(x), axis=0)\n",
    "        return y.T \n",
    "\n",
    "    x = x - np.max(x) # 溢出对策\n",
    "    return np.exp(x) / np.sum(np.exp(x))"
   ]
  },
  {
   "cell_type": "code",
   "execution_count": null,
   "metadata": {},
   "outputs": [],
   "source": [
    "def init_network():\n",
    "    with open(\"sample_weight.pkl\", 'rb') as f:\n",
    "        network = pickle.load(f)\n",
    "    return network\n",
    "def predict(network, x):\n",
    "    W1, W2, W3 = network['W1'], network['W2'], network['W3']\n",
    "    b1, b2, b3 = network['b1'], network['b2'], network['b3']\n",
    "\n",
    "    a1 = np.dot(x, W1) + b1\n",
    "    z1 = sigmoid(a1)\n",
    "    a2 = np.dot(z1, W2) + b2\n",
    "    z2 = sigmoid(a2)\n",
    "    a3 = np.dot(z2, W3) + b3\n",
    "    y = softmax(a3)\n",
    "\n",
    "    return y\n",
    "\n"
   ]
  },
  {
   "cell_type": "code",
   "execution_count": null,
   "metadata": {},
   "outputs": [],
   "source": [
    "\n",
    "\n",
    "network = init_network()\n",
    "accuracy_cnt = 0\n",
    "for i in range(len(X_test)):\n",
    "    y = predict(network, X_test[i])\n",
    "    p= np.argmax(y) # 获取概率最高的元素的索引\n",
    "    if p == y_test[i]:\n",
    "        accuracy_cnt += 1\n",
    "\n",
    "print(\"Accuracy:\" + str(float(accuracy_cnt) / len(X_test)))"
   ]
  },
  {
   "cell_type": "code",
   "execution_count": null,
   "metadata": {},
   "outputs": [],
   "source": [
    "test_index = 22\n",
    "\n",
    "%matplotlib inline\n",
    "import matplotlib\n",
    "some_digit = X_test[test_index]\n",
    "some_digit_image = some_digit.reshape(28, 28)\n",
    "\n",
    "plt.imshow(some_digit_image, cmap = matplotlib.cm.binary, interpolation=\"nearest\")\n",
    "plt.axis(\"off\")\n",
    "plt.show()"
   ]
  },
  {
   "cell_type": "code",
   "execution_count": null,
   "metadata": {},
   "outputs": [],
   "source": [
    "y = predict(network, X_test[test_index])\n",
    "print (' 预测第',test_index, '个元素的值为 ' , np.argmax(y))"
   ]
  },
  {
   "cell_type": "code",
   "execution_count": null,
   "metadata": {},
   "outputs": [],
   "source": []
  }
 ],
 "metadata": {
  "kernelspec": {
   "display_name": "Python 3",
   "language": "python",
   "name": "python3"
  },
  "language_info": {
   "codemirror_mode": {
    "name": "ipython",
    "version": 3
   },
   "file_extension": ".py",
   "mimetype": "text/x-python",
   "name": "python",
   "nbconvert_exporter": "python",
   "pygments_lexer": "ipython3",
   "version": "3.6.5"
  }
 },
 "nbformat": 4,
 "nbformat_minor": 2
}
