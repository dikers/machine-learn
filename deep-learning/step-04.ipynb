{
 "cells": [
  {
   "cell_type": "code",
   "execution_count": 2,
   "metadata": {},
   "outputs": [],
   "source": [
    "import numpy as np\n",
    "from collections import OrderedDict"
   ]
  },
  {
   "cell_type": "code",
   "execution_count": 3,
   "metadata": {},
   "outputs": [],
   "source": [
    "\n",
    "def MaxMinNormalization(x):\n",
    "    \"\"\"\n",
    "    线性归一化，将输入list归一化\n",
    "    :param x: list类型\n",
    "    :return: 归一化list\n",
    "    \"\"\"\n",
    "    x = (x - np.min(x)) / (np.max(x) - np.min(x))\n",
    "    return x\n",
    "\n",
    "\n",
    "def normalization(list):\n",
    "    \"\"\"\n",
    "    归一化接口，目前只支持线性归一化\n",
    "    :param list: 矩阵形式\n",
    "    :return: 归一化矩阵\n",
    "    \"\"\"\n",
    "    out = []\n",
    "    for x in list:\n",
    "        out.append(MaxMinNormalization(x))\n",
    "    return out\n",
    "\n",
    "\n",
    "def get_max(list):\n",
    "    \"\"\"\n",
    "    提取音频序列中的极大值特征\n",
    "    :param list，宽度固定为20维，长度不限\n",
    "    :return:20维数组\n",
    "    \"\"\"\n",
    "    average = []\n",
    "    arr_temp = np.array(list)\n",
    "    # arr_temp=np.dot(arr_temp,arr_temp.T)\n",
    "    for a in arr_temp:\n",
    "        average.append(max(a))\n",
    "    # average.append(math.atan(max(a)) * 2 / 3.1415926)\n",
    "    return average\n",
    "\n",
    "def load(file):\n",
    "    \"\"\"\n",
    "    输入文件名，加载数据\n",
    "    :param file:文件名\n",
    "    :return:浮点型数组\n",
    "    \"\"\"\n",
    "    list = []\n",
    "    f = open(file, 'r', encoding='UTF-8')\n",
    "    for line in f:\n",
    "        line_list = line.replace(',\\n', '').split(',')\n",
    "        for i in range(len(line_list)):\n",
    "            line_list[i] = float(line_list[i])\n",
    "        list.append(line_list)\n",
    "        list = normalization(list)\n",
    "    return np.array(list)\n",
    "\n",
    "\n",
    "def load_y(file):\n",
    "    \"\"\"\n",
    "    输入文件名，加载数据\n",
    "    :param file:文件名\n",
    "    :return:浮点型数组\n",
    "    \"\"\"\n",
    "    list = []\n",
    "    f = open(file, 'r', encoding='UTF-8')\n",
    "    for line in f:\n",
    "        list.append(np.int64(line))\n",
    "    return np.array(list)"
   ]
  },
  {
   "cell_type": "code",
   "execution_count": 10,
   "metadata": {},
   "outputs": [
    {
     "name": "stdout",
     "output_type": "stream",
     "text": [
      "(364, 20)\n",
      "(364,)\n",
      "(91, 20)\n",
      "(91,)\n",
      "[0.         1.         0.7439373  0.81523204 0.68245398 0.63583235\n",
      " 0.56919546 0.63004358 0.51317874 0.5784048  0.56526871 0.54378003\n",
      " 0.53581913 0.51616541 0.51459717 0.52425463 0.49956383 0.50344389\n",
      " 0.51078665 0.51413449]\n"
     ]
    }
   ],
   "source": [
    "from sklearn.model_selection import train_test_split\n",
    "\n",
    "import matplotlib.pyplot as plt\n",
    "from sklearn.linear_model import LogisticRegression\n",
    "X = load('data/x.txt')\n",
    "y = load('data/y.txt')\n",
    "\n",
    "new_y = []\n",
    "for item in y:\n",
    "    new_y.append(np.argmax(item))\n",
    "    \n",
    "y = np.array(new_y)\n",
    "\n",
    "print(X.shape)\n",
    "print(y.shape)\n",
    "X_train, X_test, y_train, y_test = train_test_split(X, y, random_state=666)\n",
    "print(X_test.shape)\n",
    "print(y_test.shape)\n",
    "print(X[-1, ])"
   ]
  },
  {
   "cell_type": "code",
   "execution_count": 11,
   "metadata": {},
   "outputs": [
    {
     "name": "stdout",
     "output_type": "stream",
     "text": [
      "(273, 20)\n",
      "(273,)\n",
      "(91, 20)\n",
      "(91,)\n"
     ]
    }
   ],
   "source": [
    "print(X_train.shape)\n",
    "print(y_train.shape)\n",
    "print(X_test.shape)\n",
    "print(y_test.shape)"
   ]
  },
  {
   "cell_type": "code",
   "execution_count": 12,
   "metadata": {},
   "outputs": [],
   "source": [
    "class MulLayer:\n",
    "    def __init__(self):\n",
    "        self.x = None\n",
    "        self.y = None\n",
    "\n",
    "    def forward(self, x, y):\n",
    "        self.x = x\n",
    "        self.y = y                \n",
    "        out = x * y\n",
    "\n",
    "        return out\n",
    "\n",
    "    def backward(self, dout):\n",
    "        dx = dout * self.y\n",
    "        dy = dout * self.x\n",
    "\n",
    "        return dx, dy\n",
    "\n",
    "\n"
   ]
  },
  {
   "cell_type": "code",
   "execution_count": 13,
   "metadata": {},
   "outputs": [],
   "source": [
    "\n",
    "class AddLayer:\n",
    "    def __init__(self):\n",
    "        pass\n",
    "\n",
    "    def forward(self, x, y):\n",
    "        out = x + y\n",
    "\n",
    "        return out\n",
    "\n",
    "    def backward(self, dout):\n",
    "        dx = dout * 1\n",
    "        dy = dout * 1\n",
    "\n",
    "        return dx, dy"
   ]
  },
  {
   "cell_type": "markdown",
   "metadata": {},
   "source": [
    "### Affine 层"
   ]
  },
  {
   "cell_type": "code",
   "execution_count": 14,
   "metadata": {},
   "outputs": [],
   "source": [
    "class Affine:\n",
    "    def __init__(self, W, b):\n",
    "        self.W =W\n",
    "        self.b = b\n",
    "        \n",
    "        self.x = None\n",
    "        self.original_x_shape = None\n",
    "        # 权重和偏置参数的导数\n",
    "        self.dW = None\n",
    "        self.db = None\n",
    "\n",
    "    def forward(self, x):\n",
    "        # 对应张量\n",
    "        self.original_x_shape = x.shape\n",
    "        x = x.reshape(x.shape[0], -1)\n",
    "        self.x = x\n",
    "\n",
    "        out = np.dot(self.x, self.W) + self.b\n",
    "\n",
    "        return out\n",
    "    \n",
    "    def backward(self, dout):\n",
    "        dx = np.dot(dout, self.W.T)\n",
    "        self.dW = np.dot(self.x.T, dout)\n",
    "        self.db = np.sum(dout, axis=0)\n",
    "        \n",
    "        dx = dx.reshape(*self.original_x_shape)  # 还原输入数据的形状（对应张量）\n",
    "        return dx\n"
   ]
  },
  {
   "cell_type": "code",
   "execution_count": 15,
   "metadata": {},
   "outputs": [],
   "source": [
    "class Relu:\n",
    "    def __init__(self):\n",
    "        self.mask = None\n",
    "\n",
    "    def forward(self, x):\n",
    "        self.mask = (x <= 0)\n",
    "        out = x.copy()\n",
    "        out[self.mask] = 0\n",
    "\n",
    "        return out\n",
    "\n",
    "    def backward(self, dout):\n",
    "        dout[self.mask] = 0\n",
    "        dx = dout\n",
    "\n",
    "        return dx\n"
   ]
  },
  {
   "cell_type": "code",
   "execution_count": 16,
   "metadata": {},
   "outputs": [],
   "source": [
    "class SoftmaxWithLoss:\n",
    "    def __init__(self):\n",
    "        self.loss = None\n",
    "        self.y = None # softmax的输出\n",
    "        self.t = None # 监督数据\n",
    "\n",
    "    def forward(self, x, t):\n",
    "        self.t = t\n",
    "        self.y = softmax(x)\n",
    "        self.loss = cross_entropy_error(self.y, self.t)\n",
    "        \n",
    "        return self.loss\n",
    "\n",
    "    def backward(self, dout=1):\n",
    "        batch_size = self.t.shape[0]\n",
    "        if self.t.size == self.y.size: # 监督数据是one-hot-vector的情况\n",
    "            dx = (self.y - self.t) / batch_size\n",
    "        else:\n",
    "            dx = self.y.copy()\n",
    "            dx[np.arange(batch_size), self.t] -= 1\n",
    "            dx = dx / batch_size\n",
    "        \n",
    "        return dx"
   ]
  },
  {
   "cell_type": "code",
   "execution_count": 17,
   "metadata": {},
   "outputs": [],
   "source": [
    "def softmax(x):\n",
    "    if x.ndim == 2:\n",
    "        x = x.T\n",
    "        x = x - np.max(x, axis=0)\n",
    "        y = np.exp(x) / np.sum(np.exp(x), axis=0)\n",
    "        return y.T \n",
    "\n",
    "    x = x - np.max(x) # 溢出对策\n",
    "    return np.exp(x) / np.sum(np.exp(x))"
   ]
  },
  {
   "cell_type": "code",
   "execution_count": 18,
   "metadata": {},
   "outputs": [],
   "source": [
    "\n",
    "def cross_entropy_error(y, t):\n",
    "    if y.ndim == 1:\n",
    "        t = t.reshape(1, t.size)\n",
    "        y = y.reshape(1, y.size)\n",
    "        \n",
    "    # 监督数据是one-hot-vector的情况下，转换为正确解标签的索引\n",
    "    if t.size == y.size:\n",
    "        t = t.argmax(axis=1)\n",
    "             \n",
    "    batch_size = y.shape[0]\n",
    "    return -np.sum(np.log(y[np.arange(batch_size), t] + 1e-7)) / batch_size"
   ]
  },
  {
   "cell_type": "code",
   "execution_count": 19,
   "metadata": {},
   "outputs": [],
   "source": [
    "class TwoLayerNet:\n",
    "\n",
    "    def __init__(self, input_size, hidden_size, output_size, weight_init_std = 0.01):\n",
    "        # 初始化权重\n",
    "        self.params = {}\n",
    "        self.params['W1'] = weight_init_std * np.random.randn(input_size, hidden_size)\n",
    "        self.params['b1'] = np.zeros(hidden_size)\n",
    "        self.params['W2'] = weight_init_std * np.random.randn(hidden_size, output_size) \n",
    "        self.params['b2'] = np.zeros(output_size)\n",
    "\n",
    "        # 生成层\n",
    "        self.layers = OrderedDict()\n",
    "        self.layers['Affine1'] = Affine(self.params['W1'], self.params['b1'])\n",
    "        self.layers['Relu1'] = Relu()\n",
    "        self.layers['Affine2'] = Affine(self.params['W2'], self.params['b2'])\n",
    "\n",
    "        self.lastLayer = SoftmaxWithLoss()\n",
    "        \n",
    "    def predict(self, x):\n",
    "        for layer in self.layers.values():\n",
    "            x = layer.forward(x)\n",
    "        \n",
    "        return x\n",
    "        \n",
    "    # x:输入数据, t:监督数据\n",
    "    def loss(self, x, t):\n",
    "        y = self.predict(x)\n",
    "        return self.lastLayer.forward(y, t)\n",
    "    \n",
    "    def accuracy(self, x, t):\n",
    "        y = self.predict(x)\n",
    "        y = np.argmax(y, axis=1)\n",
    "        if t.ndim != 1 : t = np.argmax(t, axis=1)\n",
    "        \n",
    "        accuracy = np.sum(y == t) / float(x.shape[0])\n",
    "        return accuracy\n",
    "        \n",
    "    # x:输入数据, t:监督数据\n",
    "    def numerical_gradient(self, x, t):\n",
    "        loss_W = lambda W: self.loss(x, t)\n",
    "        \n",
    "        grads = {}\n",
    "        grads['W1'] = numerical_gradient(loss_W, self.params['W1'])\n",
    "        grads['b1'] = numerical_gradient(loss_W, self.params['b1'])\n",
    "        grads['W2'] = numerical_gradient(loss_W, self.params['W2'])\n",
    "        grads['b2'] = numerical_gradient(loss_W, self.params['b2'])\n",
    "        \n",
    "        return grads\n",
    "        \n",
    "    def gradient(self, x, t):\n",
    "        # forward\n",
    "        self.loss(x, t)\n",
    "\n",
    "        # backward\n",
    "        dout = 1\n",
    "        dout = self.lastLayer.backward(dout)\n",
    "        \n",
    "        layers = list(self.layers.values())\n",
    "        layers.reverse()\n",
    "        for layer in layers:\n",
    "            dout = layer.backward(dout)\n",
    "\n",
    "        # 设定\n",
    "        grads = {}\n",
    "        grads['W1'], grads['b1'] = self.layers['Affine1'].dW, self.layers['Affine1'].db\n",
    "        grads['W2'], grads['b2'] = self.layers['Affine2'].dW, self.layers['Affine2'].db\n",
    "\n",
    "        return grads"
   ]
  },
  {
   "cell_type": "code",
   "execution_count": 41,
   "metadata": {},
   "outputs": [
    {
     "name": "stdout",
     "output_type": "stream",
     "text": [
      "0\t ==>0.358974358974359   0.26373626373626374 \n",
      "5000\t ==>0.8058608058608059   0.7582417582417582 \n",
      "10000\t ==>0.8571428571428571   0.7582417582417582 \n",
      "15000\t ==>0.8791208791208791   0.8021978021978022 \n",
      "20000\t ==>0.8754578754578755   0.8131868131868132 \n",
      "25000\t ==>0.9304029304029304   0.8791208791208791 \n",
      "30000\t ==>0.9487179487179487   0.9010989010989011 \n",
      "35000\t ==>0.967032967032967   0.9010989010989011 \n",
      "40000\t ==>0.978021978021978   0.9120879120879121 \n",
      "45000\t ==>0.978021978021978   0.8901098901098901 \n",
      "50000\t ==>0.978021978021978   0.9010989010989011 \n",
      "55000\t ==>0.9816849816849816   0.9120879120879121 \n",
      "60000\t ==>0.9816849816849816   0.9010989010989011 \n",
      "65000\t ==>0.9853479853479854   0.9010989010989011 \n",
      "70000\t ==>0.989010989010989   0.9010989010989011 \n",
      "75000\t ==>0.9963369963369964   0.9010989010989011 \n",
      "80000\t ==>1.0   0.9120879120879121 \n",
      "85000\t ==>0.9963369963369964   0.9010989010989011 \n",
      "90000\t ==>0.9853479853479854   0.9010989010989011 \n",
      "95000\t ==>0.9963369963369964   0.9010989010989011 \n",
      "100000\t ==>1.0   0.9120879120879121 \n",
      "105000\t ==>1.0   0.9010989010989011 \n",
      "110000\t ==>1.0   0.9120879120879121 \n",
      "115000\t ==>1.0   0.9120879120879121 \n",
      "120000\t ==>0.9963369963369964   0.9120879120879121 \n",
      "125000\t ==>1.0   0.9120879120879121 \n",
      "130000\t ==>1.0   0.9120879120879121 \n",
      "135000\t ==>1.0   0.9010989010989011 \n"
     ]
    }
   ],
   "source": [
    "\n",
    "network = TwoLayerNet(input_size=20, hidden_size=200, output_size=3)\n",
    "\n",
    "iters_num = 140000\n",
    "train_size = X_train.shape[0]\n",
    "batch_size = 50\n",
    "learning_rate = 0.04\n",
    "\n",
    "train_loss_list = []\n",
    "train_acc_list = []\n",
    "test_acc_list = []\n",
    "\n",
    "iter_per_epoch = max(train_size / batch_size, 5000)\n",
    "\n",
    "for i in range(iters_num):\n",
    "    batch_mask = np.random.choice(train_size, batch_size)\n",
    "    X_batch = X_train[batch_mask]\n",
    "    y_batch = y_train[batch_mask]\n",
    "    \n",
    "    # 梯度\n",
    "    #grad = network.numerical_gradient(x_batch, t_batch)\n",
    "    grad = network.gradient(X_batch, y_batch)\n",
    "    \n",
    "    # 更新\n",
    "    for key in ('W1', 'b1', 'W2', 'b2'):\n",
    "        network.params[key] -= learning_rate * grad[key]\n",
    "    \n",
    "    loss = network.loss(X_batch, y_batch)\n",
    "\n",
    "    \n",
    "    if i % iter_per_epoch == 0:\n",
    "        train_acc = network.accuracy(X_train, y_train)\n",
    "        test_acc = network.accuracy(X_test, y_test)\n",
    "        train_acc_list.append(train_acc)\n",
    "        test_acc_list.append(test_acc)\n",
    "        train_loss_list.append(loss)\n",
    "        print('{}\\t ==> train_acc:{}   test_acc:{}  loss:{}'.format(i, train_acc, test_acc, loss))\n"
   ]
  },
  {
   "cell_type": "code",
   "execution_count": 42,
   "metadata": {},
   "outputs": [
    {
     "data": {
      "image/png": "[encoded data removed]",
      "text/plain": [
       "<matplotlib.figure.Figure at 0x12a6a0fd0>"
      ]
     },
     "metadata": {},
     "output_type": "display_data"
    }
   ],
   "source": [
    "import matplotlib.pyplot as plt\n",
    "markers = {'train': 'o', 'test': 's'}\n",
    "x = np.arange(len(train_loss_list))\n",
    "plt.plot(x, train_loss_list, label='train acc')\n",
    "\n",
    "plt.show()"
   ]
  },
  {
   "cell_type": "code",
   "execution_count": 43,
   "metadata": {},
   "outputs": [
    {
     "data": {
      "text/plain": [
       "0.9120879120879121"
      ]
     },
     "execution_count": 43,
     "metadata": {},
     "output_type": "execute_result"
    }
   ],
   "source": [
    "network.accuracy(X_test, y_test)"
   ]
  },
  {
   "cell_type": "code",
   "execution_count": 47,
   "metadata": {},
   "outputs": [
    {
     "name": "stderr",
     "output_type": "stream",
     "text": [
      "/Users/mac/.local/lib/python3.6/site-packages/librosa/core/audio.py:146: UserWarning: PySoundFile failed. Trying audioread instead.\n",
      "  warnings.warn('PySoundFile failed. Trying audioread instead.')\n"
     ]
    },
    {
     "name": "stdout",
     "output_type": "stream",
     "text": [
      "(1, 20)\n"
     ]
    }
   ],
   "source": [
    "import librosa\n",
    "# /Users/mac/Desktop/nwcd/客户资料/001蓝拓扑/test_data/h/110.mp3\n",
    "# y, sr = librosa.load('./data/test.mp3')\n",
    "y, sr = librosa.load('/Users/mac/Desktop/nwcd/客户资料/001蓝拓扑/test_data/w/0.mp3')\n",
    "a = librosa.feature.mfcc(y=y, sr=sr)\n",
    "predict_input = np.array(get_max(a)) \n",
    "\n",
    "predict_input = predict_input.reshape(1, 20)\n",
    "print(predict_input.shape)\n"
   ]
  },
  {
   "cell_type": "code",
   "execution_count": 48,
   "metadata": {},
   "outputs": [
    {
     "name": "stdout",
     "output_type": "stream",
     "text": [
      "(364, 20)\n",
      "(1, 20)\n",
      "(365, 20)\n",
      "[[-3.8404647   9.2484415  -5.46349251]]\n",
      "x:  h\n"
     ]
    }
   ],
   "source": [
    "def _load(file):\n",
    "    \"\"\"\n",
    "    输入文件名，加载数据\n",
    "    :param file:文件名\n",
    "    :return:浮点型数组\n",
    "    \"\"\"\n",
    "    list = []\n",
    "    f = open(file, 'r', encoding='UTF-8')\n",
    "    for line in f:\n",
    "        line_list = line.replace(',\\n', '').split(',')\n",
    "        for i in range(len(line_list)):\n",
    "            line_list[i] = float(line_list[i])\n",
    "        list.append(line_list)\n",
    "    return np.array(list)\n",
    " \n",
    "# 重新正则化\n",
    "_X = _load('data/x.txt')\n",
    "print(_X.shape)\n",
    "print(predict_input.shape)\n",
    "_X = np.concatenate( (_X, predict_input) )\n",
    "print(_X.shape)\n",
    "\n",
    "_X = normalization(_X)\n",
    "\n",
    "# 预测最后一个新加的输入参数\n",
    "network.predict(X[-1:,])\n",
    "real_lable =['z', 'h', 'w']\n",
    "print(network.predict(X[-1:,]))\n",
    "print(\"x: \", real_lable[np.argmax(network.predict(X[-1:,])[0])])\n",
    "# print(real_lable[np.argmax()]\n",
    "\n",
    " "
   ]
  },
  {
   "cell_type": "code",
   "execution_count": null,
   "metadata": {},
   "outputs": [],
   "source": []
  },
  {
   "cell_type": "code",
   "execution_count": null,
   "metadata": {},
   "outputs": [],
   "source": []
  }
 ],
 "metadata": {
  "kernelspec": {
   "display_name": "Python 3",
   "language": "python",
   "name": "python3"
  },
  "language_info": {
   "codemirror_mode": {
    "name": "ipython",
    "version": 3
   },
   "file_extension": ".py",
   "mimetype": "text/x-python",
   "name": "python",
   "nbconvert_exporter": "python",
   "pygments_lexer": "ipython3",
   "version": "3.6.5"
  }
 },
 "nbformat": 4,
 "nbformat_minor": 2
}
