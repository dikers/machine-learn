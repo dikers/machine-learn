{
 "cells": [
  {
   "cell_type": "markdown",
   "metadata": {},
   "source": [
    "# Keras 实战 归一化"
   ]
  },
  {
   "cell_type": "code",
   "execution_count": 1,
   "metadata": {},
   "outputs": [
    {
     "name": "stdout",
     "output_type": "stream",
     "text": [
      "tf    version: 1.14.0\n",
      "keras version: 2.2.4-tf\n"
     ]
    }
   ],
   "source": [
    "import matplotlib as mpl\n",
    "import matplotlib.pyplot as plt\n",
    "%matplotlib inline\n",
    "import numpy as np\n",
    "import sklearn\n",
    "import pandas as pd\n",
    "import os\n",
    "import sys\n",
    "import time\n",
    "import tensorflow as tf\n",
    "from tensorflow import keras\n",
    "print('tf    version: {}'.format(tf.__version__) )\n",
    "print('keras version: {}'.format(keras.__version__) )"
   ]
  },
  {
   "cell_type": "code",
   "execution_count": 2,
   "metadata": {},
   "outputs": [
    {
     "name": "stdout",
     "output_type": "stream",
     "text": [
      "(5000, 28, 28) (5000,)\n",
      "(55000, 28, 28) (55000,)\n",
      "(10000, 28, 28) (10000,)\n",
      "255 0\n"
     ]
    }
   ],
   "source": [
    "fashion_mnist = keras.datasets.fashion_mnist\n",
    "(x_train_all, y_train_all), (x_test, y_test) = fashion_mnist.load_data()\n",
    "x_valid, x_train = x_train_all[:5000], x_train_all[5000:]\n",
    "y_valid, y_train = y_train_all[:5000], y_train_all[5000:]\n",
    "\n",
    "print(x_valid.shape, y_valid.shape)\n",
    "print(x_train.shape, y_train.shape)\n",
    "print(x_test.shape, y_test.shape)\n",
    "\n",
    "print(np.max(x_train), np.min(x_train))"
   ]
  },
  {
   "cell_type": "code",
   "execution_count": 3,
   "metadata": {},
   "outputs": [
    {
     "name": "stdout",
     "output_type": "stream",
     "text": [
      "2.0231433 -0.8105136\n"
     ]
    }
   ],
   "source": [
    "from sklearn.preprocessing import StandardScaler\n",
    "\n",
    "scaler = StandardScaler()\n",
    "x_train_scaled = scaler.fit_transform(\n",
    "    x_train.astype(np.float32).reshape(-1,1)).reshape(-1, 28, 28)\n",
    "\n",
    "x_valid_scaled = scaler.transform(\n",
    "    x_valid.astype(np.float32).reshape(-1,1)).reshape(-1, 28, 28)\n",
    "\n",
    "x_test_scaled = scaler.transform(\n",
    "    x_test.astype(np.float32).reshape(-1,1)).reshape(-1, 28, 28)\n",
    "\n",
    "print(np.max(x_train_scaled), np.min(x_train_scaled))"
   ]
  },
  {
   "cell_type": "markdown",
   "metadata": {},
   "source": [
    "### tf.keras.Sequential\n",
    "  堆叠layer"
   ]
  },
  {
   "cell_type": "code",
   "execution_count": 4,
   "metadata": {},
   "outputs": [
    {
     "name": "stdout",
     "output_type": "stream",
     "text": [
      "WARNING:tensorflow:From /home/ec2-user/anaconda3/envs/tensorflow_p36/lib/python3.6/site-packages/tensorflow/python/ops/init_ops.py:1251: calling VarianceScaling.__init__ (from tensorflow.python.ops.init_ops) with dtype is deprecated and will be removed in a future version.\n",
      "Instructions for updating:\n",
      "Call initializer instance with the dtype argument instead of passing it to the constructor\n"
     ]
    }
   ],
   "source": [
    "model = keras.models.Sequential([\n",
    "    keras.layers.Flatten(input_shape=[28,28]),\n",
    "    keras.layers.Dense(300, activation='relu'),\n",
    "    keras.layers.Dense(100, activation='relu'),\n",
    "    keras.layers.Dense(10, activation='softmax')\n",
    "    ])\n",
    "\n",
    "# softmax 将向量变成概率分布\n",
    "\n",
    "#sparse.  y -> index 用 sparse_categorical_crossentropy\n",
    "# y -> onehot 就用categorical_crossentropy\n",
    "model.compile(loss='sparse_categorical_crossentropy',\n",
    "             optimizer = keras.optimizers.SGD(0.001),\n",
    "             metrics=['accuracy'])\n",
    "\n"
   ]
  },
  {
   "cell_type": "code",
   "execution_count": 10,
   "metadata": {},
   "outputs": [
    {
     "name": "stdout",
     "output_type": "stream",
     "text": [
      "Train on 55000 samples, validate on 5000 samples\n",
      "Epoch 1/40\n",
      "55000/55000 [==============================] - 3s 60us/sample - loss: 0.3057 - acc: 0.8923 - val_loss: 0.3382 - val_acc: 0.8808\n",
      "Epoch 2/40\n",
      "55000/55000 [==============================] - 3s 60us/sample - loss: 0.3032 - acc: 0.8937 - val_loss: 0.3358 - val_acc: 0.8812\n",
      "Epoch 3/40\n",
      "55000/55000 [==============================] - 3s 61us/sample - loss: 0.3007 - acc: 0.8942 - val_loss: 0.3356 - val_acc: 0.8810\n",
      "Epoch 4/40\n",
      "55000/55000 [==============================] - 3s 60us/sample - loss: 0.2982 - acc: 0.8956 - val_loss: 0.3344 - val_acc: 0.8830\n",
      "Epoch 5/40\n",
      "55000/55000 [==============================] - 3s 60us/sample - loss: 0.2958 - acc: 0.8967 - val_loss: 0.3355 - val_acc: 0.8838\n",
      "Epoch 6/40\n",
      "55000/55000 [==============================] - 3s 60us/sample - loss: 0.2938 - acc: 0.8963 - val_loss: 0.3369 - val_acc: 0.8808\n",
      "Epoch 7/40\n",
      "55000/55000 [==============================] - 3s 60us/sample - loss: 0.2914 - acc: 0.8970 - val_loss: 0.3300 - val_acc: 0.8846\n",
      "Epoch 8/40\n",
      "55000/55000 [==============================] - 3s 60us/sample - loss: 0.2890 - acc: 0.8986 - val_loss: 0.3333 - val_acc: 0.8848\n",
      "Epoch 9/40\n",
      "55000/55000 [==============================] - 3s 60us/sample - loss: 0.2871 - acc: 0.8990 - val_loss: 0.3272 - val_acc: 0.8830\n",
      "Epoch 10/40\n",
      "55000/55000 [==============================] - 3s 60us/sample - loss: 0.2850 - acc: 0.9002 - val_loss: 0.3301 - val_acc: 0.8828\n",
      "Epoch 11/40\n",
      "55000/55000 [==============================] - 3s 60us/sample - loss: 0.2828 - acc: 0.9012 - val_loss: 0.3287 - val_acc: 0.8820\n",
      "Epoch 12/40\n",
      "55000/55000 [==============================] - 3s 60us/sample - loss: 0.2803 - acc: 0.9025 - val_loss: 0.3265 - val_acc: 0.8856\n",
      "CPU times: user 1min 11s, sys: 3.84 s, total: 1min 15s\n",
      "Wall time: 39.8 s\n"
     ]
    }
   ],
   "source": [
    "%%time\n",
    "logdir = './data/'\n",
    "if not os.path.exists(logdir):\n",
    "    os.mkdir(logdir)\n",
    "    \n",
    "output_model_file = os.path.join(logdir, \n",
    "            \"fashion_mnist_model.h5\")\n",
    "\n",
    "callbacks = [\n",
    "    keras.callbacks.TensorBoard(logdir), \n",
    "    keras.callbacks.ModelCheckpoint(output_model_file,\n",
    "                                   save_best_only=True), \n",
    "    keras.callbacks.EarlyStopping(\n",
    "                                 min_delta=1e-3, \n",
    "                                 patience=3)\n",
    "]\n",
    "\n",
    "history = model.fit(x_train_scaled, y_train, epochs=40, \n",
    "         validation_data=(x_valid_scaled,y_valid), \n",
    "                   callbacks = callbacks)"
   ]
  },
  {
   "cell_type": "code",
   "execution_count": 11,
   "metadata": {},
   "outputs": [
    {
     "data": {
      "image/png": "[encoded data removed]",
      "text/plain": [
       "<Figure size 576x360 with 1 Axes>"
      ]
     },
     "metadata": {},
     "output_type": "display_data"
    }
   ],
   "source": [
    "def plot_learning_curves(history):\n",
    "    pd.DataFrame(history.history).plot(figsize=(8,5))\n",
    "    plt.grid(True)\n",
    "    plt.gca().set_ylim(0,1)\n",
    "    plt.show()\n",
    "    \n",
    "    \n",
    "plot_learning_curves(history)"
   ]
  },
  {
   "cell_type": "code",
   "execution_count": null,
   "metadata": {},
   "outputs": [],
   "source": [
    "model.evaluate(x_test_scaled, y_test)"
   ]
  },
  {
   "cell_type": "code",
   "execution_count": null,
   "metadata": {},
   "outputs": [],
   "source": []
  },
  {
   "cell_type": "code",
   "execution_count": null,
   "metadata": {},
   "outputs": [],
   "source": []
  }
 ],
 "metadata": {
  "kernelspec": {
   "display_name": "Python [conda env:tensorflow_p36]",
   "language": "python",
   "name": "conda-env-tensorflow_p36-py"
  },
  "language_info": {
   "codemirror_mode": {
    "name": "ipython",
    "version": 3
   },
   "file_extension": ".py",
   "mimetype": "text/x-python",
   "name": "python",
   "nbconvert_exporter": "python",
   "pygments_lexer": "ipython3",
   "version": "3.6.5"
  }
 },
 "nbformat": 4,
 "nbformat_minor": 2
}
