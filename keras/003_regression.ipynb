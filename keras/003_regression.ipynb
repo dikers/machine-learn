{
 "cells": [
  {
   "cell_type": "code",
   "execution_count": 1,
   "metadata": {},
   "outputs": [
    {
     "name": "stdout",
     "output_type": "stream",
     "text": [
      "tf    version: 1.14.0\n",
      "keras version: 2.2.4-tf\n"
     ]
    }
   ],
   "source": [
    "import matplotlib as mpl\n",
    "import matplotlib.pyplot as plt\n",
    "%matplotlib inline\n",
    "import numpy as np\n",
    "import sklearn\n",
    "import pandas as pd\n",
    "import os\n",
    "import sys\n",
    "import time\n",
    "import tensorflow as tf\n",
    "from tensorflow import keras\n",
    "print('tf    version: {}'.format(tf.__version__) )\n",
    "print('keras version: {}'.format(keras.__version__) )"
   ]
  },
  {
   "cell_type": "code",
   "execution_count": 2,
   "metadata": {},
   "outputs": [
    {
     "name": "stderr",
     "output_type": "stream",
     "text": [
      "Downloading Cal. housing from https://ndownloader.figshare.com/files/5976036 to /home/ec2-user/scikit_learn_data\n"
     ]
    },
    {
     "name": "stdout",
     "output_type": "stream",
     "text": [
      ".. _california_housing_dataset:\n",
      "\n",
      "California Housing dataset\n",
      "--------------------------\n",
      "\n",
      "**Data Set Characteristics:**\n",
      "\n",
      "    :Number of Instances: 20640\n",
      "\n",
      "    :Number of Attributes: 8 numeric, predictive attributes and the target\n",
      "\n",
      "    :Attribute Information:\n",
      "        - MedInc        median income in block\n",
      "        - HouseAge      median house age in block\n",
      "        - AveRooms      average number of rooms\n",
      "        - AveBedrms     average number of bedrooms\n",
      "        - Population    block population\n",
      "        - AveOccup      average house occupancy\n",
      "        - Latitude      house block latitude\n",
      "        - Longitude     house block longitude\n",
      "\n",
      "    :Missing Attribute Values: None\n",
      "\n",
      "This dataset was obtained from the StatLib repository.\n",
      "http://lib.stat.cmu.edu/datasets/\n",
      "\n",
      "The target variable is the median house value for California districts.\n",
      "\n",
      "This dataset was derived from the 1990 U.S. census, using one row per census\n",
      "block group. A block group is the smallest geographical unit for which the U.S.\n",
      "Census Bureau publishes sample data (a block group typically has a population\n",
      "of 600 to 3,000 people).\n",
      "\n",
      "It can be downloaded/loaded using the\n",
      ":func:`sklearn.datasets.fetch_california_housing` function.\n",
      "\n",
      ".. topic:: References\n",
      "\n",
      "    - Pace, R. Kelley and Ronald Barry, Sparse Spatial Autoregressions,\n",
      "      Statistics and Probability Letters, 33 (1997) 291-297\n",
      "\n",
      "(20640, 8)\n",
      "(20640,)\n"
     ]
    }
   ],
   "source": [
    "from sklearn.datasets import fetch_california_housing\n",
    "\n",
    "housing = fetch_california_housing()\n",
    "print(housing.DESCR)\n",
    "print(housing.data.shape)\n",
    "print(housing.target.shape)"
   ]
  },
  {
   "cell_type": "code",
   "execution_count": 3,
   "metadata": {},
   "outputs": [
    {
     "name": "stdout",
     "output_type": "stream",
     "text": [
      "array([[ 8.32520000e+00,  4.10000000e+01,  6.98412698e+00,\n",
      "         1.02380952e+00,  3.22000000e+02,  2.55555556e+00,\n",
      "         3.78800000e+01, -1.22230000e+02],\n",
      "       [ 8.30140000e+00,  2.10000000e+01,  6.23813708e+00,\n",
      "         9.71880492e-01,  2.40100000e+03,  2.10984183e+00,\n",
      "         3.78600000e+01, -1.22220000e+02],\n",
      "       [ 7.25740000e+00,  5.20000000e+01,  8.28813559e+00,\n",
      "         1.07344633e+00,  4.96000000e+02,  2.80225989e+00,\n",
      "         3.78500000e+01, -1.22240000e+02],\n",
      "       [ 5.64310000e+00,  5.20000000e+01,  5.81735160e+00,\n",
      "         1.07305936e+00,  5.58000000e+02,  2.54794521e+00,\n",
      "         3.78500000e+01, -1.22250000e+02],\n",
      "       [ 3.84620000e+00,  5.20000000e+01,  6.28185328e+00,\n",
      "         1.08108108e+00,  5.65000000e+02,  2.18146718e+00,\n",
      "         3.78500000e+01, -1.22250000e+02]])\n",
      "array([4.526, 3.585, 3.521, 3.413, 3.422])\n"
     ]
    }
   ],
   "source": [
    "import pprint\n",
    "\n",
    "pprint.pprint(housing.data[0:5])\n",
    "pprint.pprint(housing.target[0:5])"
   ]
  },
  {
   "cell_type": "code",
   "execution_count": 6,
   "metadata": {},
   "outputs": [],
   "source": [
    "from sklearn.model_selection import train_test_split\n",
    "\n",
    "x_train_all, x_test, y_train_all, y_test = train_test_split(housing.data, housing.target, random_state=7)\n",
    "    \n",
    "x_train, x_valid, y_train, y_valid = train_test_split(x_train_all, y_train_all, random_state=11)"
   ]
  },
  {
   "cell_type": "code",
   "execution_count": 8,
   "metadata": {},
   "outputs": [
    {
     "name": "stdout",
     "output_type": "stream",
     "text": [
      "(11610, 8) (11610,)\n",
      "(3870, 8) (3870,)\n",
      "(5160, 8) (5160,)\n"
     ]
    }
   ],
   "source": [
    "print(x_train.shape, y_train.shape)\n",
    "print(x_valid.shape, y_valid.shape)\n",
    "print(x_test.shape, y_test.shape)"
   ]
  },
  {
   "cell_type": "code",
   "execution_count": 10,
   "metadata": {},
   "outputs": [],
   "source": [
    "from sklearn.preprocessing import StandardScaler\n",
    "\n",
    "scaler = StandardScaler()\n",
    "x_train_scaled = scaler.fit_transform(x_train)\n",
    "x_valid_scaled = scaler.transform(x_valid)\n",
    "x_test_scaled = scaler.transform(x_test)"
   ]
  },
  {
   "cell_type": "code",
   "execution_count": 17,
   "metadata": {},
   "outputs": [
    {
     "name": "stdout",
     "output_type": "stream",
     "text": [
      "Model: \"sequential_1\"\n",
      "_________________________________________________________________\n",
      "Layer (type)                 Output Shape              Param #   \n",
      "=================================================================\n",
      "dense_2 (Dense)              (None, 30)                270       \n",
      "_________________________________________________________________\n",
      "dense_3 (Dense)              (None, 1)                 31        \n",
      "=================================================================\n",
      "Total params: 301\n",
      "Trainable params: 301\n",
      "Non-trainable params: 0\n",
      "_________________________________________________________________\n"
     ]
    }
   ],
   "source": [
    "model = keras.models.Sequential([\n",
    "    keras.layers.Dense(30, activation='relu', \n",
    "                      input_shape=x_train.shape[1:]),\n",
    "    keras.layers.Dense(1), \n",
    "    \n",
    "])\n",
    "model.summary()\n",
    "model.compile(loss='mean_squared_error', \n",
    "             optimizer = keras.optimizers.SGD(0.001),\n",
    "             )\n",
    "\n",
    "callbacks = [keras.callbacks.EarlyStopping(patience=5, \n",
    "                                           min_delta=1e-2)\n",
    "]"
   ]
  },
  {
   "cell_type": "code",
   "execution_count": 18,
   "metadata": {},
   "outputs": [
    {
     "name": "stdout",
     "output_type": "stream",
     "text": [
      "Train on 11610 samples, validate on 3870 samples\n",
      "Epoch 1/100\n",
      "11610/11610 [==============================] - 1s 66us/sample - loss: 2.3995 - val_loss: 1.0563\n",
      "Epoch 2/100\n",
      "11610/11610 [==============================] - 1s 55us/sample - loss: 0.8478 - val_loss: 0.7934\n",
      "Epoch 3/100\n",
      "11610/11610 [==============================] - 1s 55us/sample - loss: 0.7215 - val_loss: 0.7456\n",
      "Epoch 4/100\n",
      "11610/11610 [==============================] - 1s 55us/sample - loss: 0.6786 - val_loss: 0.7121\n",
      "Epoch 5/100\n",
      "11610/11610 [==============================] - 1s 55us/sample - loss: 0.6489 - val_loss: 0.6863\n",
      "Epoch 6/100\n",
      "11610/11610 [==============================] - 1s 55us/sample - loss: 0.6253 - val_loss: 0.6615\n",
      "Epoch 7/100\n",
      "11610/11610 [==============================] - 1s 54us/sample - loss: 0.6046 - val_loss: 0.6417\n",
      "Epoch 8/100\n",
      "11610/11610 [==============================] - 1s 54us/sample - loss: 0.5870 - val_loss: 0.6212\n",
      "Epoch 9/100\n",
      "11610/11610 [==============================] - 1s 55us/sample - loss: 0.5715 - val_loss: 0.6120\n",
      "Epoch 10/100\n",
      "11610/11610 [==============================] - 1s 55us/sample - loss: 0.5574 - val_loss: 0.5961\n",
      "Epoch 11/100\n",
      "11610/11610 [==============================] - 1s 55us/sample - loss: 0.5448 - val_loss: 0.5806\n",
      "Epoch 12/100\n",
      "11610/11610 [==============================] - 1s 54us/sample - loss: 0.5323 - val_loss: 0.5735\n",
      "Epoch 13/100\n",
      "11610/11610 [==============================] - 1s 55us/sample - loss: 0.5226 - val_loss: 0.5590\n",
      "Epoch 14/100\n",
      "11610/11610 [==============================] - 1s 55us/sample - loss: 0.5120 - val_loss: 0.5424\n",
      "Epoch 15/100\n",
      "11610/11610 [==============================] - 1s 55us/sample - loss: 0.5046 - val_loss: 0.5387\n",
      "Epoch 16/100\n",
      "11610/11610 [==============================] - 1s 54us/sample - loss: 0.4960 - val_loss: 0.5240\n",
      "Epoch 17/100\n",
      "11610/11610 [==============================] - 1s 54us/sample - loss: 0.4903 - val_loss: 0.5173\n",
      "Epoch 18/100\n",
      "11610/11610 [==============================] - 1s 54us/sample - loss: 0.4853 - val_loss: 0.5165\n",
      "Epoch 19/100\n",
      "11610/11610 [==============================] - 1s 55us/sample - loss: 0.4793 - val_loss: 0.5053\n",
      "Epoch 20/100\n",
      "11610/11610 [==============================] - 1s 55us/sample - loss: 0.4765 - val_loss: 0.5013\n",
      "Epoch 21/100\n",
      "11610/11610 [==============================] - 1s 54us/sample - loss: 0.4738 - val_loss: 0.5008\n",
      "Epoch 22/100\n",
      "11610/11610 [==============================] - 1s 55us/sample - loss: 0.4693 - val_loss: 0.5034\n",
      "Epoch 23/100\n",
      "11610/11610 [==============================] - 1s 55us/sample - loss: 0.4649 - val_loss: 0.4894\n",
      "Epoch 24/100\n",
      "11610/11610 [==============================] - 1s 55us/sample - loss: 0.4638 - val_loss: 0.4892\n",
      "Epoch 25/100\n",
      "11610/11610 [==============================] - 1s 55us/sample - loss: 0.4610 - val_loss: 0.4956\n",
      "Epoch 26/100\n",
      "11610/11610 [==============================] - 1s 55us/sample - loss: 0.4586 - val_loss: 0.4815\n",
      "Epoch 27/100\n",
      "11610/11610 [==============================] - 1s 55us/sample - loss: 0.4561 - val_loss: 0.4820\n",
      "Epoch 28/100\n",
      "11610/11610 [==============================] - 1s 55us/sample - loss: 0.4536 - val_loss: 0.4757\n",
      "Epoch 29/100\n",
      "11610/11610 [==============================] - 1s 55us/sample - loss: 0.4521 - val_loss: 0.4755\n",
      "Epoch 30/100\n",
      "11610/11610 [==============================] - 1s 55us/sample - loss: 0.4493 - val_loss: 0.4706\n",
      "Epoch 31/100\n",
      "11610/11610 [==============================] - 1s 55us/sample - loss: 0.4481 - val_loss: 0.4703\n",
      "Epoch 32/100\n",
      "11610/11610 [==============================] - 1s 55us/sample - loss: 0.4463 - val_loss: 0.4682\n",
      "Epoch 33/100\n",
      "11610/11610 [==============================] - 1s 55us/sample - loss: 0.4437 - val_loss: 0.4644\n",
      "Epoch 34/100\n",
      "11610/11610 [==============================] - 1s 55us/sample - loss: 0.4418 - val_loss: 0.4622\n",
      "Epoch 35/100\n",
      "11610/11610 [==============================] - 1s 55us/sample - loss: 0.4396 - val_loss: 0.4702\n",
      "Epoch 36/100\n",
      "11610/11610 [==============================] - 1s 55us/sample - loss: 0.4387 - val_loss: 0.4613\n",
      "Epoch 37/100\n",
      "11610/11610 [==============================] - 1s 55us/sample - loss: 0.4361 - val_loss: 0.4561\n",
      "Epoch 38/100\n",
      "11610/11610 [==============================] - 1s 55us/sample - loss: 0.4351 - val_loss: 0.4542\n",
      "Epoch 39/100\n",
      "11610/11610 [==============================] - 1s 55us/sample - loss: 0.4336 - val_loss: 0.4523\n",
      "Epoch 40/100\n",
      "11610/11610 [==============================] - 1s 55us/sample - loss: 0.4314 - val_loss: 0.4524\n",
      "Epoch 41/100\n",
      "11610/11610 [==============================] - 1s 55us/sample - loss: 0.4300 - val_loss: 0.4533\n",
      "Epoch 42/100\n",
      "11610/11610 [==============================] - 1s 55us/sample - loss: 0.4278 - val_loss: 0.4462\n",
      "Epoch 43/100\n",
      "11610/11610 [==============================] - 1s 55us/sample - loss: 0.4268 - val_loss: 0.4455\n"
     ]
    }
   ],
   "source": [
    "history = model.fit(x_train_scaled, y_train, \n",
    "                    validation_data= (x_valid_scaled, y_valid), \n",
    "                   epochs = 100,\n",
    "                    callbacks= callbacks\n",
    "                   )"
   ]
  },
  {
   "cell_type": "code",
   "execution_count": 15,
   "metadata": {},
   "outputs": [
    {
     "data": {
      "image/png": "[encoded data removed]",
      "text/plain": [
       "<Figure size 576x360 with 1 Axes>"
      ]
     },
     "metadata": {},
     "output_type": "display_data"
    }
   ],
   "source": [
    "def plot_learning_curves(history):\n",
    "    pd.DataFrame(history.history).plot(figsize=(8,5))\n",
    "    plt.grid(True)\n",
    "    plt.gca().set_ylim(0,1)\n",
    "    plt.show()\n",
    "    \n",
    "    \n",
    "plot_learning_curves(history)"
   ]
  },
  {
   "cell_type": "code",
   "execution_count": 16,
   "metadata": {},
   "outputs": [
    {
     "name": "stdout",
     "output_type": "stream",
     "text": [
      "5160/5160 [==============================] - 0s 26us/sample - loss: 0.3915\n"
     ]
    },
    {
     "data": {
      "text/plain": [
       "0.3914905628492666"
      ]
     },
     "execution_count": 16,
     "metadata": {},
     "output_type": "execute_result"
    }
   ],
   "source": [
    "model.evaluate(x_test_scaled, y_test)"
   ]
  },
  {
   "cell_type": "code",
   "execution_count": null,
   "metadata": {},
   "outputs": [],
   "source": []
  }
 ],
 "metadata": {
  "kernelspec": {
   "display_name": "Python [conda env:tensorflow_p36]",
   "language": "python",
   "name": "conda-env-tensorflow_p36-py"
  },
  "language_info": {
   "codemirror_mode": {
    "name": "ipython",
    "version": 3
   },
   "file_extension": ".py",
   "mimetype": "text/x-python",
   "name": "python",
   "nbconvert_exporter": "python",
   "pygments_lexer": "ipython3",
   "version": "3.6.5"
  }
 },
 "nbformat": 4,
 "nbformat_minor": 2
}
