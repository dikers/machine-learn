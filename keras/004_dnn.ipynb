{
 "cells": [
  {
   "cell_type": "markdown",
   "metadata": {},
   "source": [
    "# Keras 实战 DNN"
   ]
  },
  {
   "cell_type": "code",
   "execution_count": 1,
   "metadata": {},
   "outputs": [
    {
     "name": "stdout",
     "output_type": "stream",
     "text": [
      "tf    version: 1.14.0\n",
      "keras version: 2.2.4-tf\n"
     ]
    }
   ],
   "source": [
    "import matplotlib as mpl\n",
    "import matplotlib.pyplot as plt\n",
    "%matplotlib inline\n",
    "import numpy as np\n",
    "import sklearn\n",
    "import pandas as pd\n",
    "import os\n",
    "import sys\n",
    "import time\n",
    "import tensorflow as tf\n",
    "from tensorflow import keras\n",
    "print('tf    version: {}'.format(tf.__version__) )\n",
    "print('keras version: {}'.format(keras.__version__) )"
   ]
  },
  {
   "cell_type": "code",
   "execution_count": 2,
   "metadata": {},
   "outputs": [
    {
     "name": "stdout",
     "output_type": "stream",
     "text": [
      "(5000, 28, 28) (5000,)\n",
      "(55000, 28, 28) (55000,)\n",
      "(10000, 28, 28) (10000,)\n",
      "255 0\n"
     ]
    }
   ],
   "source": [
    "fashion_mnist = keras.datasets.fashion_mnist\n",
    "(x_train_all, y_train_all), (x_test, y_test) = fashion_mnist.load_data()\n",
    "x_valid, x_train = x_train_all[:5000], x_train_all[5000:]\n",
    "y_valid, y_train = y_train_all[:5000], y_train_all[5000:]\n",
    "\n",
    "print(x_valid.shape, y_valid.shape)\n",
    "print(x_train.shape, y_train.shape)\n",
    "print(x_test.shape, y_test.shape)\n",
    "\n",
    "print(np.max(x_train), np.min(x_train))"
   ]
  },
  {
   "cell_type": "code",
   "execution_count": 3,
   "metadata": {},
   "outputs": [
    {
     "name": "stdout",
     "output_type": "stream",
     "text": [
      "2.0231433 -0.8105136\n"
     ]
    }
   ],
   "source": [
    "from sklearn.preprocessing import StandardScaler\n",
    "\n",
    "scaler = StandardScaler()\n",
    "x_train_scaled = scaler.fit_transform(\n",
    "    x_train.astype(np.float32).reshape(-1,1)).reshape(-1, 28, 28)\n",
    "\n",
    "x_valid_scaled = scaler.transform(\n",
    "    x_valid.astype(np.float32).reshape(-1,1)).reshape(-1, 28, 28)\n",
    "\n",
    "x_test_scaled = scaler.transform(\n",
    "    x_test.astype(np.float32).reshape(-1,1)).reshape(-1, 28, 28)\n",
    "\n",
    "print(np.max(x_train_scaled), np.min(x_train_scaled))"
   ]
  },
  {
   "cell_type": "markdown",
   "metadata": {},
   "source": [
    "### tf.keras.Sequential\n",
    "  堆叠layer"
   ]
  },
  {
   "cell_type": "code",
   "execution_count": 4,
   "metadata": {},
   "outputs": [
    {
     "name": "stdout",
     "output_type": "stream",
     "text": [
      "WARNING:tensorflow:From /home/ec2-user/anaconda3/envs/tensorflow_p36/lib/python3.6/site-packages/tensorflow/python/ops/init_ops.py:1251: calling VarianceScaling.__init__ (from tensorflow.python.ops.init_ops) with dtype is deprecated and will be removed in a future version.\n",
      "Instructions for updating:\n",
      "Call initializer instance with the dtype argument instead of passing it to the constructor\n"
     ]
    }
   ],
   "source": [
    "model = keras.models.Sequential()\n",
    "\n",
    "model.add(keras.layers.Flatten(input_shape=[28,28]))\n",
    "for _ in range(20):\n",
    "    model.add(keras.layers.Dense(100, activation='relu'))\n",
    "    \n",
    "model.add(keras.layers.Dense(10, activation='softmax'))\n",
    "\n",
    "\n",
    "model.compile(loss='sparse_categorical_crossentropy',\n",
    "             optimizer = keras.optimizers.SGD(0.001),\n",
    "             metrics=['accuracy'])\n",
    "\n"
   ]
  },
  {
   "cell_type": "code",
   "execution_count": 5,
   "metadata": {},
   "outputs": [
    {
     "name": "stdout",
     "output_type": "stream",
     "text": [
      "Train on 55000 samples, validate on 5000 samples\n",
      "Epoch 1/40\n",
      "   32/55000 [..............................] - ETA: 20:04 - loss: 2.3028 - acc: 0.0938WARNING:tensorflow:Method (on_train_batch_end) is slow compared to the batch update (0.115334). Check your callbacks.\n",
      "55000/55000 [==============================] - 8s 146us/sample - loss: 2.3016 - acc: 0.1770 - val_loss: 2.3005 - val_acc: 0.1792\n",
      "Epoch 2/40\n",
      "55000/55000 [==============================] - 7s 128us/sample - loss: 2.2985 - acc: 0.1930 - val_loss: 2.2957 - val_acc: 0.1966\n",
      "Epoch 3/40\n",
      "55000/55000 [==============================] - 7s 128us/sample - loss: 2.2904 - acc: 0.2073 - val_loss: 2.2823 - val_acc: 0.2138\n",
      "Epoch 4/40\n",
      "55000/55000 [==============================] - 7s 127us/sample - loss: 2.2696 - acc: 0.1989 - val_loss: 2.2511 - val_acc: 0.2116\n",
      "Epoch 5/40\n",
      "55000/55000 [==============================] - 7s 128us/sample - loss: 2.2209 - acc: 0.1980 - val_loss: 2.1747 - val_acc: 0.2118\n",
      "Epoch 6/40\n",
      "55000/55000 [==============================] - 7s 128us/sample - loss: 2.0714 - acc: 0.1984 - val_loss: 1.9048 - val_acc: 0.2118\n",
      "Epoch 7/40\n",
      "55000/55000 [==============================] - 7s 128us/sample - loss: 1.7831 - acc: 0.1996 - val_loss: 1.6918 - val_acc: 0.2188\n",
      "Epoch 8/40\n",
      "55000/55000 [==============================] - 7s 128us/sample - loss: 1.6210 - acc: 0.2760 - val_loss: 1.5116 - val_acc: 0.4094\n",
      "Epoch 9/40\n",
      "55000/55000 [==============================] - 7s 128us/sample - loss: 1.2882 - acc: 0.4861 - val_loss: 1.1467 - val_acc: 0.5012\n",
      "Epoch 10/40\n",
      "55000/55000 [==============================] - 7s 127us/sample - loss: 1.0368 - acc: 0.5499 - val_loss: 1.0496 - val_acc: 0.5544\n",
      "Epoch 11/40\n",
      "55000/55000 [==============================] - 7s 128us/sample - loss: 0.9297 - acc: 0.6008 - val_loss: 0.8275 - val_acc: 0.6960\n",
      "Epoch 12/40\n",
      "55000/55000 [==============================] - 7s 128us/sample - loss: 0.8259 - acc: 0.6806 - val_loss: 0.7632 - val_acc: 0.7296\n",
      "Epoch 13/40\n",
      "55000/55000 [==============================] - 7s 128us/sample - loss: 0.7536 - acc: 0.7170 - val_loss: 0.6876 - val_acc: 0.7528\n",
      "Epoch 14/40\n",
      "55000/55000 [==============================] - 7s 128us/sample - loss: 0.6986 - acc: 0.7357 - val_loss: 0.6462 - val_acc: 0.7690\n",
      "Epoch 15/40\n",
      "55000/55000 [==============================] - 7s 127us/sample - loss: 0.6598 - acc: 0.7514 - val_loss: 0.6386 - val_acc: 0.7738\n",
      "Epoch 16/40\n",
      "55000/55000 [==============================] - 7s 127us/sample - loss: 0.6276 - acc: 0.7657 - val_loss: 0.6235 - val_acc: 0.7760\n",
      "Epoch 17/40\n",
      "55000/55000 [==============================] - 7s 128us/sample - loss: 0.5979 - acc: 0.7777 - val_loss: 0.5696 - val_acc: 0.8016\n",
      "Epoch 18/40\n",
      "55000/55000 [==============================] - 7s 127us/sample - loss: 0.5710 - acc: 0.7907 - val_loss: 0.5501 - val_acc: 0.8112\n",
      "Epoch 19/40\n",
      "55000/55000 [==============================] - 7s 128us/sample - loss: 0.5507 - acc: 0.8006 - val_loss: 0.5270 - val_acc: 0.8182\n",
      "Epoch 20/40\n",
      "55000/55000 [==============================] - 7s 127us/sample - loss: 0.5321 - acc: 0.8094 - val_loss: 0.5218 - val_acc: 0.8214\n",
      "Epoch 21/40\n",
      "55000/55000 [==============================] - 7s 127us/sample - loss: 0.5105 - acc: 0.8196 - val_loss: 0.5222 - val_acc: 0.8218\n",
      "Epoch 22/40\n",
      "55000/55000 [==============================] - 7s 128us/sample - loss: 0.4980 - acc: 0.8243 - val_loss: 0.5119 - val_acc: 0.8240\n",
      "Epoch 23/40\n",
      "55000/55000 [==============================] - 7s 127us/sample - loss: 0.4851 - acc: 0.8289 - val_loss: 0.5406 - val_acc: 0.8218\n",
      "Epoch 24/40\n",
      "55000/55000 [==============================] - 7s 126us/sample - loss: 0.4694 - acc: 0.8355 - val_loss: 0.5852 - val_acc: 0.8014\n",
      "Epoch 25/40\n",
      "55000/55000 [==============================] - 7s 128us/sample - loss: 0.4606 - acc: 0.8390 - val_loss: 0.4938 - val_acc: 0.8384\n",
      "Epoch 26/40\n",
      "55000/55000 [==============================] - 7s 128us/sample - loss: 0.4492 - acc: 0.8434 - val_loss: 0.4841 - val_acc: 0.8406\n",
      "Epoch 27/40\n",
      "55000/55000 [==============================] - 7s 126us/sample - loss: 0.4401 - acc: 0.8484 - val_loss: 0.5272 - val_acc: 0.8194\n",
      "Epoch 28/40\n",
      "55000/55000 [==============================] - 7s 127us/sample - loss: 0.4291 - acc: 0.8522 - val_loss: 0.4747 - val_acc: 0.8452\n",
      "Epoch 29/40\n",
      "55000/55000 [==============================] - 7s 127us/sample - loss: 0.4212 - acc: 0.8549 - val_loss: 0.6907 - val_acc: 0.7710\n",
      "Epoch 30/40\n",
      "55000/55000 [==============================] - 7s 127us/sample - loss: 0.4141 - acc: 0.8579 - val_loss: 0.5325 - val_acc: 0.8196\n",
      "Epoch 31/40\n",
      "55000/55000 [==============================] - 7s 128us/sample - loss: 0.4057 - acc: 0.8609 - val_loss: 0.4507 - val_acc: 0.8522\n",
      "Epoch 32/40\n",
      "55000/55000 [==============================] - 7s 127us/sample - loss: 0.3952 - acc: 0.8633 - val_loss: 0.4803 - val_acc: 0.8430\n",
      "Epoch 33/40\n",
      "55000/55000 [==============================] - 7s 127us/sample - loss: 0.3897 - acc: 0.8664 - val_loss: 0.4510 - val_acc: 0.8518\n",
      "Epoch 34/40\n",
      "55000/55000 [==============================] - 7s 128us/sample - loss: 0.3815 - acc: 0.8687 - val_loss: 0.4404 - val_acc: 0.8594\n",
      "Epoch 35/40\n",
      "55000/55000 [==============================] - 7s 127us/sample - loss: 0.3767 - acc: 0.8710 - val_loss: 0.4368 - val_acc: 0.8570\n",
      "Epoch 36/40\n",
      "55000/55000 [==============================] - 7s 127us/sample - loss: 0.3705 - acc: 0.8723 - val_loss: 0.4489 - val_acc: 0.8540\n",
      "Epoch 37/40\n",
      "55000/55000 [==============================] - 7s 126us/sample - loss: 0.3631 - acc: 0.8749 - val_loss: 0.4513 - val_acc: 0.8538\n",
      "Epoch 38/40\n",
      "55000/55000 [==============================] - 7s 126us/sample - loss: 0.3585 - acc: 0.8753 - val_loss: 0.4467 - val_acc: 0.8530\n",
      "CPU times: user 6min 12s, sys: 11.6 s, total: 6min 23s\n",
      "Wall time: 4min 28s\n"
     ]
    }
   ],
   "source": [
    "%%time\n",
    "logdir = './dataset/'\n",
    "if not os.path.exists(logdir):\n",
    "    os.mkdir(logdir)\n",
    "    \n",
    "output_model_file = os.path.join(logdir, \n",
    "            \"fashion_mnist_model.h5\")\n",
    "\n",
    "callbacks = [\n",
    "    keras.callbacks.TensorBoard(logdir), \n",
    "    keras.callbacks.ModelCheckpoint(output_model_file,\n",
    "                                   save_best_only=True), \n",
    "    keras.callbacks.EarlyStopping(\n",
    "                                 min_delta=1e-3, \n",
    "                                 patience=3)\n",
    "]\n",
    "\n",
    "history = model.fit(x_train_scaled, y_train, epochs=40, \n",
    "         validation_data=(x_valid_scaled,y_valid), \n",
    "                   callbacks = callbacks)"
   ]
  },
  {
   "cell_type": "code",
   "execution_count": 10,
   "metadata": {},
   "outputs": [
    {
     "data": {
      "image/png": "[encoded data removed]",
      "text/plain": [
       "<Figure size 720x432 with 1 Axes>"
      ]
     },
     "metadata": {},
     "output_type": "display_data"
    }
   ],
   "source": [
    "def plot_learning_curves(history):\n",
    "    pd.DataFrame(history.history).plot(figsize=(10,6))\n",
    "    plt.grid(True)\n",
    "    plt.gca().set_ylim(0,2.5)\n",
    "    plt.show()\n",
    "    \n",
    "    \n",
    "plot_learning_curves(history)"
   ]
  },
  {
   "cell_type": "code",
   "execution_count": 7,
   "metadata": {},
   "outputs": [
    {
     "name": "stdout",
     "output_type": "stream",
     "text": [
      "10000/10000 [==============================] - 1s 61us/sample - loss: 0.4601 - acc: 0.8431\n"
     ]
    },
    {
     "data": {
      "text/plain": [
       "[0.46007471067905426, 0.8431]"
      ]
     },
     "execution_count": 7,
     "metadata": {},
     "output_type": "execute_result"
    }
   ],
   "source": [
    "model.evaluate(x_test_scaled, y_test)"
   ]
  },
  {
   "cell_type": "code",
   "execution_count": null,
   "metadata": {},
   "outputs": [],
   "source": []
  },
  {
   "cell_type": "code",
   "execution_count": null,
   "metadata": {},
   "outputs": [],
   "source": []
  }
 ],
 "metadata": {
  "kernelspec": {
   "display_name": "Python [conda env:tensorflow_p36]",
   "language": "python",
   "name": "conda-env-tensorflow_p36-py"
  },
  "language_info": {
   "codemirror_mode": {
    "name": "ipython",
    "version": 3
   },
   "file_extension": ".py",
   "mimetype": "text/x-python",
   "name": "python",
   "nbconvert_exporter": "python",
   "pygments_lexer": "ipython3",
   "version": "3.6.5"
  }
 },
 "nbformat": 4,
 "nbformat_minor": 2
}
