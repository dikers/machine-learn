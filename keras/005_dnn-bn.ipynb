{
 "cells": [
  {
   "cell_type": "markdown",
   "metadata": {},
   "source": [
    "# Keras 实战 DNN"
   ]
  },
  {
   "cell_type": "code",
   "execution_count": 2,
   "metadata": {},
   "outputs": [
    {
     "name": "stdout",
     "output_type": "stream",
     "text": [
      "tf    version: 1.14.0\n",
      "keras version: 2.2.4-tf\n"
     ]
    }
   ],
   "source": [
    "import matplotlib as mpl\n",
    "import matplotlib.pyplot as plt\n",
    "%matplotlib inline\n",
    "import numpy as np\n",
    "import sklearn\n",
    "import pandas as pd\n",
    "import os\n",
    "import sys\n",
    "import time\n",
    "import tensorflow as tf\n",
    "from tensorflow import keras\n",
    "print('tf    version: {}'.format(tf.__version__) )\n",
    "print('keras version: {}'.format(keras.__version__) )"
   ]
  },
  {
   "cell_type": "code",
   "execution_count": 3,
   "metadata": {},
   "outputs": [
    {
     "name": "stdout",
     "output_type": "stream",
     "text": [
      "(5000, 28, 28) (5000,)\n",
      "(55000, 28, 28) (55000,)\n",
      "(10000, 28, 28) (10000,)\n",
      "255 0\n"
     ]
    }
   ],
   "source": [
    "fashion_mnist = keras.datasets.fashion_mnist\n",
    "(x_train_all, y_train_all), (x_test, y_test) = fashion_mnist.load_data()\n",
    "x_valid, x_train = x_train_all[:5000], x_train_all[5000:]\n",
    "y_valid, y_train = y_train_all[:5000], y_train_all[5000:]\n",
    "\n",
    "print(x_valid.shape, y_valid.shape)\n",
    "print(x_train.shape, y_train.shape)\n",
    "print(x_test.shape, y_test.shape)\n",
    "\n",
    "print(np.max(x_train), np.min(x_train))"
   ]
  },
  {
   "cell_type": "code",
   "execution_count": 4,
   "metadata": {},
   "outputs": [
    {
     "name": "stdout",
     "output_type": "stream",
     "text": [
      "2.0231433 -0.8105136\n"
     ]
    }
   ],
   "source": [
    "from sklearn.preprocessing import StandardScaler\n",
    "\n",
    "scaler = StandardScaler()\n",
    "x_train_scaled = scaler.fit_transform(\n",
    "    x_train.astype(np.float32).reshape(-1,1)).reshape(-1, 28, 28)\n",
    "\n",
    "x_valid_scaled = scaler.transform(\n",
    "    x_valid.astype(np.float32).reshape(-1,1)).reshape(-1, 28, 28)\n",
    "\n",
    "x_test_scaled = scaler.transform(\n",
    "    x_test.astype(np.float32).reshape(-1,1)).reshape(-1, 28, 28)\n",
    "\n",
    "print(np.max(x_train_scaled), np.min(x_train_scaled))"
   ]
  },
  {
   "cell_type": "markdown",
   "metadata": {},
   "source": [
    "### tf.keras.Sequential\n",
    "  堆叠layer"
   ]
  },
  {
   "cell_type": "code",
   "execution_count": 5,
   "metadata": {},
   "outputs": [
    {
     "name": "stdout",
     "output_type": "stream",
     "text": [
      "WARNING:tensorflow:From /home/ec2-user/anaconda3/envs/tensorflow_p36/lib/python3.6/site-packages/tensorflow/python/ops/init_ops.py:1251: calling VarianceScaling.__init__ (from tensorflow.python.ops.init_ops) with dtype is deprecated and will be removed in a future version.\n",
      "Instructions for updating:\n",
      "Call initializer instance with the dtype argument instead of passing it to the constructor\n"
     ]
    }
   ],
   "source": [
    "model = keras.models.Sequential()\n",
    "\n",
    "model.add(keras.layers.Flatten(input_shape=[28,28]))\n",
    "for _ in range(20):\n",
    "    model.add(keras.layers.Dense(100, activation='relu'))\n",
    "    model.add(keras.layers.BatchNormalization())\n",
    "    \n",
    "model.add(keras.layers.Dense(10, activation='softmax'))\n",
    "\n",
    "\n",
    "model.compile(loss='sparse_categorical_crossentropy',\n",
    "             optimizer = keras.optimizers.SGD(0.001),\n",
    "             metrics=['accuracy'])\n",
    "\n"
   ]
  },
  {
   "cell_type": "code",
   "execution_count": 6,
   "metadata": {},
   "outputs": [
    {
     "name": "stdout",
     "output_type": "stream",
     "text": [
      "Train on 55000 samples, validate on 5000 samples\n",
      "Epoch 1/40\n",
      "   32/55000 [..............................] - ETA: 1:05:16 - loss: 3.2640 - acc: 0.0312WARNING:tensorflow:Method (on_train_batch_end) is slow compared to the batch update (0.125632). Check your callbacks.\n",
      "55000/55000 [==============================] - 43s 791us/sample - loss: 2.0535 - acc: 0.3147 - val_loss: 1.1469 - val_acc: 0.6156\n",
      "Epoch 2/40\n",
      "55000/55000 [==============================] - 39s 708us/sample - loss: 1.1661 - acc: 0.5931 - val_loss: 0.8217 - val_acc: 0.6998\n",
      "Epoch 3/40\n",
      "55000/55000 [==============================] - 39s 708us/sample - loss: 0.9948 - acc: 0.6466 - val_loss: 0.7275 - val_acc: 0.7310\n",
      "Epoch 4/40\n",
      "55000/55000 [==============================] - 39s 712us/sample - loss: 0.9115 - acc: 0.6739 - val_loss: 0.6652 - val_acc: 0.7610\n",
      "Epoch 5/40\n",
      "55000/55000 [==============================] - 39s 709us/sample - loss: 0.8573 - acc: 0.6945 - val_loss: 0.6258 - val_acc: 0.7702\n",
      "Epoch 6/40\n",
      "55000/55000 [==============================] - 39s 711us/sample - loss: 0.8143 - acc: 0.7074 - val_loss: 0.5896 - val_acc: 0.7868\n",
      "Epoch 7/40\n",
      "55000/55000 [==============================] - 39s 707us/sample - loss: 0.7760 - acc: 0.7209 - val_loss: 0.5676 - val_acc: 0.7920\n",
      "Epoch 8/40\n",
      "55000/55000 [==============================] - 39s 708us/sample - loss: 0.7478 - acc: 0.7320 - val_loss: 0.5518 - val_acc: 0.7984\n",
      "Epoch 9/40\n",
      "55000/55000 [==============================] - 39s 710us/sample - loss: 0.7169 - acc: 0.7411 - val_loss: 0.5265 - val_acc: 0.8078\n",
      "Epoch 10/40\n",
      "55000/55000 [==============================] - 39s 708us/sample - loss: 0.6961 - acc: 0.7502 - val_loss: 0.5142 - val_acc: 0.8112\n",
      "Epoch 11/40\n",
      "55000/55000 [==============================] - 39s 709us/sample - loss: 0.6804 - acc: 0.7564 - val_loss: 0.4967 - val_acc: 0.8192\n",
      "Epoch 12/40\n",
      "55000/55000 [==============================] - 39s 713us/sample - loss: 0.6627 - acc: 0.7619 - val_loss: 0.4825 - val_acc: 0.8262\n",
      "Epoch 13/40\n",
      "55000/55000 [==============================] - 40s 724us/sample - loss: 0.6464 - acc: 0.7702 - val_loss: 0.4724 - val_acc: 0.8334\n",
      "Epoch 14/40\n",
      "55000/55000 [==============================] - 39s 708us/sample - loss: 0.6284 - acc: 0.7782 - val_loss: 0.4645 - val_acc: 0.8380\n",
      "Epoch 15/40\n",
      "55000/55000 [==============================] - 39s 709us/sample - loss: 0.6153 - acc: 0.7841 - val_loss: 0.4671 - val_acc: 0.8334\n",
      "Epoch 16/40\n",
      "55000/55000 [==============================] - 39s 709us/sample - loss: 0.5981 - acc: 0.7885 - val_loss: 0.4552 - val_acc: 0.8374\n",
      "Epoch 17/40\n",
      "55000/55000 [==============================] - 39s 709us/sample - loss: 0.5837 - acc: 0.7965 - val_loss: 0.4425 - val_acc: 0.8406\n",
      "Epoch 18/40\n",
      "55000/55000 [==============================] - 39s 711us/sample - loss: 0.5723 - acc: 0.8021 - val_loss: 0.4342 - val_acc: 0.8408\n",
      "Epoch 19/40\n",
      "55000/55000 [==============================] - 39s 708us/sample - loss: 0.5656 - acc: 0.8026 - val_loss: 0.4251 - val_acc: 0.8484\n",
      "Epoch 20/40\n",
      "55000/55000 [==============================] - 39s 708us/sample - loss: 0.5536 - acc: 0.8061 - val_loss: 0.4186 - val_acc: 0.8512\n",
      "Epoch 21/40\n",
      "55000/55000 [==============================] - 39s 707us/sample - loss: 0.5481 - acc: 0.8103 - val_loss: 0.4201 - val_acc: 0.8518\n",
      "Epoch 22/40\n",
      "55000/55000 [==============================] - 39s 710us/sample - loss: 0.5369 - acc: 0.8121 - val_loss: 0.4153 - val_acc: 0.8514\n",
      "Epoch 23/40\n",
      "55000/55000 [==============================] - 39s 707us/sample - loss: 0.5281 - acc: 0.8143 - val_loss: 0.4063 - val_acc: 0.8562\n",
      "Epoch 24/40\n",
      "55000/55000 [==============================] - 39s 707us/sample - loss: 0.5201 - acc: 0.8179 - val_loss: 0.4034 - val_acc: 0.8520\n",
      "Epoch 25/40\n",
      "55000/55000 [==============================] - 39s 709us/sample - loss: 0.5096 - acc: 0.8210 - val_loss: 0.3970 - val_acc: 0.8586\n",
      "Epoch 26/40\n",
      "55000/55000 [==============================] - 39s 709us/sample - loss: 0.5038 - acc: 0.8246 - val_loss: 0.3963 - val_acc: 0.8602\n",
      "Epoch 27/40\n",
      "55000/55000 [==============================] - 39s 708us/sample - loss: 0.4967 - acc: 0.8285 - val_loss: 0.3881 - val_acc: 0.8626\n",
      "Epoch 28/40\n",
      "55000/55000 [==============================] - 39s 708us/sample - loss: 0.4947 - acc: 0.8280 - val_loss: 0.3892 - val_acc: 0.8636\n",
      "Epoch 29/40\n",
      "55000/55000 [==============================] - 39s 709us/sample - loss: 0.4873 - acc: 0.8307 - val_loss: 0.3827 - val_acc: 0.8658\n",
      "Epoch 30/40\n",
      "55000/55000 [==============================] - 39s 707us/sample - loss: 0.4877 - acc: 0.8316 - val_loss: 0.3860 - val_acc: 0.8666\n",
      "Epoch 31/40\n",
      "55000/55000 [==============================] - 39s 710us/sample - loss: 0.4772 - acc: 0.8331 - val_loss: 0.3847 - val_acc: 0.8622\n",
      "Epoch 32/40\n",
      "55000/55000 [==============================] - 39s 707us/sample - loss: 0.4687 - acc: 0.8352 - val_loss: 0.3764 - val_acc: 0.8686\n",
      "Epoch 33/40\n",
      "55000/55000 [==============================] - 39s 708us/sample - loss: 0.4640 - acc: 0.8383 - val_loss: 0.3744 - val_acc: 0.8678\n",
      "Epoch 34/40\n",
      "55000/55000 [==============================] - 39s 710us/sample - loss: 0.4584 - acc: 0.8387 - val_loss: 0.3740 - val_acc: 0.8680\n",
      "Epoch 35/40\n",
      "55000/55000 [==============================] - 39s 708us/sample - loss: 0.4571 - acc: 0.8407 - val_loss: 0.3720 - val_acc: 0.8680\n",
      "Epoch 36/40\n",
      "55000/55000 [==============================] - 39s 707us/sample - loss: 0.4482 - acc: 0.8423 - val_loss: 0.3696 - val_acc: 0.8736\n",
      "Epoch 37/40\n",
      "55000/55000 [==============================] - 39s 710us/sample - loss: 0.4496 - acc: 0.8430 - val_loss: 0.3664 - val_acc: 0.8718\n",
      "Epoch 38/40\n",
      "55000/55000 [==============================] - 39s 706us/sample - loss: 0.4478 - acc: 0.8437 - val_loss: 0.3666 - val_acc: 0.8736\n",
      "Epoch 39/40\n",
      "55000/55000 [==============================] - 39s 708us/sample - loss: 0.4397 - acc: 0.8458 - val_loss: 0.3622 - val_acc: 0.8726\n",
      "Epoch 40/40\n",
      "55000/55000 [==============================] - 39s 708us/sample - loss: 0.4360 - acc: 0.8493 - val_loss: 0.3642 - val_acc: 0.8672\n",
      "CPU times: user 51min 45s, sys: 3min 14s, total: 54min 59s\n",
      "Wall time: 26min 9s\n"
     ]
    }
   ],
   "source": [
    "%%time\n",
    "logdir = './dataset/'\n",
    "if not os.path.exists(logdir):\n",
    "    os.mkdir(logdir)\n",
    "    \n",
    "output_model_file = os.path.join(logdir, \n",
    "            \"fashion_mnist_model.h5\")\n",
    "\n",
    "callbacks = [\n",
    "    keras.callbacks.TensorBoard(logdir), \n",
    "    keras.callbacks.ModelCheckpoint(output_model_file,\n",
    "                                   save_best_only=True), \n",
    "    keras.callbacks.EarlyStopping(\n",
    "                                 min_delta=1e-3, \n",
    "                                 patience=3)\n",
    "]\n",
    "\n",
    "history = model.fit(x_train_scaled, y_train, epochs=40, \n",
    "         validation_data=(x_valid_scaled,y_valid), \n",
    "                   callbacks = callbacks)"
   ]
  },
  {
   "cell_type": "code",
   "execution_count": 8,
   "metadata": {},
   "outputs": [
    {
     "data": {
      "image/png": "[encoded data removed]",
      "text/plain": [
       "<Figure size 576x360 with 1 Axes>"
      ]
     },
     "metadata": {},
     "output_type": "display_data"
    }
   ],
   "source": [
    "def plot_learning_curves(history):\n",
    "    pd.DataFrame(history.history).plot(figsize=(8,5))\n",
    "    plt.grid(True)\n",
    "    plt.gca().set_ylim(0,2)\n",
    "    plt.show()\n",
    "    \n",
    "    \n",
    "plot_learning_curves(history)"
   ]
  },
  {
   "cell_type": "code",
   "execution_count": 7,
   "metadata": {},
   "outputs": [
    {
     "name": "stdout",
     "output_type": "stream",
     "text": [
      "10000/10000 [==============================] - 1s 61us/sample - loss: 0.4601 - acc: 0.8431\n"
     ]
    },
    {
     "data": {
      "text/plain": [
       "[0.46007471067905426, 0.8431]"
      ]
     },
     "execution_count": 7,
     "metadata": {},
     "output_type": "execute_result"
    }
   ],
   "source": [
    "model.evaluate(x_test_scaled, y_test)"
   ]
  },
  {
   "cell_type": "code",
   "execution_count": null,
   "metadata": {},
   "outputs": [],
   "source": []
  },
  {
   "cell_type": "code",
   "execution_count": null,
   "metadata": {},
   "outputs": [],
   "source": []
  }
 ],
 "metadata": {
  "kernelspec": {
   "display_name": "Python [conda env:tensorflow_p36]",
   "language": "python",
   "name": "conda-env-tensorflow_p36-py"
  },
  "language_info": {
   "codemirror_mode": {
    "name": "ipython",
    "version": 3
   },
   "file_extension": ".py",
   "mimetype": "text/x-python",
   "name": "python",
   "nbconvert_exporter": "python",
   "pygments_lexer": "ipython3",
   "version": "3.6.5"
  }
 },
 "nbformat": 4,
 "nbformat_minor": 2
}
