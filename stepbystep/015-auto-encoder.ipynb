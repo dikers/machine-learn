{
 "cells": [
  {
   "cell_type": "markdown",
   "metadata": {},
   "source": [
    "# Auto encoder"
   ]
  },
  {
   "cell_type": "code",
   "execution_count": 12,
   "metadata": {},
   "outputs": [
    {
     "name": "stdout",
     "output_type": "stream",
     "text": [
      "1.15.2\n"
     ]
    }
   ],
   "source": [
    "import numpy as np \n",
    "import matplotlib.pyplot as plt\n",
    "from collections import Counter\n",
    "from sklearn.model_selection import train_test_split\n",
    "from sklearn import datasets\n",
    "from sklearn.linear_model import LinearRegression\n",
    "from sklearn.pipeline import Pipeline\n",
    "from sklearn.preprocessing import StandardScaler\n",
    "from sklearn.metrics import mean_squared_error\n",
    "import tensorflow as tf\n",
    "from tensorflow.contrib.layers import fully_connected\n",
    "print(tf.__version__)"
   ]
  },
  {
   "cell_type": "code",
   "execution_count": 13,
   "metadata": {},
   "outputs": [
    {
     "name": "stdout",
     "output_type": "stream",
     "text": [
      "(150, 3)\n",
      "(150,)\n"
     ]
    }
   ],
   "source": [
    "iris = datasets.load_iris()\n",
    "X = iris.data\n",
    "y = iris.target\n",
    "\n",
    "X = X[y<3, :3]\n",
    "y = y[y<3]\n",
    "print(X.shape)\n",
    "print(y.shape)\n"
   ]
  },
  {
   "cell_type": "code",
   "execution_count": 14,
   "metadata": {},
   "outputs": [],
   "source": [
    "X_train, X_test, y_train, y_test = train_test_split(X, y)"
   ]
  },
  {
   "cell_type": "code",
   "execution_count": 15,
   "metadata": {},
   "outputs": [],
   "source": [
    "n_inputs = 3\n",
    "n_hidden = 2\n",
    "n_outputs = n_inputs\n",
    "learning_rate = 0.01"
   ]
  },
  {
   "cell_type": "code",
   "execution_count": 16,
   "metadata": {},
   "outputs": [],
   "source": [
    "X = tf.placeholder(tf.float32, shape=[None, n_inputs])\n",
    "hidden = fully_connected(X, n_hidden, activation_fn=None)\n",
    "outputs = fully_connected(hidden, n_outputs, activation_fn=None)\n"
   ]
  },
  {
   "cell_type": "code",
   "execution_count": 17,
   "metadata": {},
   "outputs": [],
   "source": [
    "reconstruction_loss = tf.reduce_mean(tf.square(outputs - X))\n",
    "optimizer = tf.train.AdamOptimizer(learning_rate)\n",
    "training_op = optimizer.minimize(reconstruction_loss)"
   ]
  },
  {
   "cell_type": "code",
   "execution_count": 18,
   "metadata": {},
   "outputs": [],
   "source": [
    "init = tf.global_variables_initializer()"
   ]
  },
  {
   "cell_type": "code",
   "execution_count": 19,
   "metadata": {},
   "outputs": [],
   "source": [
    "n_iterations = 1000\n",
    "codings = hidden \n",
    "\n",
    "with tf.Session() as sess:\n",
    "    init.run()\n",
    "    for iteration in range(n_iterations):\n",
    "        training_op.run(feed_dict={X: X_train})\n",
    "    codings_val = codings.eval(feed_dict={X: X_test})"
   ]
  },
  {
   "cell_type": "code",
   "execution_count": 21,
   "metadata": {},
   "outputs": [],
   "source": [
    "pred = codings_val"
   ]
  },
  {
   "cell_type": "code",
   "execution_count": 22,
   "metadata": {},
   "outputs": [
    {
     "name": "stdout",
     "output_type": "stream",
     "text": [
      "[[-7.268182  -5.6300664]\n",
      " [-7.979379  -4.8206477]\n",
      " [-2.0891564 -5.8451867]\n",
      " [-5.0044093 -4.8272257]\n",
      " [-6.518688  -5.1191196]\n",
      " [-7.0760894 -5.0511   ]\n",
      " [-5.561047  -5.393378 ]\n",
      " [-5.3131127 -4.259865 ]\n",
      " [-1.6871707 -5.664464 ]\n",
      " [-1.5341376 -5.7716913]\n",
      " [-1.4566206 -5.7375197]\n",
      " [-4.8516307 -4.723064 ]\n",
      " [-6.749874  -4.5175877]\n",
      " [-1.6295481 -6.589651 ]\n",
      " [-6.5965867 -4.8362055]\n",
      " [-3.949231  -4.2136493]\n",
      " [-1.1703211 -7.0170302]\n",
      " [-6.1550326 -4.392069 ]\n",
      " [-6.539854  -5.0215263]\n",
      " [-5.9843264 -5.3708124]\n",
      " [-6.749874  -4.5175877]\n",
      " [-4.5063777 -4.35702  ]\n",
      " [-5.8674955 -4.861836 ]\n",
      " [-6.7680216 -5.0899854]\n",
      " [-4.680322  -4.363589 ]\n",
      " [-1.4954257 -6.635105 ]\n",
      " [-6.0598426 -5.229413 ]\n",
      " [-6.8266277 -5.18593  ]\n",
      " [-6.194219  -4.972568 ]\n",
      " [-4.583386  -4.813972 ]\n",
      " [-6.3469987 -5.076731 ]\n",
      " [-5.349408  -5.4046607]\n",
      " [-4.6968513 -4.44333  ]\n",
      " [-5.463382  -4.611238 ]\n",
      " [-1.3808501 -6.0903096]\n",
      " [-5.601252  -5.1283154]\n",
      " [-5.2740192 -5.440365 ]\n",
      " [-1.3804685 -6.4073954]]\n"
     ]
    }
   ],
   "source": [
    "print(pred)"
   ]
  },
  {
   "cell_type": "code",
   "execution_count": null,
   "metadata": {},
   "outputs": [],
   "source": []
  },
  {
   "cell_type": "code",
   "execution_count": 23,
   "metadata": {},
   "outputs": [
    {
     "data": {
      "image/png": "[encoded data removed]",
      "text/plain": [
       "<Figure size 432x288 with 1 Axes>"
      ]
     },
     "metadata": {},
     "output_type": "display_data"
    }
   ],
   "source": [
    "plt.scatter(pred[y_test==0, 0], pred[y_test==0, 1], color='red')\n",
    "plt.scatter(pred[y_test==1, 0], pred[y_test==1, 1], color='blue')\n",
    "plt.show()"
   ]
  },
  {
   "cell_type": "code",
   "execution_count": null,
   "metadata": {},
   "outputs": [],
   "source": []
  }
 ],
 "metadata": {
  "kernelspec": {
   "display_name": "Python [conda env:amazonei_tensorflow_p36]",
   "language": "python",
   "name": "conda-env-amazonei_tensorflow_p36-py"
  },
  "language_info": {
   "codemirror_mode": {
    "name": "ipython",
    "version": 3
   },
   "file_extension": ".py",
   "mimetype": "text/x-python",
   "name": "python",
   "nbconvert_exporter": "python",
   "pygments_lexer": "ipython3",
   "version": "3.6.5"
  }
 },
 "nbformat": 4,
 "nbformat_minor": 2
}
