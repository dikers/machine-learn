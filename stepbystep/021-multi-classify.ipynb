{
 "cells": [
  {
   "cell_type": "markdown",
   "metadata": {},
   "source": [
    "# 常用的分类算法"
   ]
  },
  {
   "cell_type": "code",
   "execution_count": 101,
   "metadata": {},
   "outputs": [],
   "source": [
    "import numpy as np \n",
    "import os\n",
    "import matplotlib.pyplot as plt\n",
    "from collections import Counter\n",
    "from sklearn.model_selection import train_test_split\n",
    "from sklearn import datasets\n",
    "from sklearn.model_selection import KFold\n",
    "from sklearn.model_selection import cross_val_score\n",
    "from sklearn.model_selection import GridSearchCV\n",
    "from sklearn.model_selection import train_test_split\n",
    "from sklearn.preprocessing import StandardScaler\n",
    "\n",
    "from sklearn.pipeline import Pipeline\n",
    "\n",
    "from sklearn.metrics import mean_squared_error\n",
    "from sklearn.metrics import f1_score\n",
    "from sklearn.metrics import recall_score\n",
    "from sklearn.metrics import precision_score\n",
    "from sklearn.metrics import confusion_matrix\n",
    "from sklearn.metrics import classification_report\n",
    "\n",
    "# 回归\n",
    "from sklearn.tree import DecisionTreeRegressor\n",
    "from sklearn.neighbors import KNeighborsRegressor\n",
    "from sklearn.svm import SVR\n",
    "from sklearn.linear_model import LinearRegression\n",
    "from sklearn.linear_model import Ridge\n",
    "from sklearn.linear_model import Lasso\n",
    "from sklearn.linear_model import ElasticNet\n",
    "from sklearn.ensemble import RandomForestRegressor\n",
    "from sklearn.ensemble import GradientBoostingRegressor\n",
    "from sklearn.ensemble import ExtraTreesRegressor\n",
    "from sklearn.ensemble import AdaBoostRegressor\n",
    "\n",
    "\n",
    "# 分类\n",
    "from sklearn.svm import SVC\n",
    "from sklearn.ensemble import ExtraTreesClassifier\n",
    "from sklearn.ensemble import RandomForestClassifier\n",
    "from sklearn.ensemble import GradientBoostingClassifier\n",
    "from sklearn.ensemble import AdaBoostClassifier\n",
    "from sklearn.naive_bayes import GaussianNB\n",
    "from sklearn.linear_model import LogisticRegression\n",
    "from sklearn.linear_model import SGDClassifier\n",
    "from sklearn.neural_network import MLPClassifier\n",
    "\n",
    "from sklearn.discriminant_analysis import LinearDiscriminantAnalysis\n",
    "from sklearn.tree import DecisionTreeClassifier\n",
    "from sklearn.neighbors import KNeighborsClassifier\n",
    "\n",
    "\n",
    "\n"
   ]
  },
  {
   "cell_type": "code",
   "execution_count": 27,
   "metadata": {},
   "outputs": [
    {
     "data": {
      "image/png": "[encoded data removed]",
      "text/plain": [
       "<Figure size 432x288 with 1 Axes>"
      ]
     },
     "metadata": {},
     "output_type": "display_data"
    }
   ],
   "source": [
    "X, y = datasets.make_moons(n_samples=500, noise=0.2, random_state=42)\n",
    "plt.scatter(X[y==0,0], X[y==0,1])\n",
    "plt.scatter(X[y==1,0], X[y==1,1])\n",
    "plt.show()"
   ]
  },
  {
   "cell_type": "code",
   "execution_count": 39,
   "metadata": {},
   "outputs": [],
   "source": [
    "X_train, X_test, y_train, y_test = train_test_split(X,y, random_state=42)\n"
   ]
  },
  {
   "cell_type": "code",
   "execution_count": 58,
   "metadata": {},
   "outputs": [],
   "source": [
    "FILE_PATH = './data'\n",
    "FILE_NAME = 'log_clf.txt'\n",
    "\n",
    "if(os.path.exists(os.path.join(FILE_PATH, FILE_NAME))):\n",
    "    os.remove(os.path.join(FILE_PATH, FILE_NAME))\n",
    "\n",
    "def write_log(message):\n",
    "    if not os.path.exists(FILE_PATH):\n",
    "        os.mkdirs(FILE_PATH)\n",
    "    file = os.path.join(FILE_PATH, FILE_NAME)\n",
    "    \n",
    "    with open(file, 'a+') as f:\n",
    "        f.write(message)\n",
    "        f.write('\\n')\n",
    "\n",
    "        \n",
    "def write_result(key, cv_result):\n",
    "    write_log( '%8s:  Mean: %.3f\\tMin: %.3f\\t(std:  %.3f)'%(key, cv_result.mean(), cv_result.min(), cv_result.std()) )"
   ]
  },
  {
   "cell_type": "code",
   "execution_count": 106,
   "metadata": {},
   "outputs": [],
   "source": [
    "num_folds = 10\n",
    "seed = 42\n",
    "scoring = 'accuracy'\n",
    "\n",
    "models = {}\n",
    "models['LR'] = LogisticRegression()\n",
    "models['LDA'] = LinearDiscriminantAnalysis()\n",
    "models['KNN'] = KNeighborsClassifier()\n",
    "models['CART'] = DecisionTreeClassifier()\n",
    "models['NB'] = GaussianNB()\n",
    "models['SVM'] = SVC()\n",
    "models['SGD'] = SGDClassifier()\n",
    "models['MLP'] = MLPClassifier(solver='lbfgs', alpha=1e-5,\n",
    "                              hidden_layer_sizes=(5, 2), random_state=seed)\n"
   ]
  },
  {
   "cell_type": "code",
   "execution_count": 107,
   "metadata": {},
   "outputs": [
    {
     "name": "stderr",
     "output_type": "stream",
     "text": [
      "/home/ec2-user/anaconda3/envs/tensorflow_p36/lib/python3.6/site-packages/sklearn/linear_model/logistic.py:432: FutureWarning: Default solver will be changed to 'lbfgs' in 0.22. Specify a solver to silence this warning.\n",
      "  FutureWarning)\n",
      "/home/ec2-user/anaconda3/envs/tensorflow_p36/lib/python3.6/site-packages/sklearn/linear_model/logistic.py:432: FutureWarning: Default solver will be changed to 'lbfgs' in 0.22. Specify a solver to silence this warning.\n",
      "  FutureWarning)\n",
      "/home/ec2-user/anaconda3/envs/tensorflow_p36/lib/python3.6/site-packages/sklearn/linear_model/logistic.py:432: FutureWarning: Default solver will be changed to 'lbfgs' in 0.22. Specify a solver to silence this warning.\n",
      "  FutureWarning)\n",
      "/home/ec2-user/anaconda3/envs/tensorflow_p36/lib/python3.6/site-packages/sklearn/linear_model/logistic.py:432: FutureWarning: Default solver will be changed to 'lbfgs' in 0.22. Specify a solver to silence this warning.\n",
      "  FutureWarning)\n",
      "/home/ec2-user/anaconda3/envs/tensorflow_p36/lib/python3.6/site-packages/sklearn/linear_model/logistic.py:432: FutureWarning: Default solver will be changed to 'lbfgs' in 0.22. Specify a solver to silence this warning.\n",
      "  FutureWarning)\n",
      "/home/ec2-user/anaconda3/envs/tensorflow_p36/lib/python3.6/site-packages/sklearn/linear_model/logistic.py:432: FutureWarning: Default solver will be changed to 'lbfgs' in 0.22. Specify a solver to silence this warning.\n",
      "  FutureWarning)\n",
      "/home/ec2-user/anaconda3/envs/tensorflow_p36/lib/python3.6/site-packages/sklearn/linear_model/logistic.py:432: FutureWarning: Default solver will be changed to 'lbfgs' in 0.22. Specify a solver to silence this warning.\n",
      "  FutureWarning)\n",
      "/home/ec2-user/anaconda3/envs/tensorflow_p36/lib/python3.6/site-packages/sklearn/linear_model/logistic.py:432: FutureWarning: Default solver will be changed to 'lbfgs' in 0.22. Specify a solver to silence this warning.\n",
      "  FutureWarning)\n",
      "/home/ec2-user/anaconda3/envs/tensorflow_p36/lib/python3.6/site-packages/sklearn/linear_model/logistic.py:432: FutureWarning: Default solver will be changed to 'lbfgs' in 0.22. Specify a solver to silence this warning.\n",
      "  FutureWarning)\n",
      "/home/ec2-user/anaconda3/envs/tensorflow_p36/lib/python3.6/site-packages/sklearn/linear_model/logistic.py:432: FutureWarning: Default solver will be changed to 'lbfgs' in 0.22. Specify a solver to silence this warning.\n",
      "  FutureWarning)\n",
      "/home/ec2-user/anaconda3/envs/tensorflow_p36/lib/python3.6/site-packages/sklearn/linear_model/logistic.py:432: FutureWarning: Default solver will be changed to 'lbfgs' in 0.22. Specify a solver to silence this warning.\n",
      "  FutureWarning)\n",
      "/home/ec2-user/anaconda3/envs/tensorflow_p36/lib/python3.6/site-packages/sklearn/svm/base.py:193: FutureWarning: The default value of gamma will change from 'auto' to 'scale' in version 0.22 to account better for unscaled features. Set gamma explicitly to 'auto' or 'scale' to avoid this warning.\n",
      "  \"avoid this warning.\", FutureWarning)\n",
      "/home/ec2-user/anaconda3/envs/tensorflow_p36/lib/python3.6/site-packages/sklearn/svm/base.py:193: FutureWarning: The default value of gamma will change from 'auto' to 'scale' in version 0.22 to account better for unscaled features. Set gamma explicitly to 'auto' or 'scale' to avoid this warning.\n",
      "  \"avoid this warning.\", FutureWarning)\n",
      "/home/ec2-user/anaconda3/envs/tensorflow_p36/lib/python3.6/site-packages/sklearn/svm/base.py:193: FutureWarning: The default value of gamma will change from 'auto' to 'scale' in version 0.22 to account better for unscaled features. Set gamma explicitly to 'auto' or 'scale' to avoid this warning.\n",
      "  \"avoid this warning.\", FutureWarning)\n",
      "/home/ec2-user/anaconda3/envs/tensorflow_p36/lib/python3.6/site-packages/sklearn/svm/base.py:193: FutureWarning: The default value of gamma will change from 'auto' to 'scale' in version 0.22 to account better for unscaled features. Set gamma explicitly to 'auto' or 'scale' to avoid this warning.\n",
      "  \"avoid this warning.\", FutureWarning)\n",
      "/home/ec2-user/anaconda3/envs/tensorflow_p36/lib/python3.6/site-packages/sklearn/svm/base.py:193: FutureWarning: The default value of gamma will change from 'auto' to 'scale' in version 0.22 to account better for unscaled features. Set gamma explicitly to 'auto' or 'scale' to avoid this warning.\n",
      "  \"avoid this warning.\", FutureWarning)\n",
      "/home/ec2-user/anaconda3/envs/tensorflow_p36/lib/python3.6/site-packages/sklearn/svm/base.py:193: FutureWarning: The default value of gamma will change from 'auto' to 'scale' in version 0.22 to account better for unscaled features. Set gamma explicitly to 'auto' or 'scale' to avoid this warning.\n",
      "  \"avoid this warning.\", FutureWarning)\n",
      "/home/ec2-user/anaconda3/envs/tensorflow_p36/lib/python3.6/site-packages/sklearn/svm/base.py:193: FutureWarning: The default value of gamma will change from 'auto' to 'scale' in version 0.22 to account better for unscaled features. Set gamma explicitly to 'auto' or 'scale' to avoid this warning.\n",
      "  \"avoid this warning.\", FutureWarning)\n",
      "/home/ec2-user/anaconda3/envs/tensorflow_p36/lib/python3.6/site-packages/sklearn/svm/base.py:193: FutureWarning: The default value of gamma will change from 'auto' to 'scale' in version 0.22 to account better for unscaled features. Set gamma explicitly to 'auto' or 'scale' to avoid this warning.\n",
      "  \"avoid this warning.\", FutureWarning)\n",
      "/home/ec2-user/anaconda3/envs/tensorflow_p36/lib/python3.6/site-packages/sklearn/svm/base.py:193: FutureWarning: The default value of gamma will change from 'auto' to 'scale' in version 0.22 to account better for unscaled features. Set gamma explicitly to 'auto' or 'scale' to avoid this warning.\n",
      "  \"avoid this warning.\", FutureWarning)\n",
      "/home/ec2-user/anaconda3/envs/tensorflow_p36/lib/python3.6/site-packages/sklearn/svm/base.py:193: FutureWarning: The default value of gamma will change from 'auto' to 'scale' in version 0.22 to account better for unscaled features. Set gamma explicitly to 'auto' or 'scale' to avoid this warning.\n",
      "  \"avoid this warning.\", FutureWarning)\n",
      "/home/ec2-user/anaconda3/envs/tensorflow_p36/lib/python3.6/site-packages/sklearn/svm/base.py:193: FutureWarning: The default value of gamma will change from 'auto' to 'scale' in version 0.22 to account better for unscaled features. Set gamma explicitly to 'auto' or 'scale' to avoid this warning.\n",
      "  \"avoid this warning.\", FutureWarning)\n"
     ]
    },
    {
     "name": "stdout",
     "output_type": "stream",
     "text": [
      "      LR:  Mean: 0.859\tMin: 0.737\t(std:  0.061)\n",
      "f1: 0.852\trecall: 0.897\t precision: 0.812 \n",
      "\n",
      "     LDA:  Mean: 0.859\tMin: 0.757\t(std:  0.055)\n",
      "f1: 0.852\trecall: 0.897\t precision: 0.812 \n",
      "\n",
      "     KNN:  Mean: 0.973\tMin: 0.919\t(std:  0.024)\n",
      "f1: 0.984\trecall: 1.000\t precision: 0.969 \n",
      "\n",
      "    CART:  Mean: 0.957\tMin: 0.838\t(std:  0.044)\n",
      "f1: 0.968\trecall: 1.000\t precision: 0.938 \n",
      "\n",
      "      NB:  Mean: 0.856\tMin: 0.757\t(std:  0.052)\n",
      "f1: 0.852\trecall: 0.897\t precision: 0.812 \n",
      "\n",
      "     SVM:  Mean: 0.952\tMin: 0.892\t(std:  0.036)\n",
      "f1: 0.959\trecall: 1.000\t precision: 0.922 \n",
      "\n",
      "     SGD:  Mean: 0.822\tMin: 0.711\t(std:  0.055)\n",
      "f1: 0.815\trecall: 1.000\t precision: 0.688 \n",
      "\n",
      "     MLP:  Mean: 0.962\tMin: 0.892\t(std:  0.035)\n",
      "f1: 0.984\trecall: 1.000\t precision: 0.969 \n",
      "\n"
     ]
    },
    {
     "data": {
      "image/png": "[encoded data removed]",
      "text/plain": [
       "<Figure size 720x720 with 1 Axes>"
      ]
     },
     "metadata": {},
     "output_type": "display_data"
    }
   ],
   "source": [
    "results = []\n",
    "write_log(\"---------- models ---------------\")\n",
    "for key in models: \n",
    "    kfold = KFold(n_splits=num_folds, random_state=seed)\n",
    "    \n",
    "    clf = models[key].fit(X_train, y_train)\n",
    "    y_pred = clf.predict(X_test)\n",
    "    f1 = f1_score(y_pred, y_test)\n",
    "    recall = recall_score(y_pred, y_test)\n",
    "    precision = precision_score(y_pred, y_test)\n",
    "    \n",
    "    cv_result = cross_val_score(models[key], \n",
    "                               X_train, \n",
    "                               y_train,\n",
    "                               cv=kfold,\n",
    "                               scoring=scoring)\n",
    "    results.append(cv_result)\n",
    "    print( '%8s:  Mean: %.3f\\tMin: %.3f\\t(std:  %.3f)'%(key, cv_result.mean(), cv_result.min(), cv_result.std()) )\n",
    "    write_result(key, cv_result)\n",
    "    print('f1: %.3f\\trecall: %.3f\\t precision: %.3f \\n' %(f1 , recall, precision ) )\n",
    "    write_log('f1: %.3f\\trecall: %.3f\\t precision: %.3f \\n' %(f1 , recall, precision ) )\n",
    "\n",
    "fig = plt.figure(figsize=(10,10))\n",
    "fig.suptitle('Alogrithm Comparison')\n",
    "ax = fig.add_subplot(111)\n",
    "plt.boxplot(results)\n",
    "ax.set_xticklabels(models.keys())\n",
    "\n",
    "plt.show()"
   ]
  },
  {
   "cell_type": "code",
   "execution_count": 75,
   "metadata": {},
   "outputs": [],
   "source": [
    "pipelines= {}\n",
    "pipelines['ScalerLR'] = Pipeline([('Scaler', StandardScaler()), ('LR', LogisticRegression())])\n",
    "pipelines['ScalerLD'] = Pipeline([('Scaler', StandardScaler()), ('LD', LinearDiscriminantAnalysis())])\n",
    "pipelines['ScalerKNN'] = Pipeline([('Scaler', StandardScaler()), ('KNN', KNeighborsClassifier())])\n",
    "pipelines['ScalerCART'] = Pipeline([('Scaler', StandardScaler()), ('CART', DecisionTreeClassifier())])\n",
    "pipelines['ScalerNB'] = Pipeline([('Scaler', StandardScaler()), ('NB', GaussianNB())])\n",
    "pipelines['ScalerSVM'] = Pipeline([('Scaler', StandardScaler()), ('SVM', SVC())])\n",
    "\n",
    "\n",
    " "
   ]
  },
  {
   "cell_type": "code",
   "execution_count": 96,
   "metadata": {},
   "outputs": [
    {
     "name": "stderr",
     "output_type": "stream",
     "text": [
      "/home/ec2-user/anaconda3/envs/tensorflow_p36/lib/python3.6/site-packages/sklearn/linear_model/logistic.py:432: FutureWarning: Default solver will be changed to 'lbfgs' in 0.22. Specify a solver to silence this warning.\n",
      "  FutureWarning)\n",
      "/home/ec2-user/anaconda3/envs/tensorflow_p36/lib/python3.6/site-packages/sklearn/linear_model/logistic.py:432: FutureWarning: Default solver will be changed to 'lbfgs' in 0.22. Specify a solver to silence this warning.\n",
      "  FutureWarning)\n",
      "/home/ec2-user/anaconda3/envs/tensorflow_p36/lib/python3.6/site-packages/sklearn/linear_model/logistic.py:432: FutureWarning: Default solver will be changed to 'lbfgs' in 0.22. Specify a solver to silence this warning.\n",
      "  FutureWarning)\n",
      "/home/ec2-user/anaconda3/envs/tensorflow_p36/lib/python3.6/site-packages/sklearn/linear_model/logistic.py:432: FutureWarning: Default solver will be changed to 'lbfgs' in 0.22. Specify a solver to silence this warning.\n",
      "  FutureWarning)\n",
      "/home/ec2-user/anaconda3/envs/tensorflow_p36/lib/python3.6/site-packages/sklearn/linear_model/logistic.py:432: FutureWarning: Default solver will be changed to 'lbfgs' in 0.22. Specify a solver to silence this warning.\n",
      "  FutureWarning)\n",
      "/home/ec2-user/anaconda3/envs/tensorflow_p36/lib/python3.6/site-packages/sklearn/linear_model/logistic.py:432: FutureWarning: Default solver will be changed to 'lbfgs' in 0.22. Specify a solver to silence this warning.\n",
      "  FutureWarning)\n",
      "/home/ec2-user/anaconda3/envs/tensorflow_p36/lib/python3.6/site-packages/sklearn/linear_model/logistic.py:432: FutureWarning: Default solver will be changed to 'lbfgs' in 0.22. Specify a solver to silence this warning.\n",
      "  FutureWarning)\n",
      "/home/ec2-user/anaconda3/envs/tensorflow_p36/lib/python3.6/site-packages/sklearn/linear_model/logistic.py:432: FutureWarning: Default solver will be changed to 'lbfgs' in 0.22. Specify a solver to silence this warning.\n",
      "  FutureWarning)\n",
      "/home/ec2-user/anaconda3/envs/tensorflow_p36/lib/python3.6/site-packages/sklearn/linear_model/logistic.py:432: FutureWarning: Default solver will be changed to 'lbfgs' in 0.22. Specify a solver to silence this warning.\n",
      "  FutureWarning)\n",
      "/home/ec2-user/anaconda3/envs/tensorflow_p36/lib/python3.6/site-packages/sklearn/linear_model/logistic.py:432: FutureWarning: Default solver will be changed to 'lbfgs' in 0.22. Specify a solver to silence this warning.\n",
      "  FutureWarning)\n",
      "/home/ec2-user/anaconda3/envs/tensorflow_p36/lib/python3.6/site-packages/sklearn/linear_model/logistic.py:432: FutureWarning: Default solver will be changed to 'lbfgs' in 0.22. Specify a solver to silence this warning.\n",
      "  FutureWarning)\n"
     ]
    },
    {
     "name": "stdout",
     "output_type": "stream",
     "text": [
      "ScalerLR:  Mean: 0.861\tMin: 0.737\t(std:  0.063)\n",
      "f1: 0.852\trecall: 0.897\t precision: 0.812 \n",
      "\n",
      "ScalerLD:  Mean: 0.859\tMin: 0.757\t(std:  0.055)\n",
      "f1: 0.852\trecall: 0.897\t precision: 0.812 \n",
      "\n",
      "ScalerKNN:  Mean: 0.973\tMin: 0.921\t(std:  0.024)\n",
      "f1: 0.968\trecall: 1.000\t precision: 0.938 \n",
      "\n",
      "ScalerCART:  Mean: 0.957\tMin: 0.838\t(std:  0.044)\n",
      "f1: 0.968\trecall: 1.000\t precision: 0.938 \n",
      "\n",
      "ScalerNB:  Mean: 0.856\tMin: 0.757\t(std:  0.052)\n",
      "f1: 0.852\trecall: 0.897\t precision: 0.812 \n",
      "\n",
      "ScalerSVM:  Mean: 0.965\tMin: 0.892\t(std:  0.034)\n",
      "f1: 0.968\trecall: 1.000\t precision: 0.938 \n",
      "\n"
     ]
    },
    {
     "data": {
      "image/png": "[encoded data removed]",
      "text/plain": [
       "<Figure size 720x720 with 1 Axes>"
      ]
     },
     "metadata": {},
     "output_type": "display_data"
    }
   ],
   "source": [
    "results = []\n",
    "write_log(\"---------- pipelines ---------------\")\n",
    "for key in pipelines: \n",
    "    kfold = KFold(n_splits=num_folds, random_state=seed)\n",
    "    \n",
    "    clf = pipelines[key].fit(X_train, y_train)\n",
    "    y_pred = clf.predict(X_test)\n",
    "    f1 = f1_score(y_pred, y_test)\n",
    "    recall = recall_score(y_pred, y_test)\n",
    "    precision = precision_score(y_pred, y_test)\n",
    "    \n",
    "    cv_result = cross_val_score(pipelines[key], \n",
    "                               X_train, \n",
    "                               y_train,\n",
    "                               cv=kfold,\n",
    "                               scoring=scoring)\n",
    "    results.append(cv_result)\n",
    "    print( '%8s:  Mean: %.3f\\tMin: %.3f\\t(std:  %.3f)'%(key, cv_result.mean(), cv_result.min(), cv_result.std()) )\n",
    "    write_result(key, cv_result)\n",
    "    print('f1: %.3f\\trecall: %.3f\\t precision: %.3f \\n' %(f1 , recall, precision ) )\n",
    "    write_log('f1: %.3f\\trecall: %.3f\\t precision: %.3f \\n' %(f1 , recall, precision ) )\n",
    "\n",
    "fig = plt.figure(figsize=(10,10))\n",
    "fig.suptitle('Alogrithm Comparison')\n",
    "ax = fig.add_subplot(111)\n",
    "plt.boxplot(results)\n",
    "ax.set_xticklabels(pipelines.keys())\n",
    "\n",
    "plt.show()"
   ]
  },
  {
   "cell_type": "code",
   "execution_count": 93,
   "metadata": {},
   "outputs": [],
   "source": [
    "ensembles= {}\n",
    "ensembles['ScalerAB'] = Pipeline([('Scaler', StandardScaler()), ('LR', AdaBoostClassifier(n_estimators=100))])\n",
    "# ensembles['ScalerAB-KNN'] = Pipeline([('Scaler', StandardScaler()), ('ABKNN', AdaBoostClassifier(base_estimator=KNeighborsRegressor()))])\n",
    "# ensembles['ScalerAB-LR'] = Pipeline([('Scaler', StandardScaler()), ('ABLR', AdaBoostClassifier(base_estimator=LinearRegression()))])\n",
    "ensembles['ScalerRFR'] = Pipeline([('Scaler', StandardScaler()), ('RFR', RandomForestClassifier())])\n",
    "ensembles['ScalerETR'] = Pipeline([('Scaler', StandardScaler()), ('ETR', ExtraTreesClassifier())])\n",
    "ensembles['ScalerGBR'] = Pipeline([('Scaler', StandardScaler()), ('GBR', GradientBoostingClassifier(n_estimators=100))])\n"
   ]
  },
  {
   "cell_type": "code",
   "execution_count": 95,
   "metadata": {},
   "outputs": [
    {
     "name": "stdout",
     "output_type": "stream",
     "text": [
      "ScalerAB:  Mean: 0.955\tMin: 0.892\t(std:  0.027)\n",
      "f1: 0.976\trecall: 1.000\t precision: 0.953 \n",
      "\n",
      "ScalerRFR:  Mean: 0.971\tMin: 0.946\t(std:  0.019)\n",
      "f1: 0.976\trecall: 1.000\t precision: 0.953 \n",
      "\n",
      "ScalerETR:  Mean: 0.973\tMin: 0.921\t(std:  0.024)\n",
      "f1: 0.968\trecall: 1.000\t precision: 0.938 \n",
      "\n",
      "ScalerGBR:  Mean: 0.968\tMin: 0.919\t(std:  0.023)\n",
      "f1: 0.976\trecall: 1.000\t precision: 0.953 \n",
      "\n"
     ]
    },
    {
     "data": {
      "image/png": "[encoded data removed]",
      "text/plain": [
       "<Figure size 720x720 with 1 Axes>"
      ]
     },
     "metadata": {},
     "output_type": "display_data"
    }
   ],
   "source": [
    "results = []\n",
    "write_log(\"---------- ensembles ---------------\")\n",
    "for key in ensembles: \n",
    "    kfold = KFold(n_splits=num_folds, random_state=seed)\n",
    "    \n",
    "    clf = ensembles[key].fit(X_train, y_train)\n",
    "    y_pred = clf.predict(X_test)\n",
    "    f1 = f1_score(y_pred, y_test)\n",
    "    recall = recall_score(y_pred, y_test)\n",
    "    precision = precision_score(y_pred, y_test)\n",
    "    \n",
    "    cv_result = cross_val_score(ensembles[key], \n",
    "                               X_train, \n",
    "                               y_train,\n",
    "                               cv=kfold,\n",
    "                               scoring=scoring)\n",
    "    results.append(cv_result)\n",
    "    print( '%8s:  Mean: %.3f\\tMin: %.3f\\t(std:  %.3f)'%(key, cv_result.mean(), cv_result.min(), cv_result.std()) )\n",
    "    write_result(key, cv_result)\n",
    "    print('f1: %.3f\\trecall: %.3f\\t precision: %.3f \\n' %(f1 , recall, precision ) )\n",
    "    write_log('f1: %.3f\\trecall: %.3f\\t precision: %.3f \\n' %(f1 , recall, precision ) )\n",
    "\n",
    "fig = plt.figure(figsize=(10,10))\n",
    "fig.suptitle('Alogrithm Comparison')\n",
    "ax = fig.add_subplot(111)\n",
    "plt.boxplot(results)\n",
    "ax.set_xticklabels(ensembles.keys())\n",
    "\n",
    "plt.show()"
   ]
  },
  {
   "cell_type": "code",
   "execution_count": null,
   "metadata": {},
   "outputs": [],
   "source": []
  },
  {
   "cell_type": "code",
   "execution_count": null,
   "metadata": {},
   "outputs": [],
   "source": []
  },
  {
   "cell_type": "code",
   "execution_count": null,
   "metadata": {},
   "outputs": [],
   "source": []
  },
  {
   "cell_type": "code",
   "execution_count": null,
   "metadata": {},
   "outputs": [],
   "source": []
  }
 ],
 "metadata": {
  "kernelspec": {
   "display_name": "Python [conda env:tensorflow_p36]",
   "language": "python",
   "name": "conda-env-tensorflow_p36-py"
  },
  "language_info": {
   "codemirror_mode": {
    "name": "ipython",
    "version": 3
   },
   "file_extension": ".py",
   "mimetype": "text/x-python",
   "name": "python",
   "nbconvert_exporter": "python",
   "pygments_lexer": "ipython3",
   "version": "3.6.5"
  }
 },
 "nbformat": 4,
 "nbformat_minor": 2
}
