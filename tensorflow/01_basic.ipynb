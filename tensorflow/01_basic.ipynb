{
 "cells": [
  {
   "cell_type": "markdown",
   "metadata": {},
   "source": [
    "# TensorFlow 基础"
   ]
  },
  {
   "cell_type": "code",
   "execution_count": 1,
   "metadata": {},
   "outputs": [],
   "source": [
    "# -*- coding: UTF-8 -*-\n",
    "import tensorflow as tf\n",
    "import numpy as np\n",
    "import matplotlib.pyplot as plt"
   ]
  },
  {
   "cell_type": "code",
   "execution_count": 28,
   "metadata": {},
   "outputs": [
    {
     "name": "stdout",
     "output_type": "stream",
     "text": [
      "[[0.852326   0.33698174 0.55371493]\n",
      " [0.98233455 0.78314114 0.8162149 ]\n",
      " [1.243459   0.63584346 1.3447089 ]]\n"
     ]
    }
   ],
   "source": [
    "x = tf.placeholder(tf.float32, shape=(3,3))\n",
    "y = tf.matmul(x, x)\n",
    "\n",
    "with tf.Session() as sess:\n",
    "#     print(sess.run(y))\n",
    "    \n",
    "    rand_array = np.random.rand(3, 3)\n",
    "    print(sess. run(y, feed_dict={x: rand_array}))\n"
   ]
  },
  {
   "cell_type": "markdown",
   "metadata": {},
   "source": [
    "# 梯度下降\n",
    "\n",
    "y = 0.1*x + 0.2\n",
    "权重（Wight） 0.1 偏差 0.2"
   ]
  },
  {
   "cell_type": "code",
   "execution_count": 43,
   "metadata": {},
   "outputs": [
    {
     "data": {
      "image/png": "[encoded data removed]",
      "text/plain": [
       "<Figure size 432x288 with 1 Axes>"
      ]
     },
     "metadata": {},
     "output_type": "display_data"
    }
   ],
   "source": [
    "point_sum = 100\n",
    "vectors = []\n",
    "\n",
    "for i in range(point_sum):\n",
    "    x1 = np.random.normal(0.0, 0.66)\n",
    "    y1 =  0.1 * x1 + 0.2 + np.random.normal(0.0, 0.04)\n",
    "    vectors.append([x1, y1])\n",
    "x_data = [ v[0] for v in vectors]\n",
    "y_data = [ v[1] for v in vectors]\n",
    "plt.plot(x_data, y_data, 'r*', label='Original data')\n",
    "plt.title('Linear Regresion using Gradient Descent')\n",
    "plt.legend()\n",
    "plt.show()"
   ]
  },
  {
   "cell_type": "code",
   "execution_count": 45,
   "metadata": {},
   "outputs": [],
   "source": [
    "W = tf.Variable(tf.random_uniform([1], -1.0, 1.0))\n",
    "b = tf.Variable(tf.zeros([1]))\n",
    "y = W * x_data + b\n",
    "\n",
    "#loss function \n",
    "learning_rate = 0.5\n",
    "loss = tf.reduce_mean(tf.square(y - y_data))\n",
    "optimizer = tf.train.GradientDescentOptimizer(learning_rate)\n",
    "\n",
    "train = optimizer.minimize(loss)"
   ]
  },
  {
   "cell_type": "code",
   "execution_count": 58,
   "metadata": {},
   "outputs": [
    {
     "name": "stdout",
     "output_type": "stream",
     "text": [
      "Step=0, Loss=0.074613, [Weight=0.522039 Bias=0.100068]\n",
      "Step=1, Loss=0.026645, [Weight=0.352311 Bias=0.138174]\n",
      "Step=2, Loss=0.010216, [Weight=0.253127 Bias=0.161113]\n",
      "Step=3, Loss=0.004589, [Weight=0.195075 Bias=0.174518]\n",
      "Step=4, Loss=0.002661, [Weight=0.161101 Bias=0.182364]\n",
      "Step=5, Loss=0.002001, [Weight=0.141219 Bias=0.186956]\n",
      "Step=6, Loss=0.001775, [Weight=0.129582 Bias=0.189643]\n",
      "Step=7, Loss=0.001698, [Weight=0.122772 Bias=0.191216]\n",
      "Step=8, Loss=0.001671, [Weight=0.118787 Bias=0.192136]\n",
      "Step=9, Loss=0.001662, [Weight=0.116454 Bias=0.192675]\n",
      "Step=10, Loss=0.001659, [Weight=0.115089 Bias=0.192990]\n",
      "Step=11, Loss=0.001658, [Weight=0.114291 Bias=0.193175]\n",
      "Step=12, Loss=0.001657, [Weight=0.113823 Bias=0.193283]\n",
      "Step=13, Loss=0.001657, [Weight=0.113549 Bias=0.193346]\n",
      "Step=14, Loss=0.001657, [Weight=0.113389 Bias=0.193383]\n",
      "Step=15, Loss=0.001657, [Weight=0.113296 Bias=0.193405]\n",
      "Step=16, Loss=0.001657, [Weight=0.113241 Bias=0.193417]\n",
      "Step=17, Loss=0.001657, [Weight=0.113209 Bias=0.193425]\n",
      "Step=18, Loss=0.001657, [Weight=0.113190 Bias=0.193429]\n",
      "Step=19, Loss=0.001657, [Weight=0.113179 Bias=0.193431]\n"
     ]
    }
   ],
   "source": [
    "_w = 0.0\n",
    "_b = 0.0\n",
    "with tf.Session() as sess:\n",
    "    init = tf.global_variables_initializer()\n",
    "    sess.run(init)\n",
    "    \n",
    "    for step in range(20):\n",
    "        sess.run(train)\n",
    "        print('Step=%d, Loss=%f, [Weight=%f Bias=%f]' % (step, sess.run(loss), \n",
    "             sess.run(W), sess.run(b)) )\n",
    "        \n",
    "    _w = sess.run(W)\n",
    "    _b = sess.run(b)\n",
    "        "
   ]
  },
  {
   "cell_type": "code",
   "execution_count": 61,
   "metadata": {},
   "outputs": [
    {
     "data": {
      "image/png": "[encoded data removed]",
      "text/plain": [
       "<Figure size 432x288 with 1 Axes>"
      ]
     },
     "metadata": {},
     "output_type": "display_data"
    }
   ],
   "source": [
    "plt.plot(x_data, y_data, 'r*', label='Original data')\n",
    "plt.plot(x_data, _w*x_data+_b, label='Fitted line')\n",
    "plt.title('Linear Regresion using Gradient Descent')\n",
    "plt.legend()\n",
    "plt.xlabel('x')\n",
    "plt.ylabel('y')\n",
    "plt.show()"
   ]
  },
  {
   "cell_type": "markdown",
   "metadata": {},
   "source": [
    "# 激活函数"
   ]
  },
  {
   "cell_type": "code",
   "execution_count": 2,
   "metadata": {},
   "outputs": [],
   "source": [
    "x = np.linspace(-7, 7, 180)\n",
    "def sigmoid(inputs):\n",
    "    y = [1/float(1+np.exp(-x)) for x in inputs]\n",
    "    return y\n",
    "\n",
    "def relu(inputs):\n",
    "    y = [x * (x>0) for x in inputs]\n",
    "    return y\n",
    "\n",
    "def tanh(inputs):\n",
    "    y = [(np.exp(x) - np.exp(-x))/ float(np.exp(x) +np.exp(-x)) \n",
    "         for x in inputs]\n",
    "    return y\n",
    "\n",
    "def softplus(inputs):\n",
    "    y = [np.log(1 + np.exp(x)) for x in inputs]\n",
    "    return y "
   ]
  },
  {
   "cell_type": "code",
   "execution_count": 17,
   "metadata": {},
   "outputs": [
    {
     "name": "stdout",
     "output_type": "stream",
     "text": [
      "[0.0009110511944006454, 0.0009850941976634196, 0.0010651484124882544, 0.0011517007765964155]\n",
      "[0.00091105 0.00098509 0.00106515 0.0011517 ]\n"
     ]
    }
   ],
   "source": [
    "y_sigmoid = tf.nn.sigmoid(x)\n",
    "y_relu = tf.nn.relu(x)\n",
    "y_tanh = tf.nn.tanh(x)\n",
    "y_softplus = tf.nn.softplus(x)\n",
    "\n",
    "_y_sigmoid = []\n",
    "_y_relu = []\n",
    "_y_tanh = []\n",
    "_y_softplus = []\n",
    "\n",
    "\n",
    "\n",
    "print(sigmoid(x)[:4])\n",
    "with tf.Session() as sess:\n",
    "    init = tf.global_variables_initializer()\n",
    "    print(sess.run(y_sigmoid)[:4])\n",
    "    _y_sigmoid = sess.run(y_sigmoid)\n",
    "    _y_relu = sess.run(y_relu)\n",
    "    _y_tanh = sess.run(y_tanh)\n",
    "    _y_softplus = sess.run(y_softplus)\n"
   ]
  },
  {
   "cell_type": "code",
   "execution_count": 31,
   "metadata": {},
   "outputs": [
    {
     "data": {
      "image/png": "[encoded data removed]",
      "text/plain": [
       "<Figure size 432x288 with 4 Axes>"
      ]
     },
     "metadata": {},
     "output_type": "display_data"
    }
   ],
   "source": [
    "plt.subplot(221)\n",
    "plt.plot(x, _y_sigmoid, c='red', label='sigmoid')\n",
    "plt.ylim(-0.2, 1.2)\n",
    "plt.legend(loc='best')\n",
    "\n",
    "plt.subplot(222)\n",
    "plt.plot(x, _y_relu, c='black', label='relu')\n",
    "plt.ylim(-1, 6)\n",
    "plt.legend(loc='best')\n",
    "\n",
    "plt.subplot(223)\n",
    "plt.plot(x, _y_tanh, c='blue', label='tanh')\n",
    "plt.ylim(-1.3, 1.3)\n",
    "plt.legend(loc='best')\n",
    "\n",
    "\n",
    "plt.subplot(224)\n",
    "plt.plot(x, _y_softplus, c='green', label='softplus')\n",
    "plt.ylim(-1, 6)\n",
    "plt.legend(loc='best')\n",
    "plt.show()"
   ]
  },
  {
   "cell_type": "code",
   "execution_count": null,
   "metadata": {},
   "outputs": [],
   "source": []
  }
 ],
 "metadata": {
  "kernelspec": {
   "display_name": "Python [conda env:tensorflow_p36]",
   "language": "python",
   "name": "conda-env-tensorflow_p36-py"
  },
  "language_info": {
   "codemirror_mode": {
    "name": "ipython",
    "version": 3
   },
   "file_extension": ".py",
   "mimetype": "text/x-python",
   "name": "python",
   "nbconvert_exporter": "python",
   "pygments_lexer": "ipython3",
   "version": "3.6.5"
  }
 },
 "nbformat": 4,
 "nbformat_minor": 2
}
