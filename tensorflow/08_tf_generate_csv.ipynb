{
 "cells": [
  {
   "cell_type": "code",
   "execution_count": 1,
   "metadata": {},
   "outputs": [
    {
     "name": "stdout",
     "output_type": "stream",
     "text": [
      "2.2.0-dev20200218\n",
      "sys.version_info(major=3, minor=6, micro=5, releaselevel='final', serial=0)\n",
      "matplotlib 3.0.3\n",
      "numpy 1.16.4\n",
      "pandas 0.24.2\n",
      "sklearn 0.21.2\n",
      "tensorflow 2.2.0-dev20200218\n",
      "tensorflow.python.keras.api._v2.keras 2.2.4-tf\n"
     ]
    }
   ],
   "source": [
    "import matplotlib as mpl\n",
    "import matplotlib.pyplot as plt\n",
    "%matplotlib inline\n",
    "import numpy as np\n",
    "import sklearn\n",
    "import pandas as pd\n",
    "import os\n",
    "import sys\n",
    "import time\n",
    "import tensorflow as tf\n",
    "\n",
    "from tensorflow import keras\n",
    "\n",
    "print(tf.__version__)\n",
    "print(sys.version_info)\n",
    "for module in mpl, np, pd, sklearn, tf, keras:\n",
    "    print(module.__name__, module.__version__)"
   ]
  },
  {
   "cell_type": "code",
   "execution_count": 2,
   "metadata": {},
   "outputs": [],
   "source": [
    "from sklearn.datasets import fetch_california_housing\n",
    "\n",
    "housing = fetch_california_housing()"
   ]
  },
  {
   "cell_type": "code",
   "execution_count": 3,
   "metadata": {},
   "outputs": [
    {
     "name": "stdout",
     "output_type": "stream",
     "text": [
      "(11610, 8) (11610,)\n",
      "(3870, 8) (3870,)\n",
      "(5160, 8) (5160,)\n"
     ]
    }
   ],
   "source": [
    "from sklearn.model_selection import train_test_split\n",
    "\n",
    "x_train_all, x_test, y_train_all, y_test = train_test_split(\n",
    "    housing.data, housing.target, random_state = 7)\n",
    "x_train, x_valid, y_train, y_valid = train_test_split(\n",
    "    x_train_all, y_train_all, random_state = 11)\n",
    "print(x_train.shape, y_train.shape)\n",
    "print(x_valid.shape, y_valid.shape)\n",
    "print(x_test.shape, y_test.shape)\n"
   ]
  },
  {
   "cell_type": "code",
   "execution_count": 4,
   "metadata": {},
   "outputs": [],
   "source": [
    "from sklearn.preprocessing import StandardScaler\n",
    "\n",
    "scaler = StandardScaler()\n",
    "x_train_scaled = scaler.fit_transform(x_train)\n",
    "x_valid_scaled = scaler.transform(x_valid)\n",
    "x_test_scaled = scaler.transform(x_test)"
   ]
  },
  {
   "cell_type": "code",
   "execution_count": 5,
   "metadata": {},
   "outputs": [],
   "source": [
    "output_dir = \"dataset\"\n",
    "if not os.path.exists(output_dir):\n",
    "    os.mkdir(output_dir)\n",
    "\n",
    "def save_to_csv(output_dir, data, name_prefix,\n",
    "                header=None, n_parts=10):\n",
    "    path_format = os.path.join(output_dir, \"{}_{:02d}.csv\")\n",
    "    filenames = []\n",
    "    \n",
    "    for file_idx, row_indices in enumerate(\n",
    "        np.array_split(np.arange(len(data)), n_parts)):\n",
    "        part_csv = path_format.format(name_prefix, file_idx)\n",
    "        filenames.append(part_csv)\n",
    "        with open(part_csv, \"wt\", encoding=\"utf-8\") as f:\n",
    "            if header is not None:\n",
    "                f.write(header + \"\\n\")\n",
    "            for row_index in row_indices:\n",
    "                f.write(\",\".join(\n",
    "                    [repr(col) for col in data[row_index]]))\n",
    "                f.write('\\n')\n",
    "    return filenames\n",
    "\n",
    "train_data = np.c_[x_train_scaled, y_train]\n",
    "valid_data = np.c_[x_valid_scaled, y_valid]\n",
    "test_data = np.c_[x_test_scaled, y_test]\n",
    "header_cols = housing.feature_names + [\"MidianHouseValue\"]\n",
    "header_str = \",\".join(header_cols)\n",
    "\n",
    "# train_filenames = save_to_csv(output_dir, train_data, \"train\",\n",
    "#                               header_str, n_parts=20)\n",
    "# valid_filenames = save_to_csv(output_dir, valid_data, \"valid\",\n",
    "#                               header_str, n_parts=10)\n",
    "# test_filenames = save_to_csv(output_dir, test_data, \"test\",\n",
    "#                              header_str, n_parts=10)"
   ]
  },
  {
   "cell_type": "code",
   "execution_count": 7,
   "metadata": {},
   "outputs": [
    {
     "name": "stdout",
     "output_type": "stream",
     "text": [
      "'Train file name: '\n",
      "['dataset/train_00.csv',\n",
      " 'dataset/train_01.csv',\n",
      " 'dataset/train_02.csv',\n",
      " 'dataset/train_03.csv',\n",
      " 'dataset/train_04.csv',\n",
      " 'dataset/train_05.csv',\n",
      " 'dataset/train_06.csv',\n",
      " 'dataset/train_07.csv',\n",
      " 'dataset/train_08.csv',\n",
      " 'dataset/train_09.csv',\n",
      " 'dataset/train_10.csv',\n",
      " 'dataset/train_11.csv',\n",
      " 'dataset/train_12.csv',\n",
      " 'dataset/train_13.csv',\n",
      " 'dataset/train_14.csv',\n",
      " 'dataset/train_15.csv',\n",
      " 'dataset/train_16.csv',\n",
      " 'dataset/train_17.csv',\n",
      " 'dataset/train_18.csv',\n",
      " 'dataset/train_19.csv']\n",
      "'Valid file name: '\n",
      "['dataset/valid_00.csv',\n",
      " 'dataset/valid_01.csv',\n",
      " 'dataset/valid_02.csv',\n",
      " 'dataset/valid_03.csv',\n",
      " 'dataset/valid_04.csv',\n",
      " 'dataset/valid_05.csv',\n",
      " 'dataset/valid_06.csv',\n",
      " 'dataset/valid_07.csv',\n",
      " 'dataset/valid_08.csv',\n",
      " 'dataset/valid_09.csv']\n",
      "'Test file name: '\n",
      "['dataset/test_00.csv',\n",
      " 'dataset/test_01.csv',\n",
      " 'dataset/test_02.csv',\n",
      " 'dataset/test_03.csv',\n",
      " 'dataset/test_04.csv',\n",
      " 'dataset/test_05.csv',\n",
      " 'dataset/test_06.csv',\n",
      " 'dataset/test_07.csv',\n",
      " 'dataset/test_08.csv',\n",
      " 'dataset/test_09.csv']\n"
     ]
    }
   ],
   "source": [
    "import pprint\n",
    "pprint.pprint('Train file name: ')\n",
    "pprint.pprint(train_filenames)\n",
    "pprint.pprint('Valid file name: ')\n",
    "pprint.pprint(valid_filenames)\n",
    "pprint.pprint('Test file name: ')\n",
    "pprint.pprint(test_filenames)"
   ]
  },
  {
   "cell_type": "code",
   "execution_count": 11,
   "metadata": {},
   "outputs": [
    {
     "name": "stdout",
     "output_type": "stream",
     "text": [
      "tf.Tensor(b'dataset/train_07.csv', shape=(), dtype=string)\n",
      "tf.Tensor(b'dataset/train_15.csv', shape=(), dtype=string)\n",
      "tf.Tensor(b'dataset/train_03.csv', shape=(), dtype=string)\n",
      "tf.Tensor(b'dataset/train_13.csv', shape=(), dtype=string)\n",
      "tf.Tensor(b'dataset/train_14.csv', shape=(), dtype=string)\n",
      "tf.Tensor(b'dataset/train_04.csv', shape=(), dtype=string)\n",
      "tf.Tensor(b'dataset/train_05.csv', shape=(), dtype=string)\n",
      "tf.Tensor(b'dataset/train_00.csv', shape=(), dtype=string)\n",
      "tf.Tensor(b'dataset/train_11.csv', shape=(), dtype=string)\n",
      "tf.Tensor(b'dataset/train_08.csv', shape=(), dtype=string)\n",
      "tf.Tensor(b'dataset/train_02.csv', shape=(), dtype=string)\n",
      "tf.Tensor(b'dataset/train_12.csv', shape=(), dtype=string)\n",
      "tf.Tensor(b'dataset/train_09.csv', shape=(), dtype=string)\n",
      "tf.Tensor(b'dataset/train_18.csv', shape=(), dtype=string)\n",
      "tf.Tensor(b'dataset/train_06.csv', shape=(), dtype=string)\n",
      "tf.Tensor(b'dataset/train_19.csv', shape=(), dtype=string)\n",
      "tf.Tensor(b'dataset/train_10.csv', shape=(), dtype=string)\n",
      "tf.Tensor(b'dataset/train_01.csv', shape=(), dtype=string)\n",
      "tf.Tensor(b'dataset/train_16.csv', shape=(), dtype=string)\n",
      "tf.Tensor(b'dataset/train_17.csv', shape=(), dtype=string)\n"
     ]
    }
   ],
   "source": [
    "filename_dataset = tf.data.Dataset.list_files(train_filenames)\n",
    "\n",
    "for filename in filename_dataset:\n",
    "    print(filename)"
   ]
  },
  {
   "cell_type": "code",
   "execution_count": 16,
   "metadata": {},
   "outputs": [
    {
     "name": "stdout",
     "output_type": "stream",
     "text": [
      "b'0.401276648075221,-0.9293421252555106,-0.05333050451405854,-0.1865945262276826,0.6545661895448709,0.026434465728210874,0.9312527706398824,-1.4406417263474771,2.512'\n",
      "b'-1.1157655153587753,0.9930635538078697,-0.33419201318312125,-0.0653521844775239,-0.3289320346639209,0.04343065774347637,-0.12785878480573185,0.30707203993980686,0.524'\n",
      "b'0.42408210084996534,0.9129633171802288,-0.04437481876046234,-0.15297213746739335,-0.24727627804141977,-0.10539166599677323,0.8612674255663844,-1.3357789003702432,3.955'\n",
      "b'0.4853051504718848,-0.8492418886278699,-0.06530126513877861,-0.023379656040017353,1.4974350551260218,-0.07790657783453239,-0.9023632702857819,0.7814514907892068,2.956'\n",
      "b'0.801544314532886,0.27216142415910205,-0.11624392696666119,-0.2023115137272354,-0.5430515742518128,-0.021039615516440048,-0.5897620622908205,-0.08241845654707416,3.226'\n",
      "b'-0.8757754235423053,1.874166156711919,-0.9487499555702599,-0.09657184824705009,-0.7163432355284542,-0.07790191228558485,0.9825753570271144,-1.4206678547327694,2.75'\n",
      "b'-0.9760554752293826,1.2333642636907922,-0.3909986321352606,-0.15728481711770903,-0.8261248638764835,-0.14088780945051624,1.360496220424008,-0.9512818717870428,1.136'\n",
      "b'0.4369234889778008,-1.9706452014148417,-0.1664210569911193,0.05486205164394496,-0.8379195842775115,-0.1323988058685803,-0.9956770637171147,0.941242463706905,1.73'\n",
      "b'-0.7432054083470616,0.9129633171802288,-0.644320243857189,-0.1479096959813185,0.7398510909061499,0.11427691039226903,-0.7950524078397521,0.6815821327156534,1.438'\n",
      "b'-0.2980728090942217,0.3522616607867429,-0.10920507530549702,-0.25055520947444,-0.034064024638222286,-0.006034004264459185,1.080554840130013,-1.0611381656679573,1.514'\n"
     ]
    }
   ],
   "source": [
    "n_readers = 5\n",
    "dataset = filename_dataset.interleave(\n",
    "    lambda filename: tf.data.TextLineDataset(filename).skip(1),\n",
    "    cycle_length = n_readers\n",
    ")\n",
    "\n",
    "for line in dataset.take(10):\n",
    "    print(line.numpy())"
   ]
  },
  {
   "cell_type": "code",
   "execution_count": 19,
   "metadata": {},
   "outputs": [
    {
     "name": "stdout",
     "output_type": "stream",
     "text": [
      "[<tf.Tensor: shape=(), dtype=int32, numpy=1>, <tf.Tensor: shape=(), dtype=int32, numpy=2>, <tf.Tensor: shape=(), dtype=int32, numpy=3>, <tf.Tensor: shape=(), dtype=int32, numpy=4>, <tf.Tensor: shape=(), dtype=int32, numpy=5>]\n"
     ]
    }
   ],
   "source": [
    "# tf.io.decode_csv(str, recode_defaults, )\n",
    "sample_str = '1,2,3,4,5'\n",
    "record_defaults = [tf.constant(0, dtype=tf.int32)] *5\n",
    "\n",
    "parsed_fields = tf.io.decode_csv(sample_str, record_defaults)\n",
    "print(parsed_fields)"
   ]
  },
  {
   "cell_type": "code",
   "execution_count": 33,
   "metadata": {},
   "outputs": [
    {
     "data": {
      "text/plain": [
       "array([-0.29807281,  0.35226166, -0.10920507, -0.25055522, -0.03406402,\n",
       "       -0.006034  ,  1.0805548 , -1.0611382 ], dtype=float32)"
      ]
     },
     "execution_count": 33,
     "metadata": {},
     "output_type": "execute_result"
    }
   ],
   "source": [
    "def parse_csv_line(line, n_fields=9):\n",
    "    defs = [tf.constant(np.nan)] * n_fields\n",
    "    parsed_fields = tf.io.decode_csv(line, record_defaults=defs)\n",
    "    x = tf.stack(parsed_fields[0:-1])\n",
    "    y = tf.stack(parsed_fields[-1:])\n",
    "    return x, y\n",
    "\n",
    "parse_csv_line(b'-0.2980728090942217,0.3522616607867429,-0.10920507530549702,-0.25055520947444,-0.034064024638222286,-0.006034004264459185,1.080554840130013,-1.0611381656679573,1.514', \n",
    "              n_fields=9)[0].numpy()\n"
   ]
  },
  {
   "cell_type": "code",
   "execution_count": 38,
   "metadata": {},
   "outputs": [],
   "source": [
    "def csv_reader_dataset(filenames, n_readers=5, \n",
    "                      batch_size=32, n_parse_threads=5, \n",
    "                      shuffle_buffer_size=10000):\n",
    "    dataset = tf.data.Dataset.list_files(filenames)\n",
    "    dataset = dataset.repeat()\n",
    "    dataset = dataset.interleave(\n",
    "        lambda filename: tf.data.TextLineDataset(filename).skip(1),\n",
    "        cycle_length = n_readers\n",
    "    )\n",
    "    dataset .shuffle(shuffle_buffer_size)\n",
    "    dataset = dataset.map(parse_csv_line, \n",
    "                          num_parallel_calls=n_parse_threads)\n",
    "    \n",
    "    dataset = dataset.batch(batch_size)\n",
    "    return dataset\n",
    "    \n",
    "\n",
    "batch_size=32\n",
    "train_set = csv_reader_dataset(train_filenames, batch_size=batch_size)\n",
    "valid_set = csv_reader_dataset(valid_filenames, batch_size=batch_size)\n",
    "test_set = csv_reader_dataset(test_filenames, batch_size=batch_size)\n",
    "\n",
    "# for x_batch, y_batch in train_set.take(2):\n",
    "#     print('x:')\n",
    "#     print(x_batch.numpy())\n",
    "#     print('y: ')\n",
    "#     print(y_batch.numpy())"
   ]
  },
  {
   "cell_type": "code",
   "execution_count": 41,
   "metadata": {},
   "outputs": [
    {
     "name": "stdout",
     "output_type": "stream",
     "text": [
      "Model: \"sequential_1\"\n",
      "_________________________________________________________________\n",
      "Layer (type)                 Output Shape              Param #   \n",
      "=================================================================\n",
      "dense_3 (Dense)              (None, 30)                270       \n",
      "_________________________________________________________________\n",
      "dense_4 (Dense)              (None, 1)                 31        \n",
      "=================================================================\n",
      "Total params: 301\n",
      "Trainable params: 301\n",
      "Non-trainable params: 0\n",
      "_________________________________________________________________\n",
      "Train for 348 steps, validate for 120 steps\n",
      "Epoch 1/100\n",
      "348/348 [==============================] - 1s 3ms/step - loss: 2.1170 - val_loss: 1.1271\n",
      "Epoch 2/100\n",
      "348/348 [==============================] - 1s 2ms/step - loss: 0.8546 - val_loss: 0.8577\n",
      "Epoch 3/100\n",
      "348/348 [==============================] - 1s 2ms/step - loss: 0.7535 - val_loss: 0.7914\n",
      "Epoch 4/100\n",
      "348/348 [==============================] - 1s 2ms/step - loss: 0.6957 - val_loss: 0.7498\n",
      "Epoch 5/100\n",
      "348/348 [==============================] - 1s 2ms/step - loss: 0.6729 - val_loss: 0.7190\n",
      "Epoch 6/100\n",
      "348/348 [==============================] - 1s 2ms/step - loss: 0.6346 - val_loss: 0.6895\n",
      "Epoch 7/100\n",
      "348/348 [==============================] - 1s 2ms/step - loss: 0.6135 - val_loss: 0.6652\n",
      "Epoch 8/100\n",
      "348/348 [==============================] - 1s 2ms/step - loss: 0.5932 - val_loss: 0.6450\n",
      "Epoch 9/100\n",
      "348/348 [==============================] - 1s 2ms/step - loss: 0.5915 - val_loss: 0.6266\n",
      "Epoch 10/100\n",
      "348/348 [==============================] - 1s 2ms/step - loss: 0.5519 - val_loss: 0.6095\n",
      "Epoch 11/100\n",
      "348/348 [==============================] - 1s 2ms/step - loss: 0.5524 - val_loss: 0.5980\n",
      "Epoch 12/100\n",
      "348/348 [==============================] - 1s 2ms/step - loss: 0.5387 - val_loss: 0.5828\n",
      "Epoch 13/100\n",
      "348/348 [==============================] - 1s 2ms/step - loss: 0.5439 - val_loss: 0.5712\n",
      "Epoch 14/100\n",
      "348/348 [==============================] - 1s 2ms/step - loss: 0.5247 - val_loss: 0.5612\n",
      "Epoch 15/100\n",
      "348/348 [==============================] - 1s 2ms/step - loss: 0.5158 - val_loss: 0.5516\n",
      "Epoch 16/100\n",
      "348/348 [==============================] - 1s 2ms/step - loss: 0.4936 - val_loss: 0.5433\n",
      "Epoch 17/100\n",
      "348/348 [==============================] - 1s 2ms/step - loss: 0.5166 - val_loss: 0.5371\n",
      "Epoch 18/100\n",
      "348/348 [==============================] - 1s 2ms/step - loss: 0.4895 - val_loss: 0.5294\n",
      "Epoch 19/100\n",
      "348/348 [==============================] - 1s 2ms/step - loss: 0.4932 - val_loss: 0.5257\n",
      "Epoch 20/100\n",
      "348/348 [==============================] - 1s 2ms/step - loss: 0.4909 - val_loss: 0.5188\n",
      "Epoch 21/100\n",
      "348/348 [==============================] - 1s 2ms/step - loss: 0.4755 - val_loss: 0.5144\n",
      "Epoch 22/100\n",
      "348/348 [==============================] - 1s 2ms/step - loss: 0.4771 - val_loss: 0.5090\n",
      "Epoch 23/100\n",
      "348/348 [==============================] - 1s 2ms/step - loss: 0.4768 - val_loss: 0.5054\n",
      "Epoch 24/100\n",
      "348/348 [==============================] - 1s 2ms/step - loss: 0.4691 - val_loss: 0.5007\n",
      "Epoch 25/100\n",
      "348/348 [==============================] - 1s 2ms/step - loss: 0.4682 - val_loss: 0.4965\n",
      "Epoch 26/100\n",
      "348/348 [==============================] - 1s 2ms/step - loss: 0.4576 - val_loss: 0.4916\n",
      "Epoch 27/100\n",
      "348/348 [==============================] - 1s 2ms/step - loss: 0.4646 - val_loss: 0.4894\n",
      "Epoch 28/100\n",
      "348/348 [==============================] - 1s 2ms/step - loss: 0.4551 - val_loss: 0.4855\n",
      "Epoch 29/100\n",
      "348/348 [==============================] - 1s 2ms/step - loss: 0.4537 - val_loss: 0.4822\n",
      "Epoch 30/100\n",
      "348/348 [==============================] - 1s 2ms/step - loss: 0.4486 - val_loss: 0.4792\n",
      "Epoch 31/100\n",
      "348/348 [==============================] - 1s 2ms/step - loss: 0.4523 - val_loss: 0.4755\n",
      "Epoch 32/100\n",
      "348/348 [==============================] - 1s 2ms/step - loss: 0.4567 - val_loss: 0.4733\n",
      "Epoch 33/100\n",
      "348/348 [==============================] - 1s 2ms/step - loss: 0.4371 - val_loss: 0.4689\n",
      "Epoch 34/100\n",
      "348/348 [==============================] - 1s 2ms/step - loss: 0.4350 - val_loss: 0.4672\n",
      "Epoch 35/100\n",
      "348/348 [==============================] - 1s 2ms/step - loss: 0.4420 - val_loss: 0.4646\n",
      "Epoch 36/100\n",
      "348/348 [==============================] - 1s 2ms/step - loss: 0.4373 - val_loss: 0.4626\n",
      "Epoch 37/100\n",
      "348/348 [==============================] - 1s 2ms/step - loss: 0.4256 - val_loss: 0.4614\n",
      "Epoch 38/100\n",
      "348/348 [==============================] - 1s 2ms/step - loss: 0.4416 - val_loss: 0.4585\n",
      "Epoch 39/100\n",
      "348/348 [==============================] - 1s 2ms/step - loss: 0.4239 - val_loss: 0.4572\n",
      "Epoch 40/100\n",
      "348/348 [==============================] - 1s 2ms/step - loss: 0.4403 - val_loss: 0.4530\n",
      "Epoch 41/100\n",
      "348/348 [==============================] - 1s 2ms/step - loss: 0.4278 - val_loss: 0.4517\n",
      "Epoch 42/100\n",
      "348/348 [==============================] - 1s 2ms/step - loss: 0.4232 - val_loss: 0.4506\n",
      "Epoch 43/100\n",
      "348/348 [==============================] - 1s 2ms/step - loss: 0.4221 - val_loss: 0.4494\n"
     ]
    }
   ],
   "source": [
    "model = keras.models.Sequential([\n",
    "    keras.layers.Dense(30, activation='relu', \n",
    "                      input_shape=[8]),\n",
    "    keras.layers.Dense(1), \n",
    "    \n",
    "])\n",
    "model.summary()\n",
    "model.compile(loss='mean_squared_error', \n",
    "             optimizer = keras.optimizers.SGD(0.001),\n",
    "             )\n",
    "\n",
    "callbacks = [keras.callbacks.EarlyStopping(patience=5, \n",
    "                                           min_delta=1e-2)\n",
    "]\n",
    "\n",
    "history = model.fit(train_set, \n",
    "                    validation_data= valid_set,\n",
    "                    steps_per_epoch = 11160//batch_size,\n",
    "                    validation_steps = 3870//batch_size,\n",
    "                    epochs = 100,\n",
    "                    callbacks= callbacks\n",
    "                   )"
   ]
  },
  {
   "cell_type": "code",
   "execution_count": 42,
   "metadata": {},
   "outputs": [
    {
     "name": "stdout",
     "output_type": "stream",
     "text": [
      "161/161 [==============================] - 0s 1ms/step - loss: 0.4446\n"
     ]
    },
    {
     "data": {
      "text/plain": [
       "0.44464135040407593"
      ]
     },
     "execution_count": 42,
     "metadata": {},
     "output_type": "execute_result"
    }
   ],
   "source": [
    "model.evaluate(test_set, steps = 5160// batch_size)"
   ]
  },
  {
   "cell_type": "code",
   "execution_count": null,
   "metadata": {},
   "outputs": [],
   "source": []
  }
 ],
 "metadata": {
  "kernelspec": {
   "display_name": "Python [conda env:tensorflow_p36] *",
   "language": "python",
   "name": "conda-env-tensorflow_p36-py"
  },
  "language_info": {
   "codemirror_mode": {
    "name": "ipython",
    "version": 3
   },
   "file_extension": ".py",
   "mimetype": "text/x-python",
   "name": "python",
   "nbconvert_exporter": "python",
   "pygments_lexer": "ipython3",
   "version": "3.6.5"
  }
 },
 "nbformat": 4,
 "nbformat_minor": 2
}
