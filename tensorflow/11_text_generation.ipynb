{
 "cells": [
  {
   "cell_type": "code",
   "execution_count": 1,
   "metadata": {},
   "outputs": [
    {
     "name": "stdout",
     "output_type": "stream",
     "text": [
      "tf    version: 2.0.0\n",
      "keras version: 2.2.4-tf\n",
      "matplotlib 3.0.3\n",
      "numpy 1.16.4\n",
      "pandas 0.24.2\n",
      "sklearn 0.21.2\n",
      "tensorflow 2.0.0\n",
      "tensorflow_core.keras 2.2.4-tf\n"
     ]
    }
   ],
   "source": [
    "import matplotlib as mpl\n",
    "import matplotlib.pyplot as plt\n",
    "%matplotlib inline\n",
    "import numpy as np\n",
    "import sklearn\n",
    "import pandas as pd\n",
    "import os\n",
    "import sys\n",
    "import time\n",
    "import tensorflow as tf\n",
    "from tensorflow import keras\n",
    "print('tf    version: {}'.format(tf.__version__) )\n",
    "print('keras version: {}'.format(keras.__version__) )\n",
    "for module in mpl, np, pd, sklearn, tf, keras:\n",
    "    print(module.__name__, module.__version__)"
   ]
  },
  {
   "cell_type": "code",
   "execution_count": 2,
   "metadata": {},
   "outputs": [],
   "source": [
    "input_filepath = './data/shakespeare.txt'\n",
    "\n",
    "text = open(input_filepath, 'r').read()"
   ]
  },
  {
   "cell_type": "code",
   "execution_count": 3,
   "metadata": {},
   "outputs": [
    {
     "name": "stdout",
     "output_type": "stream",
     "text": [
      "1115394\n",
      "First Citizen:\n",
      "Before we proceed any further, hear me speak.\n",
      "\n",
      "All:\n",
      "Speak, speak.\n",
      "\n",
      "First Citizen:\n",
      "You\n"
     ]
    }
   ],
   "source": [
    "print(len(text))\n",
    "print(text[0:100])"
   ]
  },
  {
   "cell_type": "markdown",
   "metadata": {},
   "source": [
    "* generate vocab\n",
    "* build mapping char->id\n",
    "* data -> id_data\n",
    "* abcd -> bcd<eos> 对应下一个字符的模型\n",
    "\n"
   ]
  },
  {
   "cell_type": "code",
   "execution_count": 4,
   "metadata": {},
   "outputs": [
    {
     "name": "stdout",
     "output_type": "stream",
     "text": [
      "65\n",
      "['\\n', ' ', '!', '$', '&', \"'\", ',', '-', '.', '3', ':', ';', '?', 'A', 'B', 'C', 'D', 'E', 'F', 'G', 'H', 'I', 'J', 'K', 'L', 'M', 'N', 'O', 'P', 'Q', 'R', 'S', 'T', 'U', 'V', 'W', 'X', 'Y', 'Z', 'a', 'b', 'c', 'd', 'e', 'f', 'g', 'h', 'i', 'j', 'k', 'l', 'm', 'n', 'o', 'p', 'q', 'r', 's', 't', 'u', 'v', 'w', 'x', 'y', 'z']\n"
     ]
    }
   ],
   "source": [
    "vocab = sorted(set(text))\n",
    "print(len(vocab))\n",
    "print(vocab)"
   ]
  },
  {
   "cell_type": "code",
   "execution_count": 5,
   "metadata": {},
   "outputs": [
    {
     "name": "stdout",
     "output_type": "stream",
     "text": [
      "{'\\n': 0, ' ': 1, '!': 2, '$': 3, '&': 4, \"'\": 5, ',': 6, '-': 7, '.': 8, '3': 9, ':': 10, ';': 11, '?': 12, 'A': 13, 'B': 14, 'C': 15, 'D': 16, 'E': 17, 'F': 18, 'G': 19, 'H': 20, 'I': 21, 'J': 22, 'K': 23, 'L': 24, 'M': 25, 'N': 26, 'O': 27, 'P': 28, 'Q': 29, 'R': 30, 'S': 31, 'T': 32, 'U': 33, 'V': 34, 'W': 35, 'X': 36, 'Y': 37, 'Z': 38, 'a': 39, 'b': 40, 'c': 41, 'd': 42, 'e': 43, 'f': 44, 'g': 45, 'h': 46, 'i': 47, 'j': 48, 'k': 49, 'l': 50, 'm': 51, 'n': 52, 'o': 53, 'p': 54, 'q': 55, 'r': 56, 's': 57, 't': 58, 'u': 59, 'v': 60, 'w': 61, 'x': 62, 'y': 63, 'z': 64}\n"
     ]
    }
   ],
   "source": [
    "char2idx = {char:idx for idx, char in enumerate(vocab)}\n",
    "print(char2idx)"
   ]
  },
  {
   "cell_type": "code",
   "execution_count": 6,
   "metadata": {},
   "outputs": [
    {
     "name": "stdout",
     "output_type": "stream",
     "text": [
      "['\\n' ' ' '!' '$' '&' \"'\" ',' '-' '.' '3' ':' ';' '?' 'A' 'B' 'C' 'D' 'E'\n",
      " 'F' 'G' 'H' 'I' 'J' 'K' 'L' 'M' 'N' 'O' 'P' 'Q' 'R' 'S' 'T' 'U' 'V' 'W'\n",
      " 'X' 'Y' 'Z' 'a' 'b' 'c' 'd' 'e' 'f' 'g' 'h' 'i' 'j' 'k' 'l' 'm' 'n' 'o'\n",
      " 'p' 'q' 'r' 's' 't' 'u' 'v' 'w' 'x' 'y' 'z']\n"
     ]
    }
   ],
   "source": [
    "idx2char = np.array(vocab)\n",
    "print(idx2char)"
   ]
  },
  {
   "cell_type": "code",
   "execution_count": 7,
   "metadata": {},
   "outputs": [
    {
     "name": "stdout",
     "output_type": "stream",
     "text": [
      "CPU times: user 142 ms, sys: 16.4 ms, total: 158 ms\n",
      "Wall time: 157 ms\n"
     ]
    }
   ],
   "source": [
    "%%time\n",
    "text_as_int = np.array([char2idx[c] for c in text])\n"
   ]
  },
  {
   "cell_type": "code",
   "execution_count": 8,
   "metadata": {},
   "outputs": [
    {
     "name": "stdout",
     "output_type": "stream",
     "text": [
      "1115394\n",
      "[18 47 56 57 58  1 15 47 58 47]\n",
      "First Citi\n"
     ]
    }
   ],
   "source": [
    "print(len(text_as_int))\n",
    "print(text_as_int[:10])\n",
    "print(text[:10])"
   ]
  },
  {
   "cell_type": "code",
   "execution_count": 9,
   "metadata": {},
   "outputs": [
    {
     "name": "stdout",
     "output_type": "stream",
     "text": [
      "tf.Tensor(18, shape=(), dtype=int64) F\n",
      "tf.Tensor(47, shape=(), dtype=int64) i\n",
      "tf.Tensor(\n",
      "[18 47 56 57 58  1 15 47 58 47 64 43 52 10  0 14 43 44 53 56 43  1 61 43\n",
      "  1 54 56 53 41 43 43 42  1 39 52 63  1 44 59 56 58 46 43 56  6  1 46 43\n",
      " 39 56  1 51 43  1 57 54 43 39 49  8  0  0 13 50 50 10  0 31 54 43 39 49\n",
      "  6  1 57 54 43 39 49  8  0  0 18 47 56 57 58  1 15 47 58 47 64 43 52 10\n",
      "  0 37 53 59  1], shape=(101,), dtype=int64)\n",
      "'First Citizen:\\nBefore we proceed any further, hear me speak.\\n\\nAll:\\nSpeak, speak.\\n\\nFirst Citizen:\\nYou '\n",
      "tf.Tensor(\n",
      "[39 56 43  1 39 50 50  1 56 43 57 53 50 60 43 42  1 56 39 58 46 43 56  1\n",
      " 58 53  1 42 47 43  1 58 46 39 52  1 58 53  1 44 39 51 47 57 46 12  0  0\n",
      " 13 50 50 10  0 30 43 57 53 50 60 43 42  8  1 56 43 57 53 50 60 43 42  8\n",
      "  0  0 18 47 56 57 58  1 15 47 58 47 64 43 52 10  0 18 47 56 57 58  6  1\n",
      " 63 53 59  1 49], shape=(101,), dtype=int64)\n",
      "'are all resolved rather to die than to famish?\\n\\nAll:\\nResolved. resolved.\\n\\nFirst Citizen:\\nFirst, you k'\n"
     ]
    }
   ],
   "source": [
    "def split_input_target(id_text):\n",
    "    \"\"\"\n",
    "    abcde -> abcd, bcde, 输入和输出\n",
    "    \"\"\"\n",
    "    return id_text[0:-1], id_text[1:]\n",
    "\n",
    "char_dataset = tf.data.Dataset.from_tensor_slices(text_as_int)\n",
    "seq_length = 100\n",
    "\n",
    "seq_dataset = char_dataset.batch(seq_length +1 , drop_remainder=True)\n",
    "\n",
    "\n",
    "\n",
    "for ch_id in char_dataset.take(2):\n",
    "    print(ch_id, idx2char[ch_id.numpy()])\n",
    "    \n",
    "for seq_id in seq_dataset.take(2):\n",
    "    print(seq_id)\n",
    "    print(repr(''.join(idx2char[seq_id.numpy()])))\n"
   ]
  },
  {
   "cell_type": "code",
   "execution_count": 10,
   "metadata": {},
   "outputs": [
    {
     "name": "stdout",
     "output_type": "stream",
     "text": [
      "[18 47 56 57 58  1 15 47 58 47 64 43 52 10  0 14 43 44 53 56 43  1 61 43\n",
      "  1 54 56 53 41 43 43 42  1 39 52 63  1 44 59 56 58 46 43 56  6  1 46 43\n",
      " 39 56  1 51 43  1 57 54 43 39 49  8  0  0 13 50 50 10  0 31 54 43 39 49\n",
      "  6  1 57 54 43 39 49  8  0  0 18 47 56 57 58  1 15 47 58 47 64 43 52 10\n",
      "  0 37 53 59]\n",
      "[47 56 57 58  1 15 47 58 47 64 43 52 10  0 14 43 44 53 56 43  1 61 43  1\n",
      " 54 56 53 41 43 43 42  1 39 52 63  1 44 59 56 58 46 43 56  6  1 46 43 39\n",
      " 56  1 51 43  1 57 54 43 39 49  8  0  0 13 50 50 10  0 31 54 43 39 49  6\n",
      "  1 57 54 43 39 49  8  0  0 18 47 56 57 58  1 15 47 58 47 64 43 52 10  0\n",
      " 37 53 59  1]\n",
      "[39 56 43  1 39 50 50  1 56 43 57 53 50 60 43 42  1 56 39 58 46 43 56  1\n",
      " 58 53  1 42 47 43  1 58 46 39 52  1 58 53  1 44 39 51 47 57 46 12  0  0\n",
      " 13 50 50 10  0 30 43 57 53 50 60 43 42  8  1 56 43 57 53 50 60 43 42  8\n",
      "  0  0 18 47 56 57 58  1 15 47 58 47 64 43 52 10  0 18 47 56 57 58  6  1\n",
      " 63 53 59  1]\n",
      "[56 43  1 39 50 50  1 56 43 57 53 50 60 43 42  1 56 39 58 46 43 56  1 58\n",
      " 53  1 42 47 43  1 58 46 39 52  1 58 53  1 44 39 51 47 57 46 12  0  0 13\n",
      " 50 50 10  0 30 43 57 53 50 60 43 42  8  1 56 43 57 53 50 60 43 42  8  0\n",
      "  0 18 47 56 57 58  1 15 47 58 47 64 43 52 10  0 18 47 56 57 58  6  1 63\n",
      " 53 59  1 49]\n"
     ]
    }
   ],
   "source": [
    "seq_dataset = seq_dataset.map(split_input_target)\n",
    "\n",
    "for item_input, item_output in seq_dataset.take(2):\n",
    "    print(item_input.numpy())\n",
    "    print(item_output.numpy())\n",
    "\n"
   ]
  },
  {
   "cell_type": "code",
   "execution_count": 11,
   "metadata": {},
   "outputs": [],
   "source": [
    "batch_size = 64\n",
    "buffer_size = 10000\n",
    "\n",
    "seq_dataset = seq_dataset.shuffle(buffer_size).batch(\n",
    "    batch_size, drop_remainder=True)\n"
   ]
  },
  {
   "cell_type": "code",
   "execution_count": 12,
   "metadata": {},
   "outputs": [
    {
     "name": "stdout",
     "output_type": "stream",
     "text": [
      "Model: \"sequential\"\n",
      "_________________________________________________________________\n",
      "Layer (type)                 Output Shape              Param #   \n",
      "=================================================================\n",
      "embedding (Embedding)        (64, None, 256)           16640     \n",
      "_________________________________________________________________\n",
      "simple_rnn (SimpleRNN)       (64, None, 1024)          1311744   \n",
      "_________________________________________________________________\n",
      "dense (Dense)                (64, None, 65)            66625     \n",
      "=================================================================\n",
      "Total params: 1,395,009\n",
      "Trainable params: 1,395,009\n",
      "Non-trainable params: 0\n",
      "_________________________________________________________________\n"
     ]
    }
   ],
   "source": [
    "vocab_size = len(vocab)\n",
    "embedding_dim = 256\n",
    "rnn_units = 1024\n",
    "\n",
    "def build_model(vocab_size, embedding_dim, rnn_units, batch_size):\n",
    "    model = keras.models.Sequential([\n",
    "        keras.layers.Embedding(vocab_size, embedding_dim, \n",
    "                              batch_input_shape=[batch_size,None]), \n",
    "        keras.layers.SimpleRNN(units=rnn_units, \n",
    "                              return_sequences=True), \n",
    "        keras.layers.Dense(vocab_size)\n",
    "    ])\n",
    "    return model\n",
    "    \n",
    "model = build_model(\n",
    "    vocab_size = vocab_size,\n",
    "    embedding_dim = embedding_dim,\n",
    "    rnn_units = rnn_units,\n",
    "    batch_size= batch_size\n",
    ")\n",
    "\n",
    "model.summary()"
   ]
  },
  {
   "cell_type": "code",
   "execution_count": 13,
   "metadata": {},
   "outputs": [
    {
     "name": "stdout",
     "output_type": "stream",
     "text": [
      "(64, 100, 65)\n"
     ]
    }
   ],
   "source": [
    "for input_example_batch, target_example_batch in seq_dataset.take(1):\n",
    "    example_batch_predictions = model(input_example_batch)\n",
    "    print(example_batch_predictions.shape)"
   ]
  },
  {
   "cell_type": "code",
   "execution_count": 14,
   "metadata": {},
   "outputs": [
    {
     "name": "stdout",
     "output_type": "stream",
     "text": [
      "Input:  \"tes: i' the people's name,\\nI say it shall be so.\\n\\nCitizens:\\nIt shall be so, it shall be so; let him \"\n",
      "\n",
      "Output:  \"es: i' the people's name,\\nI say it shall be so.\\n\\nCitizens:\\nIt shall be so, it shall be so; let him a\"\n",
      "\n",
      "Predictions:  \"n&p&iUq3\\ni.IX.NyKFazYl.eMNqkbwPFcZBJr!kLA:gHQcxwA;tfc;ead Jmz\\nh'YsDTRXxFNbhO$nKgnTQeI-Wx$YiA&,,Id'S.\"\n"
     ]
    }
   ],
   "source": [
    "# random sampling 随机策略\n",
    "# greedy 贪心策略\n",
    "\n",
    "sample_indices = tf.random.categorical(logits=example_batch_predictions[0], \n",
    "                     num_samples=1)\n",
    "# print(sample_indices)\n",
    "sample_indices = tf.squeeze(sample_indices, axis=1)\n",
    "# print(sample_indices.numpy())\n",
    "print(\"Input: \", repr(''.join(idx2char[input_example_batch[0]])) )\n",
    "print('')\n",
    "print(\"Output: \", repr(''.join(idx2char[target_example_batch[0]])) )\n",
    "print('')\n",
    "print(\"Predictions: \", repr(''.join(idx2char[sample_indices])) )"
   ]
  },
  {
   "cell_type": "code",
   "execution_count": 15,
   "metadata": {},
   "outputs": [
    {
     "name": "stdout",
     "output_type": "stream",
     "text": [
      "(64, 100)\n",
      "4.1851006\n"
     ]
    }
   ],
   "source": [
    "def loss(labels, logits):\n",
    "    return keras.losses.sparse_categorical_crossentropy(\n",
    "        labels, logits, from_logits=True)\n",
    " \n",
    "model.compile(optimizer= 'adam', loss=loss)\n",
    "example_loss = loss(target_example_batch, example_batch_predictions)\n",
    "\n",
    "print(example_loss.shape)\n",
    "print(example_loss.numpy().mean())"
   ]
  },
  {
   "cell_type": "code",
   "execution_count": 16,
   "metadata": {},
   "outputs": [
    {
     "name": "stdout",
     "output_type": "stream",
     "text": [
      "Epoch 1/50\n",
      "172/172 [==============================] - 13s 73ms/step - loss: 2.7735\n",
      "Epoch 2/50\n",
      "172/172 [==============================] - 11s 64ms/step - loss: 2.1314\n",
      "Epoch 3/50\n",
      "172/172 [==============================] - 11s 65ms/step - loss: 1.9112\n",
      "Epoch 4/50\n",
      "172/172 [==============================] - 11s 65ms/step - loss: 1.7619\n",
      "Epoch 5/50\n",
      "172/172 [==============================] - 11s 66ms/step - loss: 1.6593\n",
      "Epoch 6/50\n",
      "172/172 [==============================] - 11s 65ms/step - loss: 1.5850\n",
      "Epoch 7/50\n",
      "172/172 [==============================] - 11s 65ms/step - loss: 1.5314\n",
      "Epoch 8/50\n",
      "172/172 [==============================] - 11s 64ms/step - loss: 1.4899\n",
      "Epoch 9/50\n",
      "172/172 [==============================] - 11s 66ms/step - loss: 1.4563\n",
      "Epoch 10/50\n",
      "172/172 [==============================] - 11s 65ms/step - loss: 1.4275\n",
      "Epoch 11/50\n",
      "172/172 [==============================] - 11s 64ms/step - loss: 1.4054\n",
      "Epoch 12/50\n",
      "172/172 [==============================] - 11s 65ms/step - loss: 1.3839\n",
      "Epoch 13/50\n",
      "172/172 [==============================] - 11s 64ms/step - loss: 1.3663\n",
      "Epoch 14/50\n",
      "172/172 [==============================] - 11s 64ms/step - loss: 1.3511\n",
      "Epoch 15/50\n",
      "172/172 [==============================] - 11s 65ms/step - loss: 1.3338\n",
      "Epoch 16/50\n",
      "172/172 [==============================] - 11s 65ms/step - loss: 1.3203\n",
      "Epoch 17/50\n",
      "172/172 [==============================] - 11s 64ms/step - loss: 1.3078\n",
      "Epoch 18/50\n",
      "172/172 [==============================] - 11s 65ms/step - loss: 1.2964\n",
      "Epoch 19/50\n",
      "172/172 [==============================] - 11s 64ms/step - loss: 1.2831\n",
      "Epoch 20/50\n",
      "172/172 [==============================] - 11s 65ms/step - loss: 1.2701\n",
      "Epoch 21/50\n",
      "172/172 [==============================] - 11s 65ms/step - loss: 1.2588\n",
      "Epoch 22/50\n",
      "172/172 [==============================] - 11s 65ms/step - loss: 1.2502\n",
      "Epoch 23/50\n",
      "172/172 [==============================] - 11s 65ms/step - loss: 1.2401\n",
      "Epoch 24/50\n",
      "172/172 [==============================] - 11s 64ms/step - loss: 1.2292\n",
      "Epoch 25/50\n",
      "172/172 [==============================] - 11s 65ms/step - loss: 1.2184\n",
      "Epoch 26/50\n",
      "172/172 [==============================] - 11s 65ms/step - loss: 1.2092\n",
      "Epoch 27/50\n",
      "172/172 [==============================] - 11s 65ms/step - loss: 1.1996\n",
      "Epoch 28/50\n",
      "172/172 [==============================] - 11s 65ms/step - loss: 1.1899\n",
      "Epoch 29/50\n",
      "172/172 [==============================] - 11s 64ms/step - loss: 1.1796\n",
      "Epoch 30/50\n",
      "172/172 [==============================] - 11s 65ms/step - loss: 1.1707\n",
      "Epoch 31/50\n",
      "172/172 [==============================] - 11s 65ms/step - loss: 1.1605\n",
      "Epoch 32/50\n",
      "172/172 [==============================] - 11s 65ms/step - loss: 1.1531\n",
      "Epoch 33/50\n",
      "172/172 [==============================] - 11s 63ms/step - loss: 1.1424\n",
      "Epoch 34/50\n",
      "172/172 [==============================] - 11s 64ms/step - loss: 1.1356\n",
      "Epoch 35/50\n",
      "172/172 [==============================] - 11s 65ms/step - loss: 1.1247\n",
      "Epoch 36/50\n",
      "172/172 [==============================] - 11s 64ms/step - loss: 1.1187\n",
      "Epoch 37/50\n",
      "172/172 [==============================] - 11s 65ms/step - loss: 1.1086\n",
      "Epoch 38/50\n",
      "172/172 [==============================] - 11s 65ms/step - loss: 1.1025\n",
      "Epoch 39/50\n",
      "172/172 [==============================] - 11s 65ms/step - loss: 1.0937\n",
      "Epoch 40/50\n",
      "172/172 [==============================] - 11s 65ms/step - loss: 1.0832\n",
      "Epoch 41/50\n",
      "172/172 [==============================] - 11s 66ms/step - loss: 1.0773\n",
      "Epoch 42/50\n",
      "172/172 [==============================] - 11s 65ms/step - loss: 1.0688\n",
      "Epoch 43/50\n",
      "172/172 [==============================] - 11s 65ms/step - loss: 1.0627\n",
      "Epoch 44/50\n",
      "172/172 [==============================] - 11s 66ms/step - loss: 1.0553\n",
      "Epoch 45/50\n",
      "172/172 [==============================] - 11s 65ms/step - loss: 1.0497\n",
      "Epoch 46/50\n",
      "172/172 [==============================] - 11s 65ms/step - loss: 1.0437\n",
      "Epoch 47/50\n",
      "172/172 [==============================] - 11s 65ms/step - loss: 1.0358\n",
      "Epoch 48/50\n",
      "172/172 [==============================] - 11s 65ms/step - loss: 1.0311\n",
      "Epoch 49/50\n",
      "172/172 [==============================] - 11s 65ms/step - loss: 1.0241\n",
      "Epoch 50/50\n",
      "172/172 [==============================] - 11s 65ms/step - loss: 1.0201\n"
     ]
    }
   ],
   "source": [
    "output_dir = './data/text_generation'\n",
    "if not os.path.exists(output_dir):\n",
    "    os.mkdir(output_dir)\n",
    "checkpoint_prefix = os.path.join(output_dir, 'ckpt_{epoch}')\n",
    "\n",
    "checkpoint_callback = keras.callbacks.ModelCheckpoint(\n",
    "    filepath = checkpoint_prefix,\n",
    "    save_weights_only = True)\n",
    "\n",
    "epochs = 50\n",
    "history = model.fit(seq_dataset, epochs = epochs,\n",
    "                    callbacks = [checkpoint_callback])"
   ]
  },
  {
   "cell_type": "code",
   "execution_count": 17,
   "metadata": {},
   "outputs": [
    {
     "data": {
      "text/plain": [
       "'./data/text_generation/ckpt_50'"
      ]
     },
     "execution_count": 17,
     "metadata": {},
     "output_type": "execute_result"
    }
   ],
   "source": [
    "tf.train.latest_checkpoint(output_dir)"
   ]
  },
  {
   "cell_type": "code",
   "execution_count": 19,
   "metadata": {},
   "outputs": [
    {
     "name": "stdout",
     "output_type": "stream",
     "text": [
      "All: ad. the.\n",
      "NGE:\n",
      "Tir schitea t heng thid w u amanobe t, nonommar the h thathormealake, NThowallyind lis fite onteal thirord\n",
      "\n",
      "So h w t lfone ceer d, ortho ncak, blor-m s ary y IOfed 'd, harome, o othed, thino Mowomm rrthetheer. wnits amiorisshecoo otoulas m:\n",
      "A Camet, ot site sceafomoso whesis anoon tonakitee, s titertif t\n",
      "Anghomees ughisive meathon ain talle sat t, tisu, d l\n",
      "I a vese u tcave\n",
      "\n",
      "\n",
      "mieno t wans; f ppoom nchorsp berajul pe are nould t g aies se m f fr?\n",
      "LAne yo fud s.\n",
      "Whef oushalig s iese l nd CERICin uthan N:\n",
      "CLAMe sitor,\n",
      "INomy Whaice, th Qurrneeeve vithes p'thm the surs me\n",
      "\n",
      "sh t, ong IEOf she t foforsim rrsagld tidy I ng, IOfandore t uk:\n",
      "\n",
      "S:\n",
      "Le thy IRO:\n",
      "\n",
      "Hmit, thigherremofrelatheno an\n",
      "WA:\n",
      "PUD helath thanoprer-vinareedithy tschis\n",
      "N:\n",
      "\n",
      "So, th! fon thero he a oos ur?\n",
      "fts, IE INI\n",
      "T:\n",
      "\n",
      "Couloucity maio IZo postur, thou IZAn,\n",
      "\n",
      "\n",
      "APinofors n d mathomimay turwe; alacis! thres thed t that the, d toupif d. hingh t nor-t\n",
      "\n",
      "Ourealumy CK:\n",
      "IIUS: ly ngug RAnod towan d sistowif, the,\n",
      "\n",
      "s bllovan, he\n"
     ]
    }
   ],
   "source": [
    "model2 = build_model(vocab_size, embedding_dim, \n",
    "                    rnn_units, \n",
    "                    batch_size=1)\n",
    "\n",
    "model2.load_weights(tf.train.latest_checkpoint(output_dir))\n",
    "model2.build(tf.TensorShape([1, None]))\n",
    "\n",
    "# start ch sequence A, \n",
    "# A -> model -> b\n",
    "# A.append(b) -> B\n",
    "# B -> model -> c\n",
    "# B.append(c) -> C\n",
    "# C -> model -> d\n",
    "\n",
    "def generate_text(model, start_string, num_generate=1000):\n",
    "    input_eval = [char2idx[ch] for ch in start_string]\n",
    "    input_eval = tf.expand_dims(input_eval, 0)\n",
    "    \n",
    "    text_generated = []\n",
    "    model.reset_states()\n",
    "    \n",
    "    for _ in range(num_generate):\n",
    "        #1. model inference -> predictions\n",
    "        #2. sample -> ch -> text_generated.\n",
    "        #3. update input_eval\n",
    "        predictions = model(input_eval)\n",
    "        \n",
    "        predictions = tf.squeeze(predictions, 0)\n",
    "        predicted_id = tf.random.categorical(\n",
    "        predictions, num_samples= 1)[-1, 0].numpy()\n",
    "        \n",
    "        text_generated.append(idx2char[predicted_id])\n",
    "        input_eval = tf.expand_dims([predicted_id], 0)\n",
    "        \n",
    "    return start_string + ''.join(text_generated)\n",
    "        \n",
    "new_text = generate_text(model2, \"All: \")\n",
    "print(new_text)"
   ]
  },
  {
   "cell_type": "code",
   "execution_count": null,
   "metadata": {},
   "outputs": [],
   "source": []
  }
 ],
 "metadata": {
  "kernelspec": {
   "display_name": "Python [conda env:tensorflow_p36]",
   "language": "python",
   "name": "conda-env-tensorflow_p36-py"
  },
  "language_info": {
   "codemirror_mode": {
    "name": "ipython",
    "version": 3
   },
   "file_extension": ".py",
   "mimetype": "text/x-python",
   "name": "python",
   "nbconvert_exporter": "python",
   "pygments_lexer": "ipython3",
   "version": "3.6.5"
  }
 },
 "nbformat": 4,
 "nbformat_minor": 2
}
