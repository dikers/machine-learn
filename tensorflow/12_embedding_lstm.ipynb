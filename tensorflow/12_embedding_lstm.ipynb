{
 "cells": [
  {
   "cell_type": "code",
   "execution_count": 1,
   "metadata": {},
   "outputs": [
    {
     "name": "stdout",
     "output_type": "stream",
     "text": [
      "2.0.0\n",
      "sys.version_info(major=3, minor=6, micro=5, releaselevel='final', serial=0)\n",
      "matplotlib 3.0.3\n",
      "numpy 1.16.4\n",
      "pandas 0.24.2\n",
      "sklearn 0.21.2\n",
      "tensorflow 2.0.0\n",
      "tensorflow_core.keras 2.2.4-tf\n"
     ]
    }
   ],
   "source": [
    "import matplotlib as mpl\n",
    "import matplotlib.pyplot as plt\n",
    "%matplotlib inline\n",
    "import numpy as np\n",
    "import sklearn\n",
    "import pandas as pd\n",
    "import os\n",
    "import sys\n",
    "import time\n",
    "import tensorflow as tf\n",
    "\n",
    "from tensorflow import keras\n",
    "\n",
    "print(tf.__version__)\n",
    "print(sys.version_info)\n",
    "for module in mpl, np, pd, sklearn, tf, keras:\n",
    "    print(module.__name__, module.__version__)\n"
   ]
  },
  {
   "cell_type": "code",
   "execution_count": 2,
   "metadata": {},
   "outputs": [],
   "source": [
    "imdb = keras.datasets.imdb\n",
    "vocab_size = 10000\n",
    "index_from = 3\n",
    "(train_data, train_labels), (test_data, test_labels) = imdb.load_data(\n",
    "    num_words = vocab_size, index_from = index_from)"
   ]
  },
  {
   "cell_type": "code",
   "execution_count": null,
   "metadata": {},
   "outputs": [],
   "source": [
    "word_index = imdb.get_word_index()\n",
    "# print(len(word_index))\n",
    "# print(word_index)"
   ]
  },
  {
   "cell_type": "code",
   "execution_count": 4,
   "metadata": {},
   "outputs": [],
   "source": [
    "word_index = {k:(v+3) for k, v in word_index.items()}"
   ]
  },
  {
   "cell_type": "code",
   "execution_count": 5,
   "metadata": {},
   "outputs": [],
   "source": [
    "word_index['<PAD>'] = 0\n",
    "word_index['<START>'] = 1\n",
    "word_index['<UNK>'] = 2\n",
    "word_index['<END>'] = 3\n",
    "\n",
    "reverse_word_index = dict(\n",
    "    [(value, key) for key, value in word_index.items()])\n",
    "\n",
    "def decode_review(text_ids):\n",
    "    return ' '.join(\n",
    "        [reverse_word_index.get(word_id, \"<UNK>\") for word_id in text_ids])\n",
    "\n",
    "# decode_review(train_data[0])"
   ]
  },
  {
   "cell_type": "code",
   "execution_count": 6,
   "metadata": {},
   "outputs": [
    {
     "name": "stdout",
     "output_type": "stream",
     "text": [
      "[   1   14   22   16   43  530  973 1622 1385   65  458 4468   66 3941\n",
      "    4  173   36  256    5   25  100   43  838  112   50  670    2    9\n",
      "   35  480  284    5  150    4  172  112  167    2  336  385   39    4\n",
      "  172 4536 1111   17  546   38   13  447    4  192   50   16    6  147\n",
      " 2025   19   14   22    4 1920 4613  469    4   22   71   87   12   16\n",
      "   43  530   38   76   15   13 1247    4   22   17  515   17   12   16\n",
      "  626   18    2    5   62  386   12    8  316    8  106    5    4 2223\n",
      " 5244   16  480   66 3785   33    4  130   12   16   38  619    5   25\n",
      "  124   51   36  135   48   25 1415   33    6   22   12  215   28   77\n",
      "   52    5   14  407   16   82    2    8    4  107  117 5952   15  256\n",
      "    4    2    7 3766    5  723   36   71   43  530  476   26  400  317\n",
      "   46    7    4    2 1029   13  104   88    4  381   15  297   98   32\n",
      " 2071   56   26  141    6  194 7486   18    4  226   22   21  134  476\n",
      "   26  480    5  144   30 5535   18   51   36   28  224   92   25  104\n",
      "    4  226   65   16   38 1334   88   12   16  283    5   16 4472  113\n",
      "  103   32   15   16 5345   19  178   32    0    0    0    0    0    0\n",
      "    0    0    0    0    0    0    0    0    0    0    0    0    0    0\n",
      "    0    0    0    0    0    0    0    0    0    0    0    0    0    0\n",
      "    0    0    0    0    0    0    0    0    0    0    0    0    0    0\n",
      "    0    0    0    0    0    0    0    0    0    0    0    0    0    0\n",
      "    0    0    0    0    0    0    0    0    0    0    0    0    0    0\n",
      "    0    0    0    0    0    0    0    0    0    0    0    0    0    0\n",
      "    0    0    0    0    0    0    0    0    0    0    0    0    0    0\n",
      "    0    0    0    0    0    0    0    0    0    0    0    0    0    0\n",
      "    0    0    0    0    0    0    0    0    0    0    0    0    0    0\n",
      "    0    0    0    0    0    0    0    0    0    0    0    0    0    0\n",
      "    0    0    0    0    0    0    0    0    0    0    0    0    0    0\n",
      "    0    0    0    0    0    0    0    0    0    0    0    0    0    0\n",
      "    0    0    0    0    0    0    0    0    0    0    0    0    0    0\n",
      "    0    0    0    0    0    0    0    0    0    0    0    0    0    0\n",
      "    0    0    0    0    0    0    0    0    0    0    0    0    0    0\n",
      "    0    0    0    0    0    0    0    0    0    0    0    0    0    0\n",
      "    0    0    0    0    0    0    0    0    0    0    0    0    0    0\n",
      "    0    0    0    0    0    0    0    0    0    0    0    0    0    0\n",
      "    0    0    0    0    0    0    0    0    0    0    0    0    0    0\n",
      "    0    0    0    0    0    0    0    0    0    0]\n"
     ]
    }
   ],
   "source": [
    "max_length = 500\n",
    "\n",
    "train_data = keras.preprocessing.sequence.pad_sequences(\n",
    "    train_data, # list of list\n",
    "    value = word_index['<PAD>'],\n",
    "    padding = 'post', # post, pre\n",
    "    maxlen = max_length)\n",
    "\n",
    "test_data = keras.preprocessing.sequence.pad_sequences(\n",
    "    test_data, # list of list\n",
    "    value = word_index['<PAD>'],\n",
    "    padding = 'post', # post, pre\n",
    "    maxlen = max_length)\n",
    "\n",
    "print(train_data[0])"
   ]
  },
  {
   "cell_type": "code",
   "execution_count": 7,
   "metadata": {},
   "outputs": [
    {
     "name": "stdout",
     "output_type": "stream",
     "text": [
      "Model: \"sequential\"\n",
      "_________________________________________________________________\n",
      "Layer (type)                 Output Shape              Param #   \n",
      "=================================================================\n",
      "embedding (Embedding)        (None, 500, 16)           160000    \n",
      "_________________________________________________________________\n",
      "lstm (LSTM)                  (None, 64)                20736     \n",
      "_________________________________________________________________\n",
      "dense (Dense)                (None, 64)                4160      \n",
      "_________________________________________________________________\n",
      "dense_1 (Dense)              (None, 1)                 65        \n",
      "=================================================================\n",
      "Total params: 184,961\n",
      "Trainable params: 184,961\n",
      "Non-trainable params: 0\n",
      "_________________________________________________________________\n"
     ]
    }
   ],
   "source": [
    "embedding_dim = 16\n",
    "batch_size = 512\n",
    "\n",
    "single_rnn_model = keras.models.Sequential([\n",
    "    # 1. define matrix: [vocab_size, embedding_dim]\n",
    "    # 2. [1,2,3,4..], max_length * embedding_dim\n",
    "    # 3. batch_size * max_length * embedding_dim\n",
    "    keras.layers.Embedding(vocab_size, embedding_dim,\n",
    "                           input_length = max_length),\n",
    "    keras.layers.LSTM(units = 64, return_sequences = False),\n",
    "    keras.layers.Dense(64, activation = 'relu'),\n",
    "    keras.layers.Dense(1, activation='sigmoid'),\n",
    "])\n",
    "\n",
    "single_rnn_model.summary()\n",
    "single_rnn_model.compile(optimizer = 'adam',\n",
    "                         loss = 'binary_crossentropy',\n",
    "                         metrics = ['accuracy'])\n"
   ]
  },
  {
   "cell_type": "code",
   "execution_count": 8,
   "metadata": {},
   "outputs": [
    {
     "name": "stdout",
     "output_type": "stream",
     "text": [
      "Train on 20000 samples, validate on 5000 samples\n",
      "Epoch 1/30\n",
      "20000/20000 [==============================] - 8s 403us/sample - loss: 0.6931 - accuracy: 0.5074 - val_loss: 0.6930 - val_accuracy: 0.5050\n",
      "Epoch 2/30\n",
      "20000/20000 [==============================] - 2s 80us/sample - loss: 0.6926 - accuracy: 0.5034 - val_loss: 0.6926 - val_accuracy: 0.5036\n",
      "Epoch 3/30\n",
      "20000/20000 [==============================] - 2s 80us/sample - loss: 0.6915 - accuracy: 0.5149 - val_loss: 0.6914 - val_accuracy: 0.5188\n",
      "Epoch 4/30\n",
      "20000/20000 [==============================] - 2s 82us/sample - loss: 0.6876 - accuracy: 0.5290 - val_loss: 0.6899 - val_accuracy: 0.5124\n",
      "Epoch 5/30\n",
      "20000/20000 [==============================] - 2s 81us/sample - loss: 0.6793 - accuracy: 0.5213 - val_loss: 0.6875 - val_accuracy: 0.5204\n",
      "Epoch 6/30\n",
      "20000/20000 [==============================] - 2s 80us/sample - loss: 0.6715 - accuracy: 0.5374 - val_loss: 0.6883 - val_accuracy: 0.5188\n",
      "Epoch 7/30\n",
      "20000/20000 [==============================] - 2s 81us/sample - loss: 0.6606 - accuracy: 0.5393 - val_loss: 0.6908 - val_accuracy: 0.5124\n",
      "Epoch 8/30\n",
      "20000/20000 [==============================] - 2s 80us/sample - loss: 0.6457 - accuracy: 0.5397 - val_loss: 0.7173 - val_accuracy: 0.5220\n",
      "Epoch 9/30\n",
      "20000/20000 [==============================] - 2s 81us/sample - loss: 0.6378 - accuracy: 0.5483 - val_loss: 0.7157 - val_accuracy: 0.5180\n",
      "Epoch 10/30\n",
      "20000/20000 [==============================] - 2s 81us/sample - loss: 0.6354 - accuracy: 0.5462 - val_loss: 0.7310 - val_accuracy: 0.5688\n",
      "Epoch 11/30\n",
      "20000/20000 [==============================] - 2s 84us/sample - loss: 0.6550 - accuracy: 0.5423 - val_loss: 0.6942 - val_accuracy: 0.5106\n",
      "Epoch 12/30\n",
      "20000/20000 [==============================] - 2s 80us/sample - loss: 0.6424 - accuracy: 0.5455 - val_loss: 0.7092 - val_accuracy: 0.5242\n",
      "Epoch 13/30\n",
      "20000/20000 [==============================] - 2s 81us/sample - loss: 0.6337 - accuracy: 0.5538 - val_loss: 0.7084 - val_accuracy: 0.5266\n",
      "Epoch 14/30\n",
      "20000/20000 [==============================] - 2s 80us/sample - loss: 0.6491 - accuracy: 0.5386 - val_loss: 0.7056 - val_accuracy: 0.5128\n",
      "Epoch 15/30\n",
      "20000/20000 [==============================] - 2s 80us/sample - loss: 0.6416 - accuracy: 0.5434 - val_loss: 0.7137 - val_accuracy: 0.5216\n",
      "Epoch 16/30\n",
      "20000/20000 [==============================] - 2s 81us/sample - loss: 0.6372 - accuracy: 0.5453 - val_loss: 0.7247 - val_accuracy: 0.5208\n",
      "Epoch 17/30\n",
      "20000/20000 [==============================] - 2s 81us/sample - loss: 0.6345 - accuracy: 0.5480 - val_loss: 0.7324 - val_accuracy: 0.5144\n",
      "Epoch 18/30\n",
      "20000/20000 [==============================] - 2s 81us/sample - loss: 0.6328 - accuracy: 0.5451 - val_loss: 0.7453 - val_accuracy: 0.5236\n",
      "Epoch 19/30\n",
      "20000/20000 [==============================] - 2s 81us/sample - loss: 0.6314 - accuracy: 0.5461 - val_loss: 0.7524 - val_accuracy: 0.5190\n",
      "Epoch 20/30\n",
      "20000/20000 [==============================] - 2s 81us/sample - loss: 0.6316 - accuracy: 0.5493 - val_loss: 0.7726 - val_accuracy: 0.5244\n",
      "Epoch 21/30\n",
      "20000/20000 [==============================] - 2s 81us/sample - loss: 0.6269 - accuracy: 0.5560 - val_loss: 0.7798 - val_accuracy: 0.5290\n",
      "Epoch 22/30\n",
      "20000/20000 [==============================] - 2s 81us/sample - loss: 0.6352 - accuracy: 0.5454 - val_loss: 0.7665 - val_accuracy: 0.5224\n",
      "Epoch 23/30\n",
      "20000/20000 [==============================] - 2s 81us/sample - loss: 0.6290 - accuracy: 0.5527 - val_loss: 0.8070 - val_accuracy: 0.5252\n",
      "Epoch 24/30\n",
      "20000/20000 [==============================] - 2s 81us/sample - loss: 0.6439 - accuracy: 0.5557 - val_loss: 0.7381 - val_accuracy: 0.5186\n",
      "Epoch 25/30\n",
      "20000/20000 [==============================] - 2s 82us/sample - loss: 0.6515 - accuracy: 0.5401 - val_loss: 0.7340 - val_accuracy: 0.5170\n",
      "Epoch 26/30\n",
      "20000/20000 [==============================] - 2s 81us/sample - loss: 0.6425 - accuracy: 0.5371 - val_loss: 0.7383 - val_accuracy: 0.5176\n",
      "Epoch 27/30\n",
      "20000/20000 [==============================] - 2s 81us/sample - loss: 0.6373 - accuracy: 0.5438 - val_loss: 0.7505 - val_accuracy: 0.5162\n",
      "Epoch 28/30\n",
      "20000/20000 [==============================] - 2s 81us/sample - loss: 0.6351 - accuracy: 0.5483 - val_loss: 0.7616 - val_accuracy: 0.5166\n",
      "Epoch 29/30\n",
      "20000/20000 [==============================] - 2s 82us/sample - loss: 0.6338 - accuracy: 0.5487 - val_loss: 0.7658 - val_accuracy: 0.5174\n",
      "Epoch 30/30\n",
      "20000/20000 [==============================] - 2s 81us/sample - loss: 0.6328 - accuracy: 0.5491 - val_loss: 0.7759 - val_accuracy: 0.5176\n"
     ]
    }
   ],
   "source": [
    "history_single_rnn = single_rnn_model.fit(\n",
    "    train_data, train_labels,\n",
    "    epochs = 30,\n",
    "    batch_size = batch_size,\n",
    "    validation_split = 0.2)\n"
   ]
  },
  {
   "cell_type": "code",
   "execution_count": null,
   "metadata": {},
   "outputs": [],
   "source": [
    "def plot_learning_curves(history, label, epochs, min_value, max_value):\n",
    "    data = {}\n",
    "    data[label] = history.history[label]\n",
    "    data['val_'+label] = history.history['val_'+label]\n",
    "    pd.DataFrame(data).plot(figsize=(8, 5))\n",
    "    plt.grid(True)\n",
    "    plt.axis([0, epochs, min_value, max_value])\n",
    "    plt.show()\n",
    "    \n",
    "plot_learning_curves(history_single_rnn, 'accuracy', 30, 0, 1)\n",
    "plot_learning_curves(history_single_rnn, 'loss', 30, 0, 1)"
   ]
  },
  {
   "cell_type": "code",
   "execution_count": null,
   "metadata": {},
   "outputs": [],
   "source": [
    "single_rnn_model.evaluate(\n",
    "    test_data, test_labels,\n",
    "    batch_size = batch_size,\n",
    "    verbose = 0)"
   ]
  },
  {
   "cell_type": "code",
   "execution_count": null,
   "metadata": {},
   "outputs": [],
   "source": [
    "embedding_dim = 16\n",
    "batch_size = 512\n",
    "\n",
    "model = keras.models.Sequential([\n",
    "    # 1. define matrix: [vocab_size, embedding_dim]\n",
    "    # 2. [1,2,3,4..], max_length * embedding_dim\n",
    "    # 3. batch_size * max_length * embedding_dim\n",
    "    keras.layers.Embedding(vocab_size, embedding_dim,\n",
    "                           input_length = max_length),\n",
    "    keras.layers.Bidirectional(\n",
    "        keras.layers.LSTM(\n",
    "            units = 64, return_sequences = True)),\n",
    "    keras.layers.Bidirectional(\n",
    "        keras.layers.LSTM(\n",
    "            units = 64, return_sequences = False)),\n",
    "    keras.layers.Dense(64, activation = 'relu'),\n",
    "    keras.layers.Dense(1, activation='sigmoid'),\n",
    "])\n",
    "\n",
    "model.summary()\n",
    "model.compile(optimizer = 'adam',\n",
    "              loss = 'binary_crossentropy',\n",
    "              metrics = ['accuracy'])"
   ]
  },
  {
   "cell_type": "code",
   "execution_count": null,
   "metadata": {},
   "outputs": [],
   "source": [
    "history = model.fit(\n",
    "    train_data, train_labels,\n",
    "    epochs = 30,\n",
    "    batch_size = batch_size,\n",
    "    validation_split = 0.2)\n"
   ]
  },
  {
   "cell_type": "code",
   "execution_count": null,
   "metadata": {},
   "outputs": [],
   "source": [
    "plot_learning_curves(history, 'accuracy', 30, 0, 1)\n",
    "plot_learning_curves(history, 'loss', 30, 0, 1)"
   ]
  },
  {
   "cell_type": "code",
   "execution_count": null,
   "metadata": {},
   "outputs": [],
   "source": [
    "embedding_dim = 16\n",
    "batch_size = 512\n",
    "\n",
    "bi_rnn_model = keras.models.Sequential([\n",
    "    # 1. define matrix: [vocab_size, embedding_dim]\n",
    "    # 2. [1,2,3,4..], max_length * embedding_dim\n",
    "    # 3. batch_size * max_length * embedding_dim\n",
    "    keras.layers.Embedding(vocab_size, embedding_dim,\n",
    "                           input_length = max_length),\n",
    "    keras.layers.Bidirectional(\n",
    "        keras.layers.LSTM(\n",
    "            units = 32, return_sequences = False)),\n",
    "    keras.layers.Dense(32, activation = 'relu'),\n",
    "    keras.layers.Dense(1, activation='sigmoid'),\n",
    "])\n",
    "\n",
    "bi_rnn_model.summary()\n",
    "bi_rnn_model.compile(optimizer = 'adam',\n",
    "                     loss = 'binary_crossentropy',\n",
    "                     metrics = ['accuracy'])"
   ]
  },
  {
   "cell_type": "code",
   "execution_count": null,
   "metadata": {},
   "outputs": [],
   "source": [
    "history = bi_rnn_model.fit(\n",
    "    train_data, train_labels,\n",
    "    epochs = 30,\n",
    "    batch_size = batch_size,\n",
    "    validation_split = 0.2)"
   ]
  },
  {
   "cell_type": "code",
   "execution_count": null,
   "metadata": {},
   "outputs": [],
   "source": [
    "plot_learning_curves(history, 'accuracy', 30, 0, 1)\n",
    "plot_learning_curves(history, 'loss', 30, 0, 1)"
   ]
  },
  {
   "cell_type": "code",
   "execution_count": null,
   "metadata": {},
   "outputs": [],
   "source": [
    "bi_rnn_model.evaluate(test_data, test_labels, batch_size = batch_size, verbose = 0)"
   ]
  },
  {
   "cell_type": "code",
   "execution_count": null,
   "metadata": {},
   "outputs": [],
   "source": []
  }
 ],
 "metadata": {
  "kernelspec": {
   "display_name": "Python [conda env:tensorflow_p36]",
   "language": "python",
   "name": "conda-env-tensorflow_p36-py"
  },
  "language_info": {
   "codemirror_mode": {
    "name": "ipython",
    "version": 3
   },
   "file_extension": ".py",
   "mimetype": "text/x-python",
   "name": "python",
   "nbconvert_exporter": "python",
   "pygments_lexer": "ipython3",
   "version": "3.6.5"
  }
 },
 "nbformat": 4,
 "nbformat_minor": 2
}
