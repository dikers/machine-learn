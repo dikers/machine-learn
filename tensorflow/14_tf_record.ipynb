{
 "cells": [
  {
   "cell_type": "markdown",
   "metadata": {},
   "source": [
    "# Tfrecord"
   ]
  },
  {
   "cell_type": "code",
   "execution_count": 1,
   "metadata": {},
   "outputs": [
    {
     "name": "stdout",
     "output_type": "stream",
     "text": [
      "tf    version: 2.0.0\n",
      "keras version: 2.2.4-tf\n",
      "matplotlib 3.0.3\n",
      "numpy 1.16.4\n",
      "pandas 0.24.2\n",
      "sklearn 0.21.2\n",
      "tensorflow 2.0.0\n",
      "tensorflow_core.keras 2.2.4-tf\n"
     ]
    }
   ],
   "source": [
    "import matplotlib as mpl\n",
    "import matplotlib.pyplot as plt\n",
    "%matplotlib inline\n",
    "import numpy as np\n",
    "import sklearn\n",
    "import pandas as pd\n",
    "import os\n",
    "import sys\n",
    "import time\n",
    "import tensorflow as tf\n",
    "from tensorflow import keras\n",
    "print('tf    version: {}'.format(tf.__version__) )\n",
    "print('keras version: {}'.format(keras.__version__) )\n",
    "for module in mpl, np, pd, sklearn, tf, keras:\n",
    "    print(module.__name__, module.__version__)"
   ]
  },
  {
   "cell_type": "code",
   "execution_count": 2,
   "metadata": {},
   "outputs": [],
   "source": [
    "favorite_books = [name.encode('utf-8')  for name in  [\"machine learning\", \"cc150\"]]"
   ]
  },
  {
   "cell_type": "code",
   "execution_count": 3,
   "metadata": {},
   "outputs": [],
   "source": [
    "favorite_books_bytelist = tf.train.BytesList(value = favorite_books)"
   ]
  },
  {
   "cell_type": "code",
   "execution_count": 4,
   "metadata": {},
   "outputs": [
    {
     "name": "stdout",
     "output_type": "stream",
     "text": [
      "value: \"machine learning\"\n",
      "value: \"cc150\"\n",
      "\n"
     ]
    }
   ],
   "source": [
    "print(favorite_books_bytelist)"
   ]
  },
  {
   "cell_type": "code",
   "execution_count": 5,
   "metadata": {},
   "outputs": [
    {
     "name": "stdout",
     "output_type": "stream",
     "text": [
      "value: 15.5\n",
      "value: 9.0\n",
      "value: 7.0\n",
      "value: 8.0\n",
      "\n",
      "value: 42\n",
      "\n",
      "feature {\n",
      "  key: \"age\"\n",
      "  value {\n",
      "    int64_list {\n",
      "      value: 42\n",
      "    }\n",
      "  }\n",
      "}\n",
      "feature {\n",
      "  key: \"favorite_books\"\n",
      "  value {\n",
      "    bytes_list {\n",
      "      value: \"machine learning\"\n",
      "      value: \"cc150\"\n",
      "    }\n",
      "  }\n",
      "}\n",
      "feature {\n",
      "  key: \"hours\"\n",
      "  value {\n",
      "    float_list {\n",
      "      value: 15.5\n",
      "      value: 9.0\n",
      "      value: 7.0\n",
      "      value: 8.0\n",
      "    }\n",
      "  }\n",
      "}\n",
      "\n"
     ]
    }
   ],
   "source": [
    "hours_floatlist = tf.train.FloatList(value = [15.5, 9, 7.0,  8.0])\n",
    "age_int64list = tf.train.Int64List(value = [42])\n",
    "print(hours_floatlist)\n",
    "print(age_int64list)\n",
    "\n",
    "features = tf.train.Features(\n",
    "    feature = {\n",
    "        \"favorite_books\": tf.train.Feature(bytes_list = favorite_books_bytelist),\n",
    "        \"hours\": tf.train.Feature(float_list = hours_floatlist), \n",
    "        \"age\": tf.train.Feature(int64_list = age_int64list)\n",
    "        \n",
    "        \n",
    "    }\n",
    ")\n",
    "\n",
    "print(features)"
   ]
  },
  {
   "cell_type": "code",
   "execution_count": 6,
   "metadata": {},
   "outputs": [
    {
     "name": "stdout",
     "output_type": "stream",
     "text": [
      "features {\n",
      "  feature {\n",
      "    key: \"age\"\n",
      "    value {\n",
      "      int64_list {\n",
      "        value: 42\n",
      "      }\n",
      "    }\n",
      "  }\n",
      "  feature {\n",
      "    key: \"favorite_books\"\n",
      "    value {\n",
      "      bytes_list {\n",
      "        value: \"machine learning\"\n",
      "        value: \"cc150\"\n",
      "      }\n",
      "    }\n",
      "  }\n",
      "  feature {\n",
      "    key: \"hours\"\n",
      "    value {\n",
      "      float_list {\n",
      "        value: 15.5\n",
      "        value: 9.0\n",
      "        value: 7.0\n",
      "        value: 8.0\n",
      "      }\n",
      "    }\n",
      "  }\n",
      "}\n",
      "\n",
      "b'\\n\\\\\\n\\x1d\\n\\x05hours\\x12\\x14\\x12\\x12\\n\\x10\\x00\\x00xA\\x00\\x00\\x10A\\x00\\x00\\xe0@\\x00\\x00\\x00A\\n-\\n\\x0efavorite_books\\x12\\x1b\\n\\x19\\n\\x10machine learning\\n\\x05cc150\\n\\x0c\\n\\x03age\\x12\\x05\\x1a\\x03\\n\\x01*'\n"
     ]
    }
   ],
   "source": [
    "example = tf.train.Example(features= features)\n",
    "print(example)\n",
    "serialized_example = example.SerializeToString()\n",
    "print(serialized_example)"
   ]
  },
  {
   "cell_type": "code",
   "execution_count": 7,
   "metadata": {},
   "outputs": [],
   "source": [
    "output_dir = './output/tfrecord'\n",
    "if not os.path.exists(output_dir):\n",
    "    os.mkdir(output_dir)\n",
    "    \n",
    "filename = \"test.tfrecords\"\n",
    "filename_fullpath = os.path.join(output_dir, filename)\n",
    "\n",
    "with tf.io.TFRecordWriter(filename_fullpath) as writer:\n",
    "    for i in range(3):\n",
    "        writer.write(serialized_example)"
   ]
  },
  {
   "cell_type": "code",
   "execution_count": 8,
   "metadata": {},
   "outputs": [
    {
     "name": "stdout",
     "output_type": "stream",
     "text": [
      "b'\\n\\\\\\n\\x1d\\n\\x05hours\\x12\\x14\\x12\\x12\\n\\x10\\x00\\x00xA\\x00\\x00\\x10A\\x00\\x00\\xe0@\\x00\\x00\\x00A\\n-\\n\\x0efavorite_books\\x12\\x1b\\n\\x19\\n\\x10machine learning\\n\\x05cc150\\n\\x0c\\n\\x03age\\x12\\x05\\x1a\\x03\\n\\x01*'\n",
      "b'\\n\\\\\\n\\x1d\\n\\x05hours\\x12\\x14\\x12\\x12\\n\\x10\\x00\\x00xA\\x00\\x00\\x10A\\x00\\x00\\xe0@\\x00\\x00\\x00A\\n-\\n\\x0efavorite_books\\x12\\x1b\\n\\x19\\n\\x10machine learning\\n\\x05cc150\\n\\x0c\\n\\x03age\\x12\\x05\\x1a\\x03\\n\\x01*'\n",
      "b'\\n\\\\\\n\\x1d\\n\\x05hours\\x12\\x14\\x12\\x12\\n\\x10\\x00\\x00xA\\x00\\x00\\x10A\\x00\\x00\\xe0@\\x00\\x00\\x00A\\n-\\n\\x0efavorite_books\\x12\\x1b\\n\\x19\\n\\x10machine learning\\n\\x05cc150\\n\\x0c\\n\\x03age\\x12\\x05\\x1a\\x03\\n\\x01*'\n"
     ]
    }
   ],
   "source": [
    "dataset = tf.data.TFRecordDataset([filename_fullpath])\n",
    "\n",
    "for serialized_example_tensor in dataset:\n",
    "    print(serialized_example)"
   ]
  },
  {
   "cell_type": "code",
   "execution_count": 9,
   "metadata": {},
   "outputs": [
    {
     "name": "stdout",
     "output_type": "stream",
     "text": [
      "{'favorite_books': VarLenFeature(dtype=tf.string), 'hours': VarLenFeature(dtype=tf.float32), 'age': FixedLenFeature(shape=[], dtype=tf.int64, default_value=None)}\n"
     ]
    }
   ],
   "source": [
    "expected_features = {\n",
    "    \"favorite_books\": tf.io.VarLenFeature(dtype = tf.string), \n",
    "    \"hours\": tf.io.VarLenFeature(dtype = tf.float32), \n",
    "    \"age\": tf.io.FixedLenFeature([], dtype= tf.int64),\n",
    "}\n",
    "print(expected_features)"
   ]
  },
  {
   "cell_type": "code",
   "execution_count": 10,
   "metadata": {},
   "outputs": [
    {
     "name": "stdout",
     "output_type": "stream",
     "text": [
      "machine learning\n",
      "cc150\n",
      "machine learning\n",
      "cc150\n",
      "machine learning\n",
      "cc150\n"
     ]
    }
   ],
   "source": [
    "dataset = tf.data.TFRecordDataset([filename_fullpath])\n",
    "\n",
    "for serialized_example_tensor in dataset:\n",
    "    example = tf.io.parse_single_example(\n",
    "        serialized_example_tensor, \n",
    "        expected_features\n",
    "    )\n",
    "    books = tf.sparse.to_dense(example[\"favorite_books\"], \n",
    "                              default_value=\"b\")\n",
    "    for book in books:\n",
    "        print(book.numpy().decode('UTF-8'))\n",
    "    \n"
   ]
  },
  {
   "cell_type": "code",
   "execution_count": 11,
   "metadata": {},
   "outputs": [],
   "source": [
    "filename_fullpath_zip = filename_fullpath + '.zip'\n",
    "\n",
    "options = tf.io.TFRecordOptions(compression_type=\"GZIP\")\n",
    "\n",
    "with tf.io.TFRecordWriter(filename_fullpath_zip, options) as writer:\n",
    "    for i in range(3):\n",
    "        writer.write(serialized_example)"
   ]
  },
  {
   "cell_type": "code",
   "execution_count": 12,
   "metadata": {},
   "outputs": [
    {
     "name": "stdout",
     "output_type": "stream",
     "text": [
      "machine learning\n",
      "cc150\n",
      "machine learning\n",
      "cc150\n",
      "machine learning\n",
      "cc150\n"
     ]
    }
   ],
   "source": [
    "dataset = tf.data.TFRecordDataset([filename_fullpath_zip], \n",
    "                                 compression_type=\"GZIP\")\n",
    "\n",
    "for serialized_example_tensor in dataset:\n",
    "    example = tf.io.parse_single_example(\n",
    "        serialized_example_tensor, \n",
    "        expected_features\n",
    "    )\n",
    "    books = tf.sparse.to_dense(example[\"favorite_books\"], \n",
    "                              default_value=\"b\")\n",
    "    for book in books:\n",
    "        print(book.numpy().decode('UTF-8'))\n",
    "    \n"
   ]
  },
  {
   "cell_type": "code",
   "execution_count": 13,
   "metadata": {},
   "outputs": [
    {
     "name": "stdout",
     "output_type": "stream",
     "text": [
      "['./dataset/train_11.csv', './dataset/train_09.csv', './dataset/train_13.csv', './dataset/train_06.csv', './dataset/train_01.csv', './dataset/train_12.csv', './dataset/train_17.csv', './dataset/train_07.csv', './dataset/train_04.csv', './dataset/train_15.csv', './dataset/train_00.csv', './dataset/train_16.csv', './dataset/train_10.csv', './dataset/train_03.csv', './dataset/train_05.csv', './dataset/train_08.csv', './dataset/train_14.csv', './dataset/train_02.csv', './dataset/train_19.csv', './dataset/train_18.csv']\n"
     ]
    }
   ],
   "source": [
    "source_dir = './dataset/'\n",
    "def get_filenames_by_prefix(source_dir, prefix_name):\n",
    "    all_files = os.listdir(source_dir)\n",
    "    results = []\n",
    "    for filename in all_files:\n",
    "        if filename.startswith(prefix_name):\n",
    "            results.append(os.path.join(source_dir, filename))\n",
    "            \n",
    "    return results\n",
    "train_filenames = get_filenames_by_prefix(source_dir, \"train\")\n",
    "valid_filenames = get_filenames_by_prefix(source_dir, \"valid\")\n",
    "test_filenames = get_filenames_by_prefix(source_dir, \"test\")\n",
    "print(train_filenames)"
   ]
  },
  {
   "cell_type": "code",
   "execution_count": 14,
   "metadata": {},
   "outputs": [],
   "source": [
    "def parse_csv_line(line, n_fields = 9):\n",
    "    defs = [tf.constant(np.nan)] * n_fields\n",
    "    parsed_fields = tf.io.decode_csv(line, record_defaults=defs)\n",
    "    x = tf.stack(parsed_fields[0:-1])\n",
    "    y = tf.stack(parsed_fields[-1:])\n",
    "    return x, y\n",
    "\n",
    "def csv_reader_dataset(filenames, n_readers=5,\n",
    "                       batch_size=32, n_parse_threads=5,\n",
    "                       shuffle_buffer_size=10000):\n",
    "    dataset = tf.data.Dataset.list_files(filenames)\n",
    "    dataset = dataset.repeat()\n",
    "    dataset = dataset.interleave(\n",
    "        lambda filename: tf.data.TextLineDataset(filename).skip(1),\n",
    "        cycle_length = n_readers\n",
    "    )\n",
    "    dataset.shuffle(shuffle_buffer_size)\n",
    "    dataset = dataset.map(parse_csv_line,\n",
    "                          num_parallel_calls=n_parse_threads)\n",
    "    dataset = dataset.batch(batch_size)\n",
    "    return dataset\n",
    "\n",
    "batch_size = 32\n",
    "train_set = csv_reader_dataset(train_filenames,\n",
    "                               batch_size = batch_size)\n",
    "valid_set = csv_reader_dataset(valid_filenames,\n",
    "                               batch_size = batch_size)\n",
    "test_set = csv_reader_dataset(test_filenames,\n",
    "                              batch_size = batch_size)"
   ]
  },
  {
   "cell_type": "code",
   "execution_count": 15,
   "metadata": {},
   "outputs": [
    {
     "name": "stdout",
     "output_type": "stream",
     "text": [
      "<class 'tensorflow.python.data.ops.dataset_ops.DatasetV1Adapter'>\n"
     ]
    }
   ],
   "source": [
    "print(type(test_set))"
   ]
  },
  {
   "cell_type": "code",
   "execution_count": 16,
   "metadata": {},
   "outputs": [],
   "source": [
    "def serialize_example(x, y):\n",
    "    \"\"\"Converts x, y to tf.train.Example and serialize\"\"\"\n",
    "    input_feautres = tf.train.FloatList(value = x)\n",
    "    label = tf.train.FloatList(value = y)\n",
    "    features = tf.train.Features(\n",
    "        feature = {\n",
    "            \"input_features\": tf.train.Feature(\n",
    "                float_list = input_feautres),\n",
    "            \"label\": tf.train.Feature(float_list = label)\n",
    "        }\n",
    "    )\n",
    "    example = tf.train.Example(features = features)\n",
    "    return example.SerializeToString()"
   ]
  },
  {
   "cell_type": "code",
   "execution_count": 17,
   "metadata": {},
   "outputs": [],
   "source": [
    "def csv_dataset_to_tfrecords(base_filename, dataset, \n",
    "                            n_shards, steps_per_shard, \n",
    "                            compression_type= None):\n",
    "    \n",
    "    options = tf.io.TFRecordOptions(compression_type=compression_type)\n",
    "    \n",
    "    for shard_id in range(n_shards):\n",
    "        filename_fullpath = '{}_{:05d}-of-{:05d}'.format(\n",
    "            base_filename, shard_id, n_shards\n",
    "        )\n",
    "        all_filenames = []\n",
    "        with tf.io.TFRecordWriter(filename_fullpath, options) as writer:\n",
    "            \n",
    "            for x_batch, y_batch in dataset.take(steps_per_shard):\n",
    "                for x_example, y_example in zip(x_batch, y_batch):\n",
    "                    writer.write(serialize_example(x_example, y_example))\n",
    "    \n",
    "        all_filenames.append(filename_fullpath)\n",
    "    return all_filenames"
   ]
  },
  {
   "cell_type": "code",
   "execution_count": 23,
   "metadata": {},
   "outputs": [],
   "source": [
    "n_shards = 20\n",
    "train_steps_per_shard = 11610 // batch_size // n_shards\n",
    "valid_steps_per_shard = 3880 // batch_size // n_shards\n",
    "test_steps_per_shard = 5170 // batch_size // n_shards\n",
    "\n",
    "output_dir = \"./output/generate_tfrecords\"\n",
    "if not os.path.exists(output_dir):\n",
    "    os.mkdir(output_dir)\n",
    "\n",
    "train_basename = os.path.join(output_dir, \"train\")\n",
    "valid_basename = os.path.join(output_dir, \"valid\")\n",
    "test_basename = os.path.join(output_dir, \"test\")\n",
    "\n",
    "train_tfrecord_filenames = csv_dataset_to_tfrecords(\n",
    "    train_basename, train_set, n_shards, train_steps_per_shard, None)\n",
    "valid_tfrecord_filenames = csv_dataset_to_tfrecords(\n",
    "    valid_basename, valid_set, n_shards, valid_steps_per_shard, None)\n",
    "test_tfrecord_fielnames = csv_dataset_to_tfrecords(\n",
    "    test_basename, test_set, n_shards, test_steps_per_shard, None)"
   ]
  },
  {
   "cell_type": "code",
   "execution_count": 21,
   "metadata": {},
   "outputs": [
    {
     "name": "stdout",
     "output_type": "stream",
     "text": [
      "['generate_tfrecords/train_00019-of-00020']\n",
      "['generate_tfrecords/valid_00019-of-00020']\n",
      "['generate_tfrecords/test_00019-of-00020']\n"
     ]
    }
   ],
   "source": [
    "print(train_tfrecord_filenames)\n",
    "print(valid_tfrecord_filenames)\n",
    "print(test_tfrecord_fielnames)"
   ]
  },
  {
   "cell_type": "code",
   "execution_count": 24,
   "metadata": {},
   "outputs": [],
   "source": [
    "n_shards = 20\n",
    "train_steps_per_shard = 11610 // batch_size // n_shards\n",
    "valid_steps_per_shard = 3880 // batch_size // n_shards\n",
    "test_steps_per_shard = 5170 // batch_size // n_shards\n",
    "\n",
    "output_dir = \"./output/generate_tfrecords_zip\"\n",
    "if not os.path.exists(output_dir):\n",
    "    os.mkdir(output_dir)\n",
    "\n",
    "train_basename = os.path.join(output_dir, \"train\")\n",
    "valid_basename = os.path.join(output_dir, \"valid\")\n",
    "test_basename = os.path.join(output_dir, \"test\")\n",
    "\n",
    "train_tfrecord_filenames = csv_dataset_to_tfrecords(\n",
    "    train_basename, train_set, n_shards, train_steps_per_shard,\n",
    "    compression_type = \"GZIP\")\n",
    "valid_tfrecord_filenames = csv_dataset_to_tfrecords(\n",
    "    valid_basename, valid_set, n_shards, valid_steps_per_shard,\n",
    "    compression_type = \"GZIP\")\n",
    "test_tfrecord_fielnames = csv_dataset_to_tfrecords(\n",
    "    test_basename, test_set, n_shards, test_steps_per_shard,\n",
    "    compression_type = \"GZIP\")"
   ]
  },
  {
   "cell_type": "code",
   "execution_count": 25,
   "metadata": {},
   "outputs": [
    {
     "name": "stdout",
     "output_type": "stream",
     "text": [
      "tf.Tensor(\n",
      "[[-0.097193   -1.2497431   0.36232963  0.02690608  1.0338118   0.04588159\n",
      "   1.3418335  -1.635387  ]\n",
      " [-0.097193   -1.2497431   0.36232963  0.02690608  1.0338118   0.04588159\n",
      "   1.3418335  -1.635387  ]\n",
      " [-0.097193   -1.2497431   0.36232963  0.02690608  1.0338118   0.04588159\n",
      "   1.3418335  -1.635387  ]], shape=(3, 8), dtype=float32)\n",
      "tf.Tensor(\n",
      "[[1.832]\n",
      " [1.832]\n",
      " [1.832]], shape=(3, 1), dtype=float32)\n",
      "tf.Tensor(\n",
      "[[-0.097193   -1.2497431   0.36232963  0.02690608  1.0338118   0.04588159\n",
      "   1.3418335  -1.635387  ]\n",
      " [-0.097193   -1.2497431   0.36232963  0.02690608  1.0338118   0.04588159\n",
      "   1.3418335  -1.635387  ]\n",
      " [ 0.63034356  1.8741661  -0.06713215 -0.12543367 -0.19737554 -0.02272263\n",
      "  -0.69240725  0.72652334]], shape=(3, 8), dtype=float32)\n",
      "tf.Tensor(\n",
      "[[1.832]\n",
      " [1.832]\n",
      " [2.419]], shape=(3, 1), dtype=float32)\n",
      "tf.Tensor(\n",
      "[[ 0.63034356  1.8741661  -0.06713215 -0.12543367 -0.19737554 -0.02272263\n",
      "  -0.69240725  0.72652334]\n",
      " [ 0.63034356  1.8741661  -0.06713215 -0.12543367 -0.19737554 -0.02272263\n",
      "  -0.69240725  0.72652334]\n",
      " [ 0.63034356  1.8741661  -0.06713215 -0.12543367 -0.19737554 -0.02272263\n",
      "  -0.69240725  0.72652334]], shape=(3, 8), dtype=float32)\n",
      "tf.Tensor(\n",
      "[[2.419]\n",
      " [2.419]\n",
      " [2.419]], shape=(3, 1), dtype=float32)\n",
      "tf.Tensor(\n",
      "[[ 6.3034356e-01  1.8741661e+00 -6.7132145e-02 -1.2543367e-01\n",
      "  -1.9737554e-01 -2.2722632e-02 -6.9240725e-01  7.2652334e-01]\n",
      " [ 4.9710345e-02 -8.4924191e-01 -6.2146995e-02  1.7878747e-01\n",
      "  -8.0253541e-01  5.0660671e-04  6.4664572e-01 -1.1060793e+00]\n",
      " [ 4.9710345e-02 -8.4924191e-01 -6.2146995e-02  1.7878747e-01\n",
      "  -8.0253541e-01  5.0660671e-04  6.4664572e-01 -1.1060793e+00]], shape=(3, 8), dtype=float32)\n",
      "tf.Tensor(\n",
      "[[2.419]\n",
      " [2.286]\n",
      " [2.286]], shape=(3, 1), dtype=float32)\n",
      "tf.Tensor(\n",
      "[[ 4.9710345e-02 -8.4924191e-01 -6.2146995e-02  1.7878747e-01\n",
      "  -8.0253541e-01  5.0660671e-04  6.4664572e-01 -1.1060793e+00]\n",
      " [ 4.9710345e-02 -8.4924191e-01 -6.2146995e-02  1.7878747e-01\n",
      "  -8.0253541e-01  5.0660671e-04  6.4664572e-01 -1.1060793e+00]\n",
      " [ 4.9710345e-02 -8.4924191e-01 -6.2146995e-02  1.7878747e-01\n",
      "  -8.0253541e-01  5.0660671e-04  6.4664572e-01 -1.1060793e+00]], shape=(3, 8), dtype=float32)\n",
      "tf.Tensor(\n",
      "[[2.286]\n",
      " [2.286]\n",
      " [2.286]], shape=(3, 1), dtype=float32)\n",
      "tf.Tensor(\n",
      "[[ 0.40127665 -0.92934215 -0.0533305  -0.18659453  0.65456617  0.02643447\n",
      "   0.9312528  -1.4406418 ]\n",
      " [ 0.40127665 -0.92934215 -0.0533305  -0.18659453  0.65456617  0.02643447\n",
      "   0.9312528  -1.4406418 ]\n",
      " [ 0.40127665 -0.92934215 -0.0533305  -0.18659453  0.65456617  0.02643447\n",
      "   0.9312528  -1.4406418 ]], shape=(3, 8), dtype=float32)\n",
      "tf.Tensor(\n",
      "[[2.512]\n",
      " [2.512]\n",
      " [2.512]], shape=(3, 1), dtype=float32)\n",
      "tf.Tensor(\n",
      "[[ 0.40127665 -0.92934215 -0.0533305  -0.18659453  0.65456617  0.02643447\n",
      "   0.9312528  -1.4406418 ]\n",
      " [ 0.40127665 -0.92934215 -0.0533305  -0.18659453  0.65456617  0.02643447\n",
      "   0.9312528  -1.4406418 ]\n",
      " [ 0.63636464 -1.0895426   0.09260903 -0.20538124  1.2025671  -0.03630123\n",
      "  -0.6784102   0.18223535]], shape=(3, 8), dtype=float32)\n",
      "tf.Tensor(\n",
      "[[2.512]\n",
      " [2.512]\n",
      " [2.429]], shape=(3, 1), dtype=float32)\n",
      "tf.Tensor(\n",
      "[[ 0.63636464 -1.0895426   0.09260903 -0.20538124  1.2025671  -0.03630123\n",
      "  -0.6784102   0.18223535]\n",
      " [ 0.63636464 -1.0895426   0.09260903 -0.20538124  1.2025671  -0.03630123\n",
      "  -0.6784102   0.18223535]\n",
      " [ 0.63636464 -1.0895426   0.09260903 -0.20538124  1.2025671  -0.03630123\n",
      "  -0.6784102   0.18223535]], shape=(3, 8), dtype=float32)\n",
      "tf.Tensor(\n",
      "[[2.429]\n",
      " [2.429]\n",
      " [2.429]], shape=(3, 1), dtype=float32)\n",
      "tf.Tensor(\n",
      "[[ 0.63636464 -1.0895426   0.09260903 -0.20538124  1.2025671  -0.03630123\n",
      "  -0.6784102   0.18223535]\n",
      " [ 1.05347    -0.12833975  0.13509497 -0.28528678 -0.3706672  -0.01774404\n",
      "   0.7586222  -1.1510206 ]\n",
      " [ 1.05347    -0.12833975  0.13509497 -0.28528678 -0.3706672  -0.01774404\n",
      "   0.7586222  -1.1510206 ]], shape=(3, 8), dtype=float32)\n",
      "tf.Tensor(\n",
      "[[2.429]\n",
      " [2.674]\n",
      " [2.674]], shape=(3, 1), dtype=float32)\n",
      "tf.Tensor(\n",
      "[[ 1.05347    -0.12833975  0.13509497 -0.28528678 -0.3706672  -0.01774404\n",
      "   0.7586222  -1.1510206 ]\n",
      " [ 1.05347    -0.12833975  0.13509497 -0.28528678 -0.3706672  -0.01774404\n",
      "   0.7586222  -1.1510206 ]\n",
      " [ 1.05347    -0.12833975  0.13509497 -0.28528678 -0.3706672  -0.01774404\n",
      "   0.7586222  -1.1510206 ]], shape=(3, 8), dtype=float32)\n",
      "tf.Tensor(\n",
      "[[2.674]\n",
      " [2.674]\n",
      " [2.674]], shape=(3, 1), dtype=float32)\n"
     ]
    }
   ],
   "source": [
    "expected_features = {\n",
    "    \"input_features\": tf.io.FixedLenFeature([8], dtype=tf.float32),\n",
    "    \"label\": tf.io.FixedLenFeature([1], dtype=tf.float32)\n",
    "}\n",
    "\n",
    "def parse_example(serialized_example):\n",
    "    example = tf.io.parse_single_example(serialized_example,\n",
    "                                         expected_features)\n",
    "    return example[\"input_features\"], example[\"label\"]\n",
    "\n",
    "def tfrecords_reader_dataset(filenames, n_readers=5,\n",
    "                             batch_size=32, n_parse_threads=5,\n",
    "                             shuffle_buffer_size=10000):\n",
    "    dataset = tf.data.Dataset.list_files(filenames)\n",
    "    dataset = dataset.repeat()\n",
    "    dataset = dataset.interleave(\n",
    "        lambda filename: tf.data.TFRecordDataset(\n",
    "            filename, compression_type = \"GZIP\"),\n",
    "        cycle_length = n_readers\n",
    "    )\n",
    "    dataset.shuffle(shuffle_buffer_size)\n",
    "    dataset = dataset.map(parse_example,\n",
    "                          num_parallel_calls=n_parse_threads)\n",
    "    dataset = dataset.batch(batch_size)\n",
    "    return dataset\n",
    "\n",
    "tfrecords_train = tfrecords_reader_dataset(train_tfrecord_filenames,\n",
    "                                           batch_size = 3)\n",
    "for x_batch, y_batch in tfrecords_train.take(10):\n",
    "    print(x_batch)\n",
    "    print(y_batch)"
   ]
  },
  {
   "cell_type": "code",
   "execution_count": 26,
   "metadata": {},
   "outputs": [],
   "source": [
    "batch_size = 32\n",
    "tfrecords_train_set = tfrecords_reader_dataset(\n",
    "    train_tfrecord_filenames, batch_size = batch_size)\n",
    "tfrecords_valid_set = tfrecords_reader_dataset(\n",
    "    valid_tfrecord_filenames, batch_size = batch_size)\n",
    "tfrecords_test_set = tfrecords_reader_dataset(\n",
    "    test_tfrecord_fielnames, batch_size = batch_size)"
   ]
  },
  {
   "cell_type": "code",
   "execution_count": 27,
   "metadata": {},
   "outputs": [
    {
     "name": "stdout",
     "output_type": "stream",
     "text": [
      "Train for 348 steps, validate for 120 steps\n",
      "Epoch 1/100\n",
      "348/348 [==============================] - 2s 5ms/step - loss: nan - val_loss: nan\n",
      "Epoch 2/100\n",
      "348/348 [==============================] - 1s 3ms/step - loss: nan - val_loss: nan\n",
      "Epoch 3/100\n",
      "348/348 [==============================] - 1s 3ms/step - loss: nan - val_loss: nan\n",
      "Epoch 4/100\n",
      "348/348 [==============================] - 1s 3ms/step - loss: nan - val_loss: nan\n",
      "Epoch 5/100\n",
      "348/348 [==============================] - 1s 3ms/step - loss: nan - val_loss: nan\n"
     ]
    }
   ],
   "source": [
    "model = keras.models.Sequential([\n",
    "    keras.layers.Dense(30, activation='relu',\n",
    "                       input_shape=[8]),\n",
    "    keras.layers.Dense(1),\n",
    "])\n",
    "model.compile(loss=\"mean_squared_error\", optimizer=\"sgd\")\n",
    "callbacks = [keras.callbacks.EarlyStopping(\n",
    "    patience=5, min_delta=1e-2)]\n",
    "\n",
    "history = model.fit(tfrecords_train_set,\n",
    "                    validation_data = tfrecords_valid_set,\n",
    "                    steps_per_epoch = 11160 // batch_size,\n",
    "                    validation_steps = 3870 // batch_size,\n",
    "                    epochs = 100,\n",
    "                    callbacks = callbacks)"
   ]
  },
  {
   "cell_type": "code",
   "execution_count": null,
   "metadata": {},
   "outputs": [],
   "source": []
  }
 ],
 "metadata": {
  "kernelspec": {
   "display_name": "Python [conda env:tensorflow_p36]",
   "language": "python",
   "name": "conda-env-tensorflow_p36-py"
  },
  "language_info": {
   "codemirror_mode": {
    "name": "ipython",
    "version": 3
   },
   "file_extension": ".py",
   "mimetype": "text/x-python",
   "name": "python",
   "nbconvert_exporter": "python",
   "pygments_lexer": "ipython3",
   "version": "3.6.5"
  }
 },
 "nbformat": 4,
 "nbformat_minor": 2
}
